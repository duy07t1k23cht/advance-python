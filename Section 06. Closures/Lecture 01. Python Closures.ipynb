{
 "cells": [
  {
   "cell_type": "markdown",
   "id": "b43d7b95",
   "metadata": {},
   "source": [
    "# <a href=\"https://www.pythontutorial.net/advanced-python/python-closures/\" style=\"color:Tomato\">Python Closures</a>"
   ]
  },
  {
   "cell_type": "markdown",
   "id": "9cde7125",
   "metadata": {},
   "source": [
    "Trong bài này, ta sẽ học về Python closures và các ứng dụng thực tế của chúng."
   ]
  },
  {
   "cell_type": "markdown",
   "id": "bee5d4f4",
   "metadata": {},
   "source": [
    "### Tables of Contents\n",
    "* [Introduction to the Python closures](#1)\n",
    "* [Python cells and multi-scoped variables](#2)\n",
    "* [When Python creates the closure](#3)\n",
    "* [Python closures and for loop](#4)\n",
    "* [Summary](#sum)"
   ]
  },
  {
   "cell_type": "markdown",
   "id": "a3a0cec1",
   "metadata": {},
   "source": [
    "## <a class=\"anchor\" id=\"1\">Introduction to the Python closures</a>"
   ]
  },
  {
   "cell_type": "markdown",
   "id": "f9f228c8",
   "metadata": {},
   "source": [
    "Trong Python, ta có thể định nghĩa các hàm ở bên trong một hàm khác. Đây được gọi là _nested function_. Ví dụ:"
   ]
  },
  {
   "cell_type": "code",
   "execution_count": 1,
   "id": "c9e99cbc",
   "metadata": {},
   "outputs": [],
   "source": [
    "def say():\n",
    "    greeting = 'Hello'\n",
    "\n",
    "    def display():\n",
    "        print(greeting)\n",
    "\n",
    "    display()"
   ]
  },
  {
   "cell_type": "markdown",
   "id": "051f91a9",
   "metadata": {},
   "source": [
    "Trong ví dụ này, ta định nghĩa hàm `display()` bên trong hàm `say()`. Hàm `display()` được gọi là nested function."
   ]
  },
  {
   "cell_type": "markdown",
   "id": "d2ea116e",
   "metadata": {},
   "source": [
    "Ở trong hàm `display()`, ta truy cập vào biến `greeting` từ nonlocal scope. Python gọi biến `greeting` này là biến free (_free variable_)."
   ]
  },
  {
   "cell_type": "markdown",
   "id": "5a7b4d20",
   "metadata": {},
   "source": [
    "Khi nhìn vào hàm `display()`, thực ra là ta nhìn vào:\n",
    "- Bản thân hàm `display()`\n",
    "- Biến free `greeting` với giá trị là `'Hello'`"
   ]
  },
  {
   "cell_type": "markdown",
   "id": "c27a87b3",
   "metadata": {},
   "source": [
    "Sự kết hợp giữa hàm `display()` và biến `greeting` trong trường hợp này gọi là một _closure_.\n",
    "![](https://www.pythontutorial.net/wp-content/uploads/2020/11/Python-Closure-Example.png)"
   ]
  },
  {
   "cell_type": "markdown",
   "id": "aa42c494",
   "metadata": {},
   "source": [
    "**Định nghĩa:** <span style=\"color:DarkOrange\">Một **closure** là một nested function và tham chiếu tới một hoặc nhiều biến ở scope bao quanh nó</span>."
   ]
  },
  {
   "cell_type": "markdown",
   "id": "10302dd5",
   "metadata": {},
   "source": [
    "Trong Python, một function có thể trả về giá trị là một function khác. Ví dụ:"
   ]
  },
  {
   "cell_type": "code",
   "execution_count": 2,
   "id": "c79fc796",
   "metadata": {},
   "outputs": [],
   "source": [
    "def say():\n",
    "    greeting = 'Hello'\n",
    "\n",
    "    def display():\n",
    "        print(greeting)\n",
    "\n",
    "    return display    \n"
   ]
  },
  {
   "cell_type": "markdown",
   "id": "42cdd749",
   "metadata": {},
   "source": [
    "Trong ví dụ này, hàm `say()` trả về hàm `display` thay vì thực thi nó."
   ]
  },
  {
   "cell_type": "markdown",
   "id": "ac111dfc",
   "metadata": {},
   "source": [
    "Khi hàm `say()` trả về hàm `display`, thực ra nó trả về closure của hàm `display`.\n",
    "![](https://www.pythontutorial.net/wp-content/uploads/2020/11/Python-Closures.png)"
   ]
  },
  {
   "cell_type": "markdown",
   "id": "b1228278",
   "metadata": {},
   "source": [
    "Phép gán sau thực hiện gán giá trị của hàm `say()` vào biến `fn`. Vì `fn` cũng là một hàm, nên ta có thể thực thi nó:"
   ]
  },
  {
   "cell_type": "code",
   "execution_count": 3,
   "id": "d9f33114",
   "metadata": {},
   "outputs": [
    {
     "name": "stdout",
     "output_type": "stream",
     "text": [
      "Hello\n"
     ]
    }
   ],
   "source": [
    "fn = say()\n",
    "fn()"
   ]
  },
  {
   "cell_type": "markdown",
   "id": "0a877514",
   "metadata": {},
   "source": [
    "Hàm `say()` thực thi và return một function. Khi hàm `fn()` được thực thi, hàm `say()` thực tế đã được thực thi xong."
   ]
  },
  {
   "cell_type": "markdown",
   "id": "824cecdc",
   "metadata": {},
   "source": [
    "Nói cách khác, scope của hàm `say()` đã hoàn toàn biến mất khi hàm `fn()` được thực thi. Vì biến `greeting` thuộc về scope của hàm `say()` nên nó cũng bị biến mất theo."
   ]
  },
  {
   "cell_type": "markdown",
   "id": "2a6f99f2",
   "metadata": {},
   "source": [
    "Tuy nhiên bạn vẫn sẽ thấy `fn` trả về được kết quả."
   ]
  },
  {
   "cell_type": "markdown",
   "id": "bae96cc1",
   "metadata": {},
   "source": [
    "## <a class=\"anchor\" id=\"2\">Python cells and multi-scoped variables</a>"
   ]
  },
  {
   "cell_type": "markdown",
   "id": "d3b988ec",
   "metadata": {},
   "source": [
    "Giá trị của biến `greeting` được chia sẻ giữa 2 scopes:\n",
    "- Hàm `say()`\n",
    "- Closure"
   ]
  },
  {
   "cell_type": "markdown",
   "id": "99648e16",
   "metadata": {},
   "source": [
    "Tên biến `greeting` nằm ở 2 scopes khác nhau, tuy nhiên chúng sẽ tham chiếu tới cùng một object với giá trị là `'Hello'`."
   ]
  },
  {
   "cell_type": "markdown",
   "id": "28ebe9bb",
   "metadata": {},
   "source": [
    "Để làm được như vậy, Python tạo ra một object trung gian được gọi là `cell`.\n",
    "![](https://www.pythontutorial.net/wp-content/uploads/2022/06/Python-Closures.svg)"
   ]
  },
  {
   "cell_type": "markdown",
   "id": "a7361d65",
   "metadata": {},
   "source": [
    "Để lấy địa chỉ bộ nhớ của object `cell`, ta sử dụng thuộc tính `__closure__` như sau:"
   ]
  },
  {
   "cell_type": "code",
   "execution_count": 4,
   "id": "1f98cba0",
   "metadata": {},
   "outputs": [
    {
     "name": "stdout",
     "output_type": "stream",
     "text": [
      "(<cell at 0x1068ada20: str object at 0x105ca7d30>,)\n"
     ]
    }
   ],
   "source": [
    "print(fn.__closure__)"
   ]
  },
  {
   "cell_type": "markdown",
   "id": "a80e3d75",
   "metadata": {},
   "source": [
    "Thuộc tính `__closure__` trả về một tuple các cells."
   ]
  },
  {
   "cell_type": "markdown",
   "id": "d0a7da3c",
   "metadata": {},
   "source": [
    "Như trong ví dụ được minh hoạ trong ảnh, địa chỉ của cell là `0x0000017184915C40`, và nó tham chiếu đến một string object có địa chỉ `0x0000017186A829B0`."
   ]
  },
  {
   "cell_type": "markdown",
   "id": "ef9fc36a",
   "metadata": {},
   "source": [
    "Nếu ta in ra địa chỉ của string object ở bên trong hàm `say()` và bên trong closure, ta sẽ thấy chúng tham chiếu tới cùng một object trong bộ nhớ:"
   ]
  },
  {
   "cell_type": "code",
   "execution_count": 5,
   "id": "c00f8e19",
   "metadata": {},
   "outputs": [
    {
     "name": "stdout",
     "output_type": "stream",
     "text": [
      "0x105ca7d30\n",
      "0x105ca7d30\n",
      "Hello\n"
     ]
    }
   ],
   "source": [
    "def say():\n",
    "    greeting = 'Hello'\n",
    "    print(hex(id(greeting)))\n",
    "\n",
    "    def display():\n",
    "        print(hex(id(greeting)))\n",
    "        print(greeting)\n",
    "\n",
    "    return display\n",
    "\n",
    "\n",
    "fn = say()\n",
    "fn()\n"
   ]
  },
  {
   "cell_type": "markdown",
   "id": "fce0bbf5",
   "metadata": {},
   "source": [
    "Khi ta truy cập vào giá trị của biến `greeting`, Python sẽ thực hiện \"tham chiếu hai lần\" tới giá trị của string object. Điều này giải thích tại sao khi hàm `say()` nằm ngoài scope, ta vẫn có thể tham chiếu được string object được tham chiếu bởi biến `greeting`."
   ]
  },
  {
   "cell_type": "markdown",
   "id": "ea2a6d4f",
   "metadata": {},
   "source": [
    "Với cơ chế này, ta có thể hình dung closure là một hàm với scope được mở rộng để chứa thêm các free variables."
   ]
  },
  {
   "cell_type": "markdown",
   "id": "ef119840",
   "metadata": {},
   "source": [
    "Để xem closure đang chứa những variable nào, ta dùng thuộc tính `__code__.co_freevars`. Ví dụ:"
   ]
  },
  {
   "cell_type": "code",
   "execution_count": 6,
   "id": "9c4f1163",
   "metadata": {},
   "outputs": [
    {
     "name": "stdout",
     "output_type": "stream",
     "text": [
      "('greeting',)\n"
     ]
    }
   ],
   "source": [
    "def say():\n",
    "\n",
    "    greeting = 'Hello'\n",
    "\n",
    "    def display():\n",
    "        print(greeting)\n",
    "\n",
    "    return display\n",
    "\n",
    "\n",
    "fn = say()\n",
    "print(fn.__code__.co_freevars)"
   ]
  },
  {
   "cell_type": "markdown",
   "id": "dea73ea9",
   "metadata": {},
   "source": [
    "Ta thấy `__code__.co_freevars` trả về free variable `greeting` của closure `fn`."
   ]
  },
  {
   "cell_type": "markdown",
   "id": "c1f488d9",
   "metadata": {},
   "source": [
    "## <a class=\"anchor\" id=\"3\">When Python creates the closure</a>"
   ]
  },
  {
   "cell_type": "markdown",
   "id": "86e120d4",
   "metadata": {},
   "source": [
    "Python tạo một scope mới khi một hàm được thực thi. Nếu hàm đó tạo ra một closure, Python cũng sẽ tạo ra một closure mới."
   ]
  },
  {
   "cell_type": "markdown",
   "id": "f30fd396",
   "metadata": {},
   "source": [
    "Ta xem ví dụ sau:"
   ]
  },
  {
   "cell_type": "markdown",
   "id": "1d104cce",
   "metadata": {},
   "source": [
    "Đầu tiên, định nghĩa một function `multiplier()` trả về một closure:"
   ]
  },
  {
   "cell_type": "code",
   "execution_count": 7,
   "id": "48d2f339",
   "metadata": {},
   "outputs": [],
   "source": [
    "def multiplier(x):\n",
    "    def multiply(y):\n",
    "        return x * y\n",
    "    return multiply"
   ]
  },
  {
   "cell_type": "markdown",
   "id": "2c07aced",
   "metadata": {},
   "source": [
    "Hàm `multiplier()` trả về phép nhân của hai tham số. Tuy nhiên nó sử dụng closure."
   ]
  },
  {
   "cell_type": "markdown",
   "id": "95018550",
   "metadata": {},
   "source": [
    "Tiếp theo, ta gọi hàm `multiplier()` 3 lần:"
   ]
  },
  {
   "cell_type": "code",
   "execution_count": 8,
   "id": "3476bc7d",
   "metadata": {},
   "outputs": [],
   "source": [
    "m1 = multiplier(1)\n",
    "m2 = multiplier(2)\n",
    "m3 = multiplier(3)"
   ]
  },
  {
   "cell_type": "markdown",
   "id": "777b7752",
   "metadata": {},
   "source": [
    "Việc này tạo ra 3 closures, mỗi closure nhân một số với lần lượt `1`, `2`, `3`."
   ]
  },
  {
   "cell_type": "markdown",
   "id": "e1e4865f",
   "metadata": {},
   "source": [
    "Giờ ta thực thi các hàm của các closures đấy:"
   ]
  },
  {
   "cell_type": "code",
   "execution_count": 9,
   "id": "b1caf257",
   "metadata": {},
   "outputs": [
    {
     "name": "stdout",
     "output_type": "stream",
     "text": [
      "10\n",
      "20\n",
      "30\n"
     ]
    }
   ],
   "source": [
    "print(m1(10))\n",
    "print(m2(10))\n",
    "print(m3(10))"
   ]
  },
  {
   "cell_type": "markdown",
   "id": "407d57ab",
   "metadata": {},
   "source": [
    "`m1`, `m2`, `m3` là các instance khác nhau của closure."
   ]
  },
  {
   "cell_type": "markdown",
   "id": "f7e2b824",
   "metadata": {},
   "source": [
    "## <a class=\"anchor\" id=\"4\">Python closures and for loop</a>"
   ]
  },
  {
   "cell_type": "markdown",
   "id": "830048a2",
   "metadata": {},
   "source": [
    "Giả sử ta muốn tạo ra cả 3 closures phía trên chỉ với một lần bằng cách sử dụng vòng lặp:"
   ]
  },
  {
   "cell_type": "code",
   "execution_count": 10,
   "id": "74e74d96",
   "metadata": {},
   "outputs": [
    {
     "name": "stdout",
     "output_type": "stream",
     "text": [
      "30\n",
      "30\n",
      "30\n"
     ]
    }
   ],
   "source": [
    "multipliers = []\n",
    "for x in range(1, 4):\n",
    "    multipliers.append(lambda y: x * y)\n",
    "\n",
    "m1, m2, m3 = multipliers\n",
    "\n",
    "print(m1(10))\n",
    "print(m2(10))\n",
    "print(m3(10))\n"
   ]
  },
  {
   "cell_type": "markdown",
   "id": "373db532",
   "metadata": {},
   "source": [
    "Ở đây ta sử dụng `lambda expression` để tạo ra closure và thêm closure đó vào trong list `multipliers` sau mỗi bước lặp."
   ]
  },
  {
   "cell_type": "markdown",
   "id": "764d900c",
   "metadata": {},
   "source": [
    "Nó không in ra `10`, `20`, `30` như ta mong muốn."
   ]
  },
  {
   "cell_type": "markdown",
   "id": "bd636837",
   "metadata": {},
   "source": [
    "Ở đây, biến `x` lặp từ `1` đến `3`. Sau vòng lặp, `x` là `3`."
   ]
  },
  {
   "cell_type": "markdown",
   "id": "691a2a90",
   "metadata": {},
   "source": [
    "Mỗi phần tử của list là closure:\n",
    "```python\n",
    "lambda y: x * y\n",
    "```"
   ]
  },
  {
   "cell_type": "markdown",
   "id": "93c741cc",
   "metadata": {},
   "source": [
    "Python sẽ sử dụng biến `x` mỗi khi ta gọi closure này. Ở đây `x` là `3` nên khi ta gọi closure, nó cứ sử dụng `x` là `3`."
   ]
  },
  {
   "cell_type": "markdown",
   "id": "d44b2889",
   "metadata": {},
   "source": [
    "Đấy là lý do tại sao cả 3 kết quả đều là `30`."
   ]
  },
  {
   "cell_type": "markdown",
   "id": "358cf987",
   "metadata": {},
   "source": [
    "Để khắc phục, ta sẽ chỉ cho Python biết là phải sử dụng biến `x` ở bên trong vòng lặp:"
   ]
  },
  {
   "cell_type": "code",
   "execution_count": 11,
   "id": "7491acd0",
   "metadata": {},
   "outputs": [
    {
     "name": "stdout",
     "output_type": "stream",
     "text": [
      "10\n",
      "20\n",
      "30\n"
     ]
    }
   ],
   "source": [
    "def multiplier(x):\n",
    "    def multiply(y):\n",
    "        return x * y\n",
    "    return multiply\n",
    "\n",
    "\n",
    "multipliers = []\n",
    "for x in range(1, 4):\n",
    "    multipliers.append(multiplier(x))\n",
    "\n",
    "m1, m2, m3 = multipliers\n",
    "\n",
    "print(m1(10))\n",
    "print(m2(10))\n",
    "print(m3(10))\n"
   ]
  },
  {
   "cell_type": "markdown",
   "id": "17c6018a",
   "metadata": {},
   "source": [
    "## <a class=\"anchor\" id=\"sum\" style=\"color:Violet\"> Tổng kết </a>"
   ]
  },
  {
   "cell_type": "markdown",
   "id": "0fc4a321",
   "metadata": {},
   "source": [
    "Closure là một hàm với scope được mở rộng để chứa thêm các free variables."
   ]
  }
 ],
 "metadata": {
  "kernelspec": {
   "display_name": "Python 3 (ipykernel)",
   "language": "python",
   "name": "python3"
  },
  "language_info": {
   "codemirror_mode": {
    "name": "ipython",
    "version": 3
   },
   "file_extension": ".py",
   "mimetype": "text/x-python",
   "name": "python",
   "nbconvert_exporter": "python",
   "pygments_lexer": "ipython3",
   "version": "3.10.9"
  }
 },
 "nbformat": 4,
 "nbformat_minor": 5
}
