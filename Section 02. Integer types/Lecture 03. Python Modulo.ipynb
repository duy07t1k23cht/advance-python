{
 "cells": [
  {
   "cell_type": "markdown",
   "id": "b43d7b95",
   "metadata": {},
   "source": [
    "# <a href=\"https://www.pythontutorial.net/advanced-python/python-modulo/\" style=\"color:Tomato\">Python Modulo</a>"
   ]
  },
  {
   "cell_type": "markdown",
   "id": "b77c5b95",
   "metadata": {},
   "source": [
    "Ở bài này, ta sẽ học về phép toán chia lấy dư (*modulo*) và toán tử `%` trong Python."
   ]
  },
  {
   "cell_type": "markdown",
   "id": "bee5d4f4",
   "metadata": {},
   "source": [
    "### Tables of Contents\n",
    "* [Introduction to the Python modulo operator](#1)\n",
    "* [Simple Python modulo operator examples](#2)\n",
    "* [Practical Python modulo operator examples](#3)\n",
    "    - [1) Using the modulo operator to check if a number is even or odd](#3.1)\n",
    "    - [2) Using the modulo operator to convert units](#3.2)\n",
    "* [Summary](#sum)"
   ]
  },
  {
   "cell_type": "markdown",
   "id": "a3a0cec1",
   "metadata": {},
   "source": [
    "## <a class=\"anchor\" id=\"1\">Introduction to the Python modulo operator</a>"
   ]
  },
  {
   "cell_type": "markdown",
   "id": "cba67eab",
   "metadata": {},
   "source": [
    "Python sử dụng ký hiệu `%` để biểu thị phép toán chia lấy dư. Phép toán chia lấy dư luôn thoả mãn phương trình sau:"
   ]
  },
  {
   "cell_type": "markdown",
   "id": "2d97cd75",
   "metadata": {},
   "source": [
    "```\n",
    "N = D * ( N // D) + (N % D)\n",
    "```"
   ]
  },
  {
   "cell_type": "markdown",
   "id": "332f68a9",
   "metadata": {},
   "source": [
    "Trong đó `N` và `D` là các số nguyên dương."
   ]
  },
  {
   "cell_type": "markdown",
   "id": "4ed512e9",
   "metadata": {},
   "source": [
    "## <a class=\"anchor\" id=\"2\">Simple Python modulo operator examples</a>"
   ]
  },
  {
   "cell_type": "markdown",
   "id": "6ef457d6",
   "metadata": {},
   "source": [
    "Ví dụ sau minh hoạ phép toán chia lấy dư và toán tử `%` trong Python:"
   ]
  },
  {
   "cell_type": "code",
   "execution_count": 1,
   "id": "1db2d45e",
   "metadata": {},
   "outputs": [
    {
     "name": "stdout",
     "output_type": "stream",
     "text": [
      "16 % 5 = 1\n",
      "16 // 5 = 3\n"
     ]
    }
   ],
   "source": [
    "a = 16\n",
    "b = 5\n",
    "\n",
    "m = a % b\n",
    "f = a // b\n",
    "\n",
    "# show the result\n",
    "\n",
    "print(f'{a} % {b} = {m}')  # 1\n",
    "print(f'{a} // {b} = {f}')  # 3"
   ]
  },
  {
   "cell_type": "markdown",
   "id": "e8c99b4a",
   "metadata": {},
   "source": [
    "Một ví dụ khác với số âm:"
   ]
  },
  {
   "cell_type": "code",
   "execution_count": 2,
   "id": "1bc96fb1",
   "metadata": {},
   "outputs": [
    {
     "name": "stdout",
     "output_type": "stream",
     "text": [
      "-16 % 5 = 4\n",
      "-16 // 5 = -4\n"
     ]
    }
   ],
   "source": [
    "a = -16\n",
    "b = 5\n",
    "\n",
    "m = a % b\n",
    "f = a // b\n",
    "\n",
    "# show the result\n",
    "\n",
    "print(f'{a} % {b} = {m}')  # 4\n",
    "print(f'{a} // {b} = {f}')  # -4"
   ]
  },
  {
   "cell_type": "markdown",
   "id": "d0ec79e0",
   "metadata": {},
   "source": [
    "## <a class=\"anchor\" id=\"3\">Practical Python modulo operator examples</a>"
   ]
  },
  {
   "cell_type": "markdown",
   "id": "b8605ca7",
   "metadata": {},
   "source": [
    "Hãy thử một số ví dụ thực tế."
   ]
  },
  {
   "cell_type": "markdown",
   "id": "1639bef9",
   "metadata": {},
   "source": [
    "### <a class=\"anchor\" id=\"3.1\">1) Using the modulo operator to check if a number is even or odd</a>"
   ]
  },
  {
   "cell_type": "code",
   "execution_count": 3,
   "id": "4750d4f7",
   "metadata": {},
   "outputs": [],
   "source": [
    "def is_even(num):\n",
    "    return num % 2 == 0\n"
   ]
  },
  {
   "cell_type": "markdown",
   "id": "9698e2e6",
   "metadata": {},
   "source": [
    "### <a class=\"anchor\" id=\"3.2\">2) Using the modulo operator to convert units</a>\n"
   ]
  },
  {
   "cell_type": "markdown",
   "id": "7f756f75",
   "metadata": {},
   "source": [
    "Ví dụ sau chuyển đổi số giây thành ngày, giờ, phút, giây."
   ]
  },
  {
   "cell_type": "code",
   "execution_count": 4,
   "id": "51b628c7",
   "metadata": {},
   "outputs": [
    {
     "name": "stdout",
     "output_type": "stream",
     "text": [
      "{'days': 1, 'hours': 2, 'minutes': 2, 'seconds': 30}\n"
     ]
    }
   ],
   "source": [
    "from math import floor\n",
    "\n",
    "\n",
    "def get_time(total_seconds):\n",
    "    return {\n",
    "        'days': floor(total_seconds / 60 / 60 / 24),\n",
    "        'hours': floor(total_seconds / 60 / 60) % 24,\n",
    "        'minutes': floor(total_seconds / 60) % 60,\n",
    "        'seconds': total_seconds % 60,\n",
    "    }\n",
    "\n",
    "\n",
    "print(get_time(93750))"
   ]
  },
  {
   "cell_type": "markdown",
   "id": "17c6018a",
   "metadata": {},
   "source": [
    "## <a class=\"anchor\" id=\"sum\" style=\"color:Violet\"> Tổng kết </a>"
   ]
  },
  {
   "cell_type": "markdown",
   "id": "3dc3e6a9",
   "metadata": {},
   "source": [
    "- Python sử dụng toán tử `%` cho phép chia lấy dư\n",
    "- Phép toán chia lấy dư với số nguyên dương thoả mãn phương trình `N = D * ( N // D) + (N % D)`"
   ]
  }
 ],
 "metadata": {
  "kernelspec": {
   "display_name": "Python 3 (ipykernel)",
   "language": "python",
   "name": "python3"
  },
  "language_info": {
   "codemirror_mode": {
    "name": "ipython",
    "version": 3
   },
   "file_extension": ".py",
   "mimetype": "text/x-python",
   "name": "python",
   "nbconvert_exporter": "python",
   "pygments_lexer": "ipython3",
   "version": "3.10.9"
  }
 },
 "nbformat": 4,
 "nbformat_minor": 5
}
