{
 "cells": [
  {
   "cell_type": "markdown",
   "id": "b43d7b95",
   "metadata": {},
   "source": [
    "# <a href=\"https://www.pythontutorial.net/advanced-python/python-bool/\" style=\"color:Tomato\">Python bool</a>"
   ]
  },
  {
   "cell_type": "markdown",
   "id": "b49054d7",
   "metadata": {},
   "source": [
    "Ở bài này, ta sẽ tìm hiểu sâu hơn về class `bool` trong Python và cách để sử dụng các giá trị `bool` một cách hiệu quả."
   ]
  },
  {
   "cell_type": "markdown",
   "id": "bee5d4f4",
   "metadata": {},
   "source": [
    "### Tables of Contents\n",
    "* [Introduction to the Python `bool` class](#1)\n",
    "* [Comparing boolean values](#2)\n",
    "* [How Python `bool()` constructor works under the hood](#3)\n",
    "    - [The `__bool__()` method](#3.1)\n",
    "    - [The `__len__()` method](#3.2)\n",
    "* [Summary](#sum)"
   ]
  },
  {
   "cell_type": "markdown",
   "id": "a3a0cec1",
   "metadata": {},
   "source": [
    "## <a class=\"anchor\" id=\"1\">Introduction to the Python `bool` class</a>"
   ]
  },
  {
   "cell_type": "markdown",
   "id": "640b63ff",
   "metadata": {},
   "source": [
    "<span style=\"color:DarkOrange\">Class `bool` là một subclass của class `int`</span>. Có nghĩa là class `bool` thừa kế mọi thuộc tính của class `int`. Ngoài ra, class `bool` còn có thêm một số thao tác liên quan đến các giá trị và toán tử `bool`."
   ]
  },
  {
   "cell_type": "markdown",
   "id": "8a98cdd4",
   "metadata": {},
   "source": [
    "Nếu dùng hàm `issubclass()` với class `bool` và `int`, ta sẽ nhận về giá trị `True`."
   ]
  },
  {
   "cell_type": "code",
   "execution_count": 1,
   "id": "2f694b06",
   "metadata": {},
   "outputs": [
    {
     "name": "stdout",
     "output_type": "stream",
     "text": [
      "True\n"
     ]
    }
   ],
   "source": [
    "is_child_class = issubclass(bool, int)\n",
    "print(is_child_class)"
   ]
  },
  {
   "cell_type": "markdown",
   "id": "0d0b1798",
   "metadata": {},
   "source": [
    "<span style=\"color:DarkOrange\">`True` và `False` objects là 2 objects duy nhất thuộc class `bool`</span>. Ví dụ sau sử dụng hàm `isinstance()` để kiểm tra `True` và `False` có phải là object của class `bool` hay không."
   ]
  },
  {
   "cell_type": "code",
   "execution_count": 2,
   "id": "f9390d89",
   "metadata": {},
   "outputs": [
    {
     "data": {
      "text/plain": [
       "True"
      ]
     },
     "execution_count": 2,
     "metadata": {},
     "output_type": "execute_result"
    }
   ],
   "source": [
    "isinstance(True, bool)\n",
    "isinstance(False, bool)"
   ]
  },
  {
   "cell_type": "markdown",
   "id": "d78be9ba",
   "metadata": {},
   "source": [
    "Vì `True` và `False` cũng là những object kiểu `int`, bạn có thể convert chúng thành số nguyên:"
   ]
  },
  {
   "cell_type": "code",
   "execution_count": 3,
   "id": "e181148d",
   "metadata": {},
   "outputs": [
    {
     "name": "stdout",
     "output_type": "stream",
     "text": [
      "1\n",
      "0\n"
     ]
    }
   ],
   "source": [
    "true_value = int(True)\n",
    "print(true_value)\n",
    "\n",
    "false_value = int(False)\n",
    "print(false_value)"
   ]
  },
  {
   "cell_type": "markdown",
   "id": "ac5e5a0b",
   "metadata": {},
   "source": [
    "<span style=\"color:Red\">**Lưu ý:**</span> `True` và `1` không phải là cùng một object. Tương tự thì `False` và `0` cũng vậy."
   ]
  },
  {
   "cell_type": "markdown",
   "id": "7837eb33",
   "metadata": {},
   "source": [
    "## <a class=\"anchor\" id=\"2\">Comparing boolean values</a>"
   ]
  },
  {
   "cell_type": "markdown",
   "id": "5bdb49a7",
   "metadata": {},
   "source": [
    "Vì `True` và `False` là 2 objects duy nhất của class `bool` nên <span style=\"color:DarkOrange\">các biến có cùng giá trị boolean sẽ đều tham chiếu tới cùng một object</span>."
   ]
  },
  {
   "cell_type": "markdown",
   "id": "cc172c55",
   "metadata": {},
   "source": [
    "Do đó, khi dùng toán tử `is` hay `==` để so sánh các giá trị boolean, ta sẽ đều nhận được cùng một kết quả."
   ]
  },
  {
   "cell_type": "code",
   "execution_count": 4,
   "id": "a1e8a94b",
   "metadata": {},
   "outputs": [
    {
     "name": "stdout",
     "output_type": "stream",
     "text": [
      "True\n",
      "True\n"
     ]
    }
   ],
   "source": [
    "a = True\n",
    "b = True\n",
    "\n",
    "print(a == b)\n",
    "print(a is b)"
   ]
  },
  {
   "cell_type": "markdown",
   "id": "052b0e95",
   "metadata": {},
   "source": [
    "## <a class=\"anchor\" id=\"3\">How Python `bool()` constructor works under the hood</a>"
   ]
  },
  {
   "cell_type": "markdown",
   "id": "affebe81",
   "metadata": {},
   "source": [
    "Hàm khởi tạo `bool()` nhận vào một object và trả về `True` hoặc `False`."
   ]
  },
  {
   "cell_type": "markdown",
   "id": "4617314f",
   "metadata": {},
   "source": [
    "Trong Python, mọi class đều có một hàm định nghĩa instance của nó là `True` hay `False`. Nói cách khác, mọi object đều có thể là `True` hoặc `False`."
   ]
  },
  {
   "cell_type": "markdown",
   "id": "bda90377",
   "metadata": {},
   "source": [
    "Tất cả object đều có bía trị boolean là `True` ngoại trừ:\n",
    "- `None`\n",
    "- `False`\n",
    "- `0` đối với bất kỳ kiểu dữ liệu số nào\n",
    "- Các sequences rỗng như list, tuple, string\n",
    "- Empty sequences e.g., list, tuple, string.\n",
    "- Empty mapping types e.g., dictionary, set.\n",
    "- Các class có hàm `__bool__()` hay `__len()__` trả về `False` hoặc `0`."
   ]
  },
  {
   "cell_type": "markdown",
   "id": "2ed6322e",
   "metadata": {},
   "source": [
    "### <a class=\"anchor\" id=\"3.1\">The `__bool__()` method</a>"
   ]
  },
  {
   "cell_type": "markdown",
   "id": "19f12428",
   "metadata": {},
   "source": [
    "Khi bạn truyền một object vào hàm khởi tạo `bool()`, Python sẽ trả về giá trị của hàm `__bool__()` của object đó."
   ]
  },
  {
   "cell_type": "markdown",
   "id": "4c1242af",
   "metadata": {},
   "source": [
    "Ví dụ sau là hàm `__bool__()` của class `int`:"
   ]
  },
  {
   "cell_type": "code",
   "execution_count": 5,
   "id": "359259a4",
   "metadata": {},
   "outputs": [],
   "source": [
    "def __bool__(self):\n",
    "    return self != 0"
   ]
  },
  {
   "cell_type": "markdown",
   "id": "60277550",
   "metadata": {},
   "source": [
    "Khi gọi\n",
    "```python\n",
    "bool(200)\n",
    "```"
   ]
  },
  {
   "cell_type": "markdown",
   "id": "e8d218fa",
   "metadata": {},
   "source": [
    "Python sẽ thực hiện\n",
    "```python\n",
    "200.__bool__()\n",
    "```"
   ]
  },
  {
   "cell_type": "markdown",
   "id": "5e3095f1",
   "metadata": {},
   "source": [
    "Và sẽ trả về giá trị `200 != 0`, tức là `True`."
   ]
  },
  {
   "cell_type": "markdown",
   "id": "1d908c0f",
   "metadata": {},
   "source": [
    "Tương tự, nếu gọi:\n",
    "```\n",
    "bool(0)\n",
    "```"
   ]
  },
  {
   "cell_type": "markdown",
   "id": "3faf5d8f",
   "metadata": {},
   "source": [
    "thì ta sẽ được giá trị `False`."
   ]
  },
  {
   "cell_type": "markdown",
   "id": "29ce586f",
   "metadata": {},
   "source": [
    "### <a class=\"anchor\" id=\"3.2\">The `__len__()` method</a>"
   ]
  },
  {
   "cell_type": "markdown",
   "id": "dac2c3df",
   "metadata": {},
   "source": [
    "Nếu class của object không có hàm `__bool__()`, Python sẽ sử dụng hàm `__len__()`."
   ]
  },
  {
   "cell_type": "markdown",
   "id": "81d4f152",
   "metadata": {},
   "source": [
    " Nếu kết quả của hàm `__len__()` là `0`, hàm `bool()` sẽ trả về `False` và ngược lại."
   ]
  },
  {
   "cell_type": "markdown",
   "id": "cb1b7f72",
   "metadata": {},
   "source": [
    "Vì thế, một list rỗng luôn trả về `False`, còn một list có ít nhất một phần tử thì luôn trả về `True`."
   ]
  },
  {
   "cell_type": "markdown",
   "id": "79d36504",
   "metadata": {},
   "source": [
    "Như vậy, giả sử bạn có một hàm trả về một list hoặc `None`. Bạn muốn kiểm tra list có rỗng hay không để in ra các phần tử trong list đó, thì thay vì làm thế này:\n",
    "```python\n",
    "my_list = get_list()\n",
    "\n",
    "if my_list is not None and len(my_list) > 0:\n",
    "    for element in my_list:\n",
    "        print(element)\n",
    "else:\n",
    "    print('List is None or empty')\n",
    "```"
   ]
  },
  {
   "cell_type": "markdown",
   "id": "2d695dff",
   "metadata": {},
   "source": [
    "Ta có thể làm thế này:\n",
    "```python\n",
    "my_list = get_list()\n",
    "\n",
    "if my_list:\n",
    "    for element in my_list:\n",
    "        print(element)\n",
    "else:\n",
    "    print('List is None or empty')\n",
    "```"
   ]
  },
  {
   "cell_type": "markdown",
   "id": "b24e3524",
   "metadata": {},
   "source": [
    "Trong trường hợp này, nếu `my_list` là rỗng hoặc `None`, giá trị boolean của nó sẽ là `False`."
   ]
  },
  {
   "cell_type": "markdown",
   "id": "2089f780",
   "metadata": {},
   "source": [
    "Cuối cùng, <span style=\"color:DarkOrange\">nếu một class không có cả hàm `__bool__()` và `__len__()`, thì instance của class đó luôn luôn trả về giá trị `True`</span>."
   ]
  },
  {
   "cell_type": "markdown",
   "id": "c71d2a62",
   "metadata": {},
   "source": [
    "Tóm lại, đây là cách mà hàm `bool()` hoạt động:\n",
    "![](https://www.pythontutorial.net/wp-content/uploads/2021/02/python-bool.png)"
   ]
  },
  {
   "cell_type": "markdown",
   "id": "17c6018a",
   "metadata": {},
   "source": [
    "## <a class=\"anchor\" id=\"sum\" style=\"color:Violet\"> Tổng kết </a>"
   ]
  },
  {
   "cell_type": "markdown",
   "id": "da43e4de",
   "metadata": {},
   "source": [
    "- Python sử dụng class `bool` để biểu diễn giá trị boolean: `True` và `False`.\n",
    "- `True` và `False` là 2 instance của class `bool` và chúng là những objects duy nhất của class `bool`.\n",
    "- Tất cả object trong Python đều có giá trị boolean của nó. Hàm `bool(obj)` sẽ trả về giá trị boolean của object `obj`.\n",
    "- Hàm `bool()` trả về kết quả bằng cách gọi hàm `__bool__()` và `__len__()` của object. Nếu cả 2 hàm đều không tồn tại, hàm `bool()` luôn trả về `True`."
   ]
  }
 ],
 "metadata": {
  "kernelspec": {
   "display_name": "Python 3 (ipykernel)",
   "language": "python",
   "name": "python3"
  },
  "language_info": {
   "codemirror_mode": {
    "name": "ipython",
    "version": 3
   },
   "file_extension": ".py",
   "mimetype": "text/x-python",
   "name": "python",
   "nbconvert_exporter": "python",
   "pygments_lexer": "ipython3",
   "version": "3.10.9"
  }
 },
 "nbformat": 4,
 "nbformat_minor": 5
}
