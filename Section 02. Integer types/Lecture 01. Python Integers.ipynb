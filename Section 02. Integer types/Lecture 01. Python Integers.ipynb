{
 "cells": [
  {
   "cell_type": "markdown",
   "id": "3f070691",
   "metadata": {},
   "source": [
    "# <a href=\"https://www.pythontutorial.net/advanced-python/python-integers/\" style=\"color:Tomato\">Python Integers</a>"
   ]
  },
  {
   "cell_type": "markdown",
   "id": "052d194a",
   "metadata": {},
   "source": [
    "Ở bài này, ta sẽ học về số nguyên trong Python và cách mà Python lưu các số nguyên trong bộ nhớ."
   ]
  },
  {
   "cell_type": "markdown",
   "id": "235b34f4",
   "metadata": {},
   "source": [
    "Python sử dụng class `int` để biểu thị các số nguyên. <span style=\"color:DarkOrange\">Tất cả các số nguyên đều là các objects</span>."
   ]
  },
  {
   "cell_type": "markdown",
   "id": "bee5d4f4",
   "metadata": {},
   "source": [
    "### Tables of Contents\n",
    "* [How computers store integers](#1)\n",
    "* [How Python represents integers](#2)\n",
    "* [Python int type](#3)\n",
    "* [Getting the size of an integer](#4)\n",
    "* [Python integer operations](#5)\n",
    "* [Summary](#sum)"
   ]
  },
  {
   "cell_type": "markdown",
   "id": "a3a0cec1",
   "metadata": {},
   "source": [
    "## <a class=\"anchor\" id=\"1\">How computers store integers</a>"
   ]
  },
  {
   "cell_type": "markdown",
   "id": "deed9949",
   "metadata": {},
   "source": [
    "Máy tính không lưu trực tiếp các số nguyên. Thay vào đó, máy tính chỉ có thể lưu nó dưới dạng các bit nhị phân."
   ]
  },
  {
   "cell_type": "markdown",
   "id": "a2f49cda",
   "metadata": {},
   "source": [
    "Để lưu số nguyên, máy tính phải biểu thị nó dưới dạng số nhị phân."
   ]
  },
  {
   "cell_type": "markdown",
   "id": "0c34f415",
   "metadata": {},
   "source": [
    "<u>Ví dụ:</u> để lưu số $5$, máy tính cần biểu diễn nó dưới dạng nhị phân như sau:"
   ]
  },
  {
   "cell_type": "markdown",
   "id": "2c931d27",
   "metadata": {},
   "source": [
    "$$\n",
    "5 = 1 \\times 2^2 + 0 \\times 2^1 + 1 \\times 2^0\n",
    "$$"
   ]
  },
  {
   "cell_type": "markdown",
   "id": "9b0b3ab6",
   "metadata": {},
   "source": [
    "Như vậy, cần 3 bit để lưu số $5$ vào bộ nhớ:"
   ]
  },
  {
   "cell_type": "markdown",
   "id": "d8a0438a",
   "metadata": {},
   "source": [
    "$$\n",
    "(101)_2 = (5)_{10}\n",
    "$$"
   ]
  },
  {
   "cell_type": "markdown",
   "id": "0c96e73b",
   "metadata": {},
   "source": [
    "Giả sử ta có 8 bits, như vậy ta có thể lưu tối đa 255 số nguyên từ $0$ đến $255$:"
   ]
  },
  {
   "cell_type": "markdown",
   "id": "8c18468f",
   "metadata": {},
   "source": [
    "$$\n",
    "255= 1 \\times 2^7 + 1 \\times 2^6 + 1 \\times 2^5 + 1 \\times 2^4 + 1 \\times 2^3 + 1 \\times 2^2 + 1 \\times 2^1 + 1 \\times 2^0\n",
    "$$"
   ]
  },
  {
   "cell_type": "markdown",
   "id": "6bab82aa",
   "metadata": {},
   "source": [
    "Với 8 bits, ta có thể lưu tối đa là $2^8 - 1 = 255$ số nguyên."
   ]
  },
  {
   "cell_type": "markdown",
   "id": "7395902d",
   "metadata": {},
   "source": [
    "Để lưu cả số nguyên âm, số $0$ và số nguyên dương, ta sẽ phải dành ra 1 bit để biểu thị dấu $+$ hoặc $-$. Như vậy, với 8 bit, máy tính có thể lưu các số nguyên trong khoảng $(-127, 127)$."
   ]
  },
  {
   "cell_type": "markdown",
   "id": "73d2bea6",
   "metadata": {},
   "source": [
    "<span style=\"color:DarkOrange\">Vì số $0$ không có dấu, nên ta có thể lưu thêm được một số nữa</span>. Như vậy, 8 bits có thể lưu các số nguyên từ $-128$ đến $127$, hay các số nguyên trong đoạn $\\left[ -2^7, 2^7 - 1 \\right]$"
   ]
  },
  {
   "cell_type": "markdown",
   "id": "df6dd141",
   "metadata": {},
   "source": [
    "Tương tự với 16bits, 32bits và 64 bits, ta có các khoảng số nguyên có thể lưu được như sau:\n",
    "\n",
    "- 16-bits ~ $\\left[-2^{15}, 2^{15} – 1\\right] = \\left[-32768, 32767\\right]$\n",
    "- 32-bits ~ $\\left[-2^{31}, 2^{31} – 1\\right] = \\left[-2147483648, 2147483647\\right]$\n",
    "- 64-bits ~ $\\left[-2^{63}, 2^{63} – 1\\right] = \\left[-9223372036854775808, 9223372036854775807\\right]$"
   ]
  },
  {
   "cell_type": "markdown",
   "id": "d41fe3be",
   "metadata": {},
   "source": [
    "## <a class=\"anchor\" id=\"2\">How Python represents integers</a>"
   ]
  },
  {
   "cell_type": "markdown",
   "id": "2503ad23",
   "metadata": {},
   "source": [
    "Các ngôn ngữ lập trình khác như Java, C# sử dụng số lượng bit cố định để lưu trữ số nguyên."
   ]
  },
  {
   "cell_type": "markdown",
   "id": "c3a64d30",
   "metadata": {},
   "source": [
    "Ví dụ, C# có kiểu dữ liệu `int` sử dụng 32 bits và kiểu `long` sử dụng 64 bits để biểu diễn số nguyên. "
   ]
  },
  {
   "cell_type": "markdown",
   "id": "76d5f6b2",
   "metadata": {},
   "source": [
    "Python không sử dụng số bit cố định để lưu trữ số nguyên. Thay vào đó, <span style=\"color:DarkOrange\">số lượng bits thay đổi khi lưu trữ các số nguyên trong Python</span>. Ví dụ 8 bits, 16 bits, 32 bits, 64 bits, 128 bits,..."
   ]
  },
  {
   "cell_type": "markdown",
   "id": "4314d003",
   "metadata": {},
   "source": [
    "<span style=\"color:DarkOrange\">Số nguyên lớn nhất mà Python có thể biểu diễn tuỳ thuộc vào bộ nhớ khả dụng</span>."
   ]
  },
  {
   "cell_type": "markdown",
   "id": "56117a31",
   "metadata": {},
   "source": [
    "Ngoài ra, các số nguyên đều là các objects. <span style=\"color:DarkOrange\">Python cần thêm một số bytes để lưu thêm một số thông tin khác cho mỗi số nguyên</span>."
   ]
  },
  {
   "cell_type": "markdown",
   "id": "c8daba0a",
   "metadata": {},
   "source": [
    "<span style=\"color:Red\">Lưu ý:</span> Số nguyên càng lớn thì các phép tính như $+$, $-$,... sẽ càng bị chậm."
   ]
  },
  {
   "cell_type": "markdown",
   "id": "ecab4e8b",
   "metadata": {},
   "source": [
    "## <a class=\"anchor\" id=\"3\">Python `int` type</a>"
   ]
  },
  {
   "cell_type": "markdown",
   "id": "c5b83fd5",
   "metadata": {},
   "source": [
    "Đoạn code sau tạo một biến và tham chiếu nó tới một số nguyên. Say đó sử dụng hàm `type()` để lấy thông tin class của số nguyên đó."
   ]
  },
  {
   "cell_type": "code",
   "execution_count": 1,
   "id": "0da43569",
   "metadata": {},
   "outputs": [
    {
     "name": "stdout",
     "output_type": "stream",
     "text": [
      "<class 'int'>\n"
     ]
    }
   ],
   "source": [
    "counter = 10\n",
    "print(type(counter))"
   ]
  },
  {
   "cell_type": "markdown",
   "id": "9a321fcc",
   "metadata": {},
   "source": [
    "Và như ta thấy, class của nó là `int`."
   ]
  },
  {
   "cell_type": "markdown",
   "id": "ef2180bf",
   "metadata": {},
   "source": [
    "## <a class=\"anchor\" id=\"4\">Getting the size of an integer</a>"
   ]
  },
  {
   "cell_type": "markdown",
   "id": "62094d1e",
   "metadata": {},
   "source": [
    "Để lấy kích thước của một số nguyên, ta sử dụng hàm `getsizeof()` của module `sys`."
   ]
  },
  {
   "cell_type": "markdown",
   "id": "1b3105df",
   "metadata": {},
   "source": [
    "Hàm `getsizeof()` trả về số bytes mà Python dùng để biểu diễn một object. Ví dụ:"
   ]
  },
  {
   "cell_type": "code",
   "execution_count": 2,
   "id": "9b28691a",
   "metadata": {},
   "outputs": [
    {
     "name": "stdout",
     "output_type": "stream",
     "text": [
      "24\n"
     ]
    }
   ],
   "source": [
    "from sys import getsizeof\n",
    "\n",
    "counter = 0\n",
    "size = getsizeof(counter)\n",
    "\n",
    "print(size)  # 24 bytes"
   ]
  },
  {
   "cell_type": "markdown",
   "id": "7747a051",
   "metadata": {},
   "source": [
    "Ta thấy để biểu diễn số $0$, Python phải dùng đến 24 bytes. Vì để lưu số $0$ thì ta chỉ cần đến 1 bit, nên ta có thể suy ra là Python cần 24 bytes cho các thông tin khác của object. Đây là chi phí lưu trữ chung cho các object kiểu `int`."
   ]
  },
  {
   "cell_type": "markdown",
   "id": "7844bd7e",
   "metadata": {},
   "source": [
    "> Các thông tin khác ví dụ như class của object, số tham chiếu của object,..."
   ]
  },
  {
   "cell_type": "markdown",
   "id": "9b7c20e6",
   "metadata": {},
   "source": [
    "Ví dụ khác với số $100$:"
   ]
  },
  {
   "cell_type": "code",
   "execution_count": 3,
   "id": "abb14c4d",
   "metadata": {},
   "outputs": [
    {
     "name": "stdout",
     "output_type": "stream",
     "text": [
      "28\n"
     ]
    }
   ],
   "source": [
    "from sys import getsizeof\n",
    "\n",
    "counter = 100\n",
    "size = getsizeof(counter)\n",
    "\n",
    "print(size)  # 28 bytes"
   ]
  },
  {
   "cell_type": "markdown",
   "id": "185843ab",
   "metadata": {},
   "source": [
    "Ta thấy nó trả về 28 bytes. Ở đây 4 bytes dùng để lưu trữ số $100$ và 24 bytes là chi phí lưu trữ chung."
   ]
  },
  {
   "cell_type": "markdown",
   "id": "668d0da4",
   "metadata": {},
   "source": [
    "Ví dụ khác với số $2^{64}$"
   ]
  },
  {
   "cell_type": "code",
   "execution_count": 4,
   "id": "b07a28d0",
   "metadata": {},
   "outputs": [
    {
     "name": "stdout",
     "output_type": "stream",
     "text": [
      "36\n"
     ]
    }
   ],
   "source": [
    "from sys import getsizeof\n",
    "\n",
    "counter = 2**64\n",
    "size = getsizeof(counter)\n",
    "\n",
    "print(size)  # 36 bytes"
   ]
  },
  {
   "cell_type": "markdown",
   "id": "29d372b7",
   "metadata": {},
   "source": [
    "## <a class=\"anchor\" id=\"5\">Python integer operations</a>"
   ]
  },
  {
   "cell_type": "markdown",
   "id": "781fbb2b",
   "metadata": {},
   "source": [
    "Số nguyên trong Python hỗ trợ các toán tử tiêu chuẩn sau:\n",
    "- Cộng `+`\n",
    "- Trừ `-`\n",
    "- Nhân `*`\n",
    "- Chia `/`\n",
    "- Luỹ thừa `**`"
   ]
  },
  {
   "cell_type": "markdown",
   "id": "fc4bb2af",
   "metadata": {},
   "source": [
    "Kết quả của các phép toán cộng, trừ, nhân, mũ là các số nguyên. Ví dụ:"
   ]
  },
  {
   "cell_type": "code",
   "execution_count": 5,
   "id": "f2904bc9",
   "metadata": {},
   "outputs": [
    {
     "name": "stdout",
     "output_type": "stream",
     "text": [
      "30\n",
      "<class 'int'>\n",
      "-10\n",
      "<class 'int'>\n",
      "200\n",
      "<class 'int'>\n",
      "100000000000000000000\n",
      "<class 'int'>\n"
     ]
    }
   ],
   "source": [
    "a = 10\n",
    "b = 20\n",
    "\n",
    "c = a + b\n",
    "print(c)\n",
    "print(type(c))\n",
    "\n",
    "\n",
    "c = a - b\n",
    "print(c)\n",
    "print(type(c))\n",
    "\n",
    "\n",
    "c = a * b\n",
    "print(c)\n",
    "print(type(c))\n",
    "\n",
    "c = a ** b\n",
    "print(c)\n",
    "print(type(c))"
   ]
  },
  {
   "cell_type": "markdown",
   "id": "100029f5",
   "metadata": {},
   "source": [
    "Kết quả của phép toán chia luôn trả ra kiểu số thực floating-point. Ví dụ:"
   ]
  },
  {
   "cell_type": "code",
   "execution_count": 6,
   "id": "78fa2769",
   "metadata": {},
   "outputs": [
    {
     "name": "stdout",
     "output_type": "stream",
     "text": [
      "2.0\n",
      "<class 'float'>\n"
     ]
    }
   ],
   "source": [
    "a = 10\n",
    "b = 5\n",
    "c = a / b\n",
    "\n",
    "print(c)\n",
    "print(type(c))"
   ]
  },
  {
   "cell_type": "markdown",
   "id": "17c6018a",
   "metadata": {},
   "source": [
    "## <a class=\"anchor\" id=\"sum\" style=\"color:Violet\"> Tổng kết </a>"
   ]
  },
  {
   "cell_type": "markdown",
   "id": "d9e05d8f",
   "metadata": {},
   "source": [
    "- Máy tính sử dụng số nhị phân để biểu diễn các số nguyên.\n",
    "- Python sử dụng số bits thay đổi khi biểu thị các số nguyên. Do đó, số nguyên lớn nhất mà Python có thể biểu thị sẽ tuỳ thuộc vào bộ nhớ khả dụng của máy tính.\n",
    "- Trong Python, tất cả các số nguyên đều là một instance của class `int`.\n",
    "- Sử dụng hàm `getsizeof()` của module `sys` để lấy số lượng bytes trong bộ nhớ của một số nguyên."
   ]
  }
 ],
 "metadata": {
  "kernelspec": {
   "display_name": "Python 3 (ipykernel)",
   "language": "python",
   "name": "python3"
  },
  "language_info": {
   "codemirror_mode": {
    "name": "ipython",
    "version": 3
   },
   "file_extension": ".py",
   "mimetype": "text/x-python",
   "name": "python",
   "nbconvert_exporter": "python",
   "pygments_lexer": "ipython3",
   "version": "3.10.9"
  }
 },
 "nbformat": 4,
 "nbformat_minor": 5
}
