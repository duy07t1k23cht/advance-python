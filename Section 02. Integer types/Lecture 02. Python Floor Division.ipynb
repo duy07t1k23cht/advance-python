{
 "cells": [
  {
   "cell_type": "markdown",
   "id": "b43d7b95",
   "metadata": {},
   "source": [
    "# <a href=\"https://www.pythontutorial.net/advanced-python/python-floor-division/\" style=\"color:Tomato\">Python Floor Division</a>"
   ]
  },
  {
   "cell_type": "markdown",
   "id": "881f68ff",
   "metadata": {},
   "source": [
    "Ở bài này ta học về phép toán floor và toán tử chia lấy nguyên `\\\\`."
   ]
  },
  {
   "cell_type": "markdown",
   "id": "bee5d4f4",
   "metadata": {},
   "source": [
    "### Tables of Contents\n",
    "* [Introduction to Python floor division](#1)\n",
    "* [How Python represents integers](#2)\n",
    "* [Python floor division operator examples](#3)\n",
    "* [Getting the size of an integer](#4)\n",
    "* [Python integer operations](#5)\n",
    "* [Summary](#sum)"
   ]
  },
  {
   "cell_type": "markdown",
   "id": "a3a0cec1",
   "metadata": {},
   "source": [
    "## <a class=\"anchor\" id=\"1\">Introduction to Python floor division</a>"
   ]
  },
  {
   "cell_type": "markdown",
   "id": "cedd2552",
   "metadata": {},
   "source": [
    "Trong Python, toán tử `\\\\` được gọi là toán tử **floor division** hay **div**, còn `%` được gọi là toán tử **modulo** hay **mod**."
   ]
  },
  {
   "cell_type": "markdown",
   "id": "d15dae6f",
   "metadata": {},
   "source": [
    "Bài này ta sẽ tập trung vào toán tử floor division. Toán tử modulo sẽ tìm hiểu ở các bài sau."
   ]
  },
  {
   "cell_type": "markdown",
   "id": "25505a0a",
   "metadata": {},
   "source": [
    "Tổng quát: Nếu `N` là tử số (_numerator_) và `D` là mẫu số (_denominator_) thì phương trình sau thoả mãn:"
   ]
  },
  {
   "cell_type": "markdown",
   "id": "23fd61b4",
   "metadata": {},
   "source": [
    "```python\n",
    "N = D * ( N // D) + (N % D)\n",
    "```"
   ]
  },
  {
   "cell_type": "markdown",
   "id": "cc4a87c7",
   "metadata": {},
   "source": [
    "## <a class=\"anchor\" id=\"2\">The floor division in Python</a>"
   ]
  },
  {
   "cell_type": "markdown",
   "id": "a46afdf2",
   "metadata": {},
   "source": [
    "Phép $\\text{floor}$ của một số thực là số tự nhiên lớn nhất không vượt quá số đó. Ví dụ:\n",
    "- $\\text{floor}(3.4) = 4$\n",
    "- $\\text{floor}(3.9) = 3$\n",
    "- $\\text{floor}(3) = 3$\n",
    "- $\\text{floor}(-3.4) = -4$\n",
    "- $\\text{floor}(-3.9) = -4$\n",
    "- $\\text{floor}(-3) = -3$"
   ]
  },
  {
   "cell_type": "markdown",
   "id": "da452867",
   "metadata": {},
   "source": [
    "Toán tử `\\\\` trong Python có thể được định nghĩa như sau: "
   ]
  },
  {
   "cell_type": "markdown",
   "id": "fa3cf162",
   "metadata": {},
   "source": [
    "```python\n",
    "n // d = floor(n / d)\n",
    "```"
   ]
  },
  {
   "cell_type": "markdown",
   "id": "17cf9e2f",
   "metadata": {},
   "source": [
    "Chú ý là phép floor division của của một số <span style=\"color:DarkOrange\">không phải là cắt bỏ phần thập phân</span> của số đó."
   ]
  },
  {
   "cell_type": "markdown",
   "id": "092e254c",
   "metadata": {},
   "source": [
    "## <a class=\"anchor\" id=\"3\">Python floor division operator examples</a>"
   ]
  },
  {
   "cell_type": "markdown",
   "id": "47e67b07",
   "metadata": {},
   "source": [
    "Đoạn code sau ví dụ về toán tử `//`:"
   ]
  },
  {
   "cell_type": "code",
   "execution_count": 1,
   "id": "735c2c98",
   "metadata": {},
   "outputs": [
    {
     "name": "stdout",
     "output_type": "stream",
     "text": [
      "3\n",
      "3\n",
      "-4\n",
      "-4\n"
     ]
    }
   ],
   "source": [
    "a = 10\n",
    "b = 3\n",
    "\n",
    "print(a//b)  # 3\n",
    "\n",
    "a = -10\n",
    "b = -3\n",
    "\n",
    "print(a//b)  # 3\n",
    "\n",
    "a = 10\n",
    "b = -3\n",
    "print(a//b)  # -4\n",
    "\n",
    "a = -10\n",
    "b = 3\n",
    "print(a//b)  # -4\n"
   ]
  },
  {
   "cell_type": "markdown",
   "id": "d638aa78",
   "metadata": {},
   "source": [
    "## <a class=\"anchor\" id=\"4\">Python `math.floor()` function</a>"
   ]
  },
  {
   "cell_type": "markdown",
   "id": "0c938285",
   "metadata": {},
   "source": [
    "Hàm `floor()` của thư viện `math` trả về kết quả của phép toán $\\text{floor}$. Ví dụ:"
   ]
  },
  {
   "cell_type": "code",
   "execution_count": 2,
   "id": "cdadbea0",
   "metadata": {},
   "outputs": [
    {
     "name": "stdout",
     "output_type": "stream",
     "text": [
      "3\n",
      "3\n"
     ]
    }
   ],
   "source": [
    "from math import floor\n",
    "\n",
    "a = 10\n",
    "b = 3\n",
    "\n",
    "print(a//b)  # 3\n",
    "print(floor(a/b))  # 3\n"
   ]
  },
  {
   "cell_type": "markdown",
   "id": "9da2db3e",
   "metadata": {},
   "source": [
    "Ví dụ khác với số âm:"
   ]
  },
  {
   "cell_type": "code",
   "execution_count": 3,
   "id": "3ec17b72",
   "metadata": {},
   "outputs": [
    {
     "name": "stdout",
     "output_type": "stream",
     "text": [
      "-4\n",
      "-4\n"
     ]
    }
   ],
   "source": [
    "from math import floor\n",
    "\n",
    "a = 10\n",
    "b = -3\n",
    "\n",
    "print(a//b)  # -4\n",
    "print(floor(a/b))  # -4\n"
   ]
  },
  {
   "cell_type": "markdown",
   "id": "17c6018a",
   "metadata": {},
   "source": [
    "## <a class=\"anchor\" id=\"sum\" style=\"color:Violet\"> Tổng kết </a>"
   ]
  },
  {
   "cell_type": "markdown",
   "id": "f56b3296",
   "metadata": {},
   "source": [
    "- Python sử dụng toán tử `//` cho phép chia lấy nguyên và `%` cho phép chia lấy dư.\n",
    "- Nếu tử số `N` chia cho mẫu số `D`, thì phương trình sau luôn thoả mãn:\n",
    "```\n",
    "N = D * ( N // D) + (N % D)\n",
    "```\n",
    "- Sử dụng toán tử `//` hoặc hàm `floor()` của thư viện `math` khi muốn chia lấy nguyên 2 số nguyên."
   ]
  }
 ],
 "metadata": {
  "kernelspec": {
   "display_name": "Python 3 (ipykernel)",
   "language": "python",
   "name": "python3"
  },
  "language_info": {
   "codemirror_mode": {
    "name": "ipython",
    "version": 3
   },
   "file_extension": ".py",
   "mimetype": "text/x-python",
   "name": "python",
   "nbconvert_exporter": "python",
   "pygments_lexer": "ipython3",
   "version": "3.10.9"
  }
 },
 "nbformat": 4,
 "nbformat_minor": 5
}
