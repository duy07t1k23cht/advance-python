{
 "cells": [
  {
   "cell_type": "markdown",
   "id": "b43d7b95",
   "metadata": {},
   "source": [
    "# <a href=\"https://www.pythontutorial.net/advanced-python/python-and/\" style=\"color:Tomato\">Python and Operator</a>"
   ]
  },
  {
   "cell_type": "markdown",
   "id": "a7698eca",
   "metadata": {},
   "source": [
    "Ở bài này ta sẽ học về toán tử `and` và cách sử dụng nó."
   ]
  },
  {
   "cell_type": "markdown",
   "id": "bee5d4f4",
   "metadata": {},
   "source": [
    "### Tables of Contents\n",
    "* [Introduction to the Python `and` operator](#1)\n",
    "* [Python `and` operator is short-circuiting](#2)\n",
    "* [Python `and` operator example](#3)\n",
    "* [Summary](#sum)"
   ]
  },
  {
   "cell_type": "markdown",
   "id": "a3a0cec1",
   "metadata": {},
   "source": [
    "## <a class=\"anchor\" id=\"1\">Introduction to the Python `and` operator</a>"
   ]
  },
  {
   "cell_type": "markdown",
   "id": "748e3dae",
   "metadata": {},
   "source": [
    "`and` là toán tử logic trong Python, nhận giá trị `True` nếu 2 toán toán hạng đầu vào là `True`."
   ]
  },
  {
   "cell_type": "markdown",
   "id": "2b3e9f76",
   "metadata": {},
   "source": [
    "## <a class=\"anchor\" id=\"2\">Python `and` operator is short-circuiting</a>"
   ]
  },
  {
   "cell_type": "markdown",
   "id": "fd7b5eba",
   "metadata": {},
   "source": [
    "<span style=\"color:DarkOrange\">Đặc điểm chính của toán tử `and` là nó *short-circuiting*</span>, có nghĩa là nếu toán hạng ban đầu nó nhận vào là `False` thì nó sẽ không xét đến toán hạng thứ hai nữa."
   ]
  },
  {
   "cell_type": "markdown",
   "id": "a08aa375",
   "metadata": {},
   "source": [
    "Ví dụ, đoạn code sau sẽ gặp lỗi `ZeroDivisionError`:"
   ]
  },
  {
   "cell_type": "code",
   "execution_count": 1,
   "id": "8d849e9b",
   "metadata": {},
   "outputs": [
    {
     "ename": "ZeroDivisionError",
     "evalue": "division by zero",
     "output_type": "error",
     "traceback": [
      "\u001b[0;31m---------------------------------------------------------------------------\u001b[0m",
      "\u001b[0;31mZeroDivisionError\u001b[0m                         Traceback (most recent call last)",
      "Cell \u001b[0;32mIn[1], line 3\u001b[0m\n\u001b[1;32m      1\u001b[0m a \u001b[38;5;241m=\u001b[39m \u001b[38;5;241m10\u001b[39m\n\u001b[1;32m      2\u001b[0m b \u001b[38;5;241m=\u001b[39m \u001b[38;5;241m0\u001b[39m\n\u001b[0;32m----> 3\u001b[0m c \u001b[38;5;241m=\u001b[39m \u001b[43ma\u001b[49m\u001b[43m \u001b[49m\u001b[38;5;241;43m/\u001b[39;49m\u001b[43m \u001b[49m\u001b[43mb\u001b[49m\n\u001b[1;32m      4\u001b[0m \u001b[38;5;28mprint\u001b[39m(c)\n",
      "\u001b[0;31mZeroDivisionError\u001b[0m: division by zero"
     ]
    }
   ],
   "source": [
    "a = 10\n",
    "b = 0\n",
    "c = a / b\n",
    "print(c)"
   ]
  },
  {
   "cell_type": "markdown",
   "id": "5f3cd0eb",
   "metadata": {},
   "source": [
    "Nhưng đoạn code sau thì không:"
   ]
  },
  {
   "cell_type": "code",
   "execution_count": 2,
   "id": "88e9cdb0",
   "metadata": {},
   "outputs": [
    {
     "name": "stdout",
     "output_type": "stream",
     "text": [
      "0\n"
     ]
    }
   ],
   "source": [
    "a = 10\n",
    "b = 0\n",
    "c = b and a / b\n",
    "print(c)"
   ]
  },
  {
   "cell_type": "markdown",
   "id": "df0c7a35",
   "metadata": {},
   "source": [
    "Ở đây ta sử dụng câu lệnh\n",
    "```\n",
    "c = b and a / b\n",
    "```\n",
    "Vì `b` bằng `0`, nên `b` là `False`, như vậy toán tử `and` không cần xét đến toán hạng thứ hai của toán tử `and` là `a / b` nữa, và thực tế thì đúng là nó không xét đến `a / b` nữa."
   ]
  },
  {
   "cell_type": "markdown",
   "id": "c7372b92",
   "metadata": {},
   "source": [
    "Ví dụ ta thay `b = 5`:"
   ]
  },
  {
   "cell_type": "code",
   "execution_count": 3,
   "id": "6ff045e9",
   "metadata": {},
   "outputs": [
    {
     "name": "stdout",
     "output_type": "stream",
     "text": [
      "2.0\n"
     ]
    }
   ],
   "source": [
    "a = 10\n",
    "b = 5\n",
    "c = b and a / b\n",
    "print(c)"
   ]
  },
  {
   "cell_type": "markdown",
   "id": "d588d411",
   "metadata": {},
   "source": [
    "Tổng quát, ta sử dụng toán tử `and` như sau:\n",
    "```python\n",
    "bool(object1) and bool(object2)\n",
    "```"
   ]
  },
  {
   "cell_type": "markdown",
   "id": "ec1dfcaf",
   "metadata": {},
   "source": [
    "Ta có thể không dùng tới hàm `bool()`\n",
    "```python\n",
    "object1 and object2\n",
    "```"
   ]
  },
  {
   "cell_type": "markdown",
   "id": "c62b648d",
   "metadata": {},
   "source": [
    "Trong trường hợp này, câu lệnh sẽ trả về `object1` nếu giá trị boolean của `object1` là `False`, nếu không nó sẽ trả về `object2`."
   ]
  },
  {
   "cell_type": "markdown",
   "id": "921ff8aa",
   "metadata": {},
   "source": [
    "Câu lệnh sau:\n",
    "```python\n",
    "c = b and a/b\n",
    "```"
   ]
  },
  {
   "cell_type": "markdown",
   "id": "deef265d",
   "metadata": {},
   "source": [
    "tương đương với:\n",
    "```python\n",
    "if b:\n",
    "    c = a / b\n",
    "else:\n",
    "    c = b\n",
    "```"
   ]
  },
  {
   "cell_type": "markdown",
   "id": "3dfd0d56",
   "metadata": {},
   "source": [
    "Một số ví dụ khác:"
   ]
  },
  {
   "cell_type": "code",
   "execution_count": 4,
   "id": "51f6c46e",
   "metadata": {},
   "outputs": [
    {
     "name": "stdout",
     "output_type": "stream",
     "text": [
      "0\n",
      "[]\n",
      "0\n",
      "abc\n"
     ]
    }
   ],
   "source": [
    "x = 0\n",
    "y = \"\"\n",
    "print(x and y)\n",
    "\n",
    "x = 1\n",
    "y = []\n",
    "print(x and y)\n",
    "\n",
    "x = 0\n",
    "y = [1]\n",
    "print(x and y)\n",
    "\n",
    "x = 2\n",
    "y = \"abc\"\n",
    "print(x and y)"
   ]
  },
  {
   "cell_type": "markdown",
   "id": "5857b008",
   "metadata": {},
   "source": [
    "## <a class=\"anchor\" id=\"3\">Python `and` operator example</a>"
   ]
  },
  {
   "cell_type": "markdown",
   "id": "6fb3c52c",
   "metadata": {},
   "source": [
    "Đoạn code sau trả về trung bình cộng của các số:"
   ]
  },
  {
   "cell_type": "code",
   "execution_count": 5,
   "id": "bce98924",
   "metadata": {},
   "outputs": [
    {
     "name": "stdout",
     "output_type": "stream",
     "text": [
      "2.0\n"
     ]
    }
   ],
   "source": [
    "def avg(*numbers):\n",
    "    total = sum(numbers)\n",
    "    n = len(numbers)\n",
    "    if n > 0:\n",
    "        return total / n\n",
    "    return 0\n",
    "\n",
    "\n",
    "if __name__ == \"__main__\":\n",
    "    print(avg(1, 2, 3))"
   ]
  },
  {
   "cell_type": "markdown",
   "id": "40438c74",
   "metadata": {},
   "source": [
    "Ta có thể thay đổi đoạn code từ dòng 4 đến dòng 6 thành\n",
    "```python\n",
    "return n and total / n\n",
    "```"
   ]
  },
  {
   "cell_type": "markdown",
   "id": "87e7d202",
   "metadata": {},
   "source": [
    " sẽ cho ra kết quả y hệt"
   ]
  },
  {
   "cell_type": "code",
   "execution_count": 6,
   "id": "df226086",
   "metadata": {},
   "outputs": [
    {
     "name": "stdout",
     "output_type": "stream",
     "text": [
      "2.0\n"
     ]
    }
   ],
   "source": [
    "def avg(*numbers):\n",
    "    total = sum(numbers)\n",
    "    n = len(numbers)\n",
    "    return n and total / n\n",
    "\n",
    "\n",
    "if __name__ == \"__main__\":\n",
    "    print(avg(1, 2, 3))"
   ]
  },
  {
   "cell_type": "markdown",
   "id": "5834e30f",
   "metadata": {},
   "source": [
    "Hai đoạn code trên là hoàn toà tương đương nhau."
   ]
  },
  {
   "cell_type": "markdown",
   "id": "17c6018a",
   "metadata": {},
   "source": [
    "## <a class=\"anchor\" id=\"sum\" style=\"color:Violet\"> Tổng kết </a>"
   ]
  },
  {
   "cell_type": "markdown",
   "id": "8554cf71",
   "metadata": {},
   "source": [
    "- `X and Y` trả về `True` nếu cả `X` và `Y` đều `True`, nếu không nó sẽ trả về `False`.\n",
    "- <span style=\"color:DarkOrange\">`X and Y` trả về giá trị `X` nếu `X` có giá trị boolean là `False`, nếu không nó trả về `Y`</span>."
   ]
  }
 ],
 "metadata": {
  "kernelspec": {
   "display_name": "Python 3 (ipykernel)",
   "language": "python",
   "name": "python3"
  },
  "language_info": {
   "codemirror_mode": {
    "name": "ipython",
    "version": 3
   },
   "file_extension": ".py",
   "mimetype": "text/x-python",
   "name": "python",
   "nbconvert_exporter": "python",
   "pygments_lexer": "ipython3",
   "version": "3.10.9"
  }
 },
 "nbformat": 4,
 "nbformat_minor": 5
}
