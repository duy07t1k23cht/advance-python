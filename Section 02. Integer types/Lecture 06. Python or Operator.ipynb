{
 "cells": [
  {
   "cell_type": "markdown",
   "id": "b43d7b95",
   "metadata": {},
   "source": [
    "# <a href=\"https://www.pythontutorial.net/advanced-python/python-or/\" style=\"color:Tomato\">Python or Operator\n",
    "</a>"
   ]
  },
  {
   "cell_type": "markdown",
   "id": "107452f2",
   "metadata": {},
   "source": [
    "Ở bài này, ta sẽ học về toán tử `or` trong Python và cách sử dụng nó sao cho hiệu quả."
   ]
  },
  {
   "cell_type": "markdown",
   "id": "bee5d4f4",
   "metadata": {},
   "source": [
    "### Tables of Contents\n",
    "* [Introduction to the Python `or` operator](#1)\n",
    "* [Python `or` operator is short-circuiting](#2)\n",
    "* [Setting a default value for a variable](#3)\n",
    "* [Summary](#sum)"
   ]
  },
  {
   "cell_type": "markdown",
   "id": "a3a0cec1",
   "metadata": {},
   "source": [
    "## <a class=\"anchor\" id=\"1\">Introduction to the Python `or` operator</a>"
   ]
  },
  {
   "cell_type": "markdown",
   "id": "70740b00",
   "metadata": {},
   "source": [
    "Toán tử `or` nhận vào 2 toán hạng, trả về `True` nếu một trong hai là `True`, nếu không trả về `False`."
   ]
  },
  {
   "cell_type": "markdown",
   "id": "7cfdebb0",
   "metadata": {},
   "source": [
    "Ví dụ:"
   ]
  },
  {
   "cell_type": "code",
   "execution_count": 1,
   "id": "11121903",
   "metadata": {},
   "outputs": [
    {
     "name": "stdout",
     "output_type": "stream",
     "text": [
      "True\n"
     ]
    }
   ],
   "source": [
    "is_admin = False\n",
    "is_editor = True\n",
    "can_edit = is_admin or is_editor\n",
    "\n",
    "print(can_edit)"
   ]
  },
  {
   "cell_type": "markdown",
   "id": "2b3e9f76",
   "metadata": {},
   "source": [
    "## <a class=\"anchor\" id=\"2\">Python `or` operator is short-circuiting</a>"
   ]
  },
  {
   "cell_type": "markdown",
   "id": "cccecd40",
   "metadata": {},
   "source": [
    "Khi xét các biểu thức chứa toán tử `or`, đôi khi Python có thể đưa ra kết quả mà không cần xét đến tất cả các toán hạng. Đây được gọi là *short-circuit evaluation* hay *lazy evaluation*."
   ]
  },
  {
   "cell_type": "markdown",
   "id": "d76ef697",
   "metadata": {},
   "source": [
    "Ví dụ, xét dòng code sau:\n",
    "```python\n",
    "x or y\n",
    "```"
   ]
  },
  {
   "cell_type": "markdown",
   "id": "570121e8",
   "metadata": {},
   "source": [
    "Nếu `x` là `True`, toán tử `or` sẽ trả về `x`. Nếu không trả về `y`."
   ]
  },
  {
   "cell_type": "markdown",
   "id": "4d804095",
   "metadata": {},
   "source": [
    "Nói cách khác, nếu `x` là `True` thì toán tử `or` không cần xét đến `y` nữa mà ngay lập tức trả về `x`. Toán tử `or` chỉ xét đến `y` và trả về giá trị tương ứng nếu `x` là `False`."
   ]
  },
  {
   "cell_type": "markdown",
   "id": "ac4032b9",
   "metadata": {},
   "source": [
    "<span style=\"color:Red\">**Lưu ý:**</span> Trong Python, tất cả object đều có giá trị boolean. `x` và `y` trong trường hợp trên có thể là bất kỳ object nào."
   ]
  },
  {
   "cell_type": "markdown",
   "id": "9983a6b2",
   "metadata": {},
   "source": [
    "## <a class=\"anchor\" id=\"3\">Setting a default value for a variable</a>"
   ]
  },
  {
   "cell_type": "markdown",
   "id": "ba2ae6f2",
   "metadata": {},
   "source": [
    "Toán tử `or` cho phép gán một giá trị mặc định cho một biến:\n",
    "```python\n",
    "var_name = value or default\n",
    "```"
   ]
  },
  {
   "cell_type": "markdown",
   "id": "a23046f4",
   "metadata": {},
   "source": [
    "Trong ví dụ này, nếu `value` là `False`, toán tử `or` sẽ trả về giá trị `default`."
   ]
  },
  {
   "cell_type": "markdown",
   "id": "3988e9ac",
   "metadata": {},
   "source": [
    "<u>Ví dụ:</u> Đoạn code sau bắt người dùng nhập một chuỗi trên màn hình, nếu không nhập gì thì biến `lang` sẽ tự động được gán là `Python`."
   ]
  },
  {
   "cell_type": "code",
   "execution_count": 2,
   "id": "8c2b257f",
   "metadata": {},
   "outputs": [
    {
     "name": "stdout",
     "output_type": "stream",
     "text": [
      "Enter your language:\n",
      "Python\n"
     ]
    }
   ],
   "source": [
    "lang = input('Enter your language:') or 'Python'\n",
    "print(lang)"
   ]
  },
  {
   "cell_type": "markdown",
   "id": "709ede8d",
   "metadata": {},
   "source": [
    "Ví dụ sau định nghĩa một hàm `get_data()` trả về một list các số. Nó sử dụng hàm `min()` để tìm phần tử nhỏ nhất trong list."
   ]
  },
  {
   "cell_type": "code",
   "execution_count": 3,
   "id": "c5933398",
   "metadata": {},
   "outputs": [
    {
     "name": "stdout",
     "output_type": "stream",
     "text": [
      "1\n"
     ]
    }
   ],
   "source": [
    "def get_data(args=None):\n",
    "    if args:\n",
    "        return [1, 2, 3]\n",
    "    return []\n",
    "\n",
    "\n",
    "lowest = min(get_data(args=True))\n",
    "print(lowest)"
   ]
  },
  {
   "cell_type": "markdown",
   "id": "55812b2c",
   "metadata": {},
   "source": [
    "Nó trả về `1` như bình thường, tuy nhiên nếu hàm `get_data()` trả về một list rỗng thì nó sẽ xảy ra lỗi."
   ]
  },
  {
   "cell_type": "code",
   "execution_count": 4,
   "id": "02ebf0d8",
   "metadata": {},
   "outputs": [
    {
     "ename": "ValueError",
     "evalue": "min() arg is an empty sequence",
     "output_type": "error",
     "traceback": [
      "\u001b[0;31m---------------------------------------------------------------------------\u001b[0m",
      "\u001b[0;31mValueError\u001b[0m                                Traceback (most recent call last)",
      "Cell \u001b[0;32mIn[4], line 1\u001b[0m\n\u001b[0;32m----> 1\u001b[0m lowest \u001b[38;5;241m=\u001b[39m \u001b[38;5;28;43mmin\u001b[39;49m\u001b[43m(\u001b[49m\u001b[43mget_data\u001b[49m\u001b[43m(\u001b[49m\u001b[43m)\u001b[49m\u001b[43m)\u001b[49m\n\u001b[1;32m      2\u001b[0m \u001b[38;5;28mprint\u001b[39m(lowest)\n",
      "\u001b[0;31mValueError\u001b[0m: min() arg is an empty sequence"
     ]
    }
   ],
   "source": [
    "lowest = min(get_data())\n",
    "print(lowest)"
   ]
  },
  {
   "cell_type": "markdown",
   "id": "be249095",
   "metadata": {},
   "source": [
    "Để khắc phục, ta dùng toán tử `or` khi gọi hàm `min`:"
   ]
  },
  {
   "cell_type": "code",
   "execution_count": 5,
   "id": "7f5ec525",
   "metadata": {},
   "outputs": [
    {
     "name": "stdout",
     "output_type": "stream",
     "text": [
      "0\n"
     ]
    }
   ],
   "source": [
    "def get_data(args=None):\n",
    "    if args:\n",
    "        return [1, 2, 3]\n",
    "    return []\n",
    "\n",
    "\n",
    "lowest = min(get_data() or [0])\n",
    "print(lowest)"
   ]
  },
  {
   "cell_type": "markdown",
   "id": "078ed96d",
   "metadata": {},
   "source": [
    "Trong ví dụ này, hàm `get_data()` trả về một list rỗng. Giá trị boolean của list rỗng là `False`, vì thế đoạn code `get_data() or [0]` sẽ trả về `[0]`. Do đó `min(get_data() or [0])` là `0`."
   ]
  },
  {
   "cell_type": "markdown",
   "id": "17c6018a",
   "metadata": {},
   "source": [
    "## <a class=\"anchor\" id=\"sum\" style=\"color:Violet\"> Tổng kết </a>"
   ]
  },
  {
   "cell_type": "markdown",
   "id": "d64dd601",
   "metadata": {},
   "source": [
    "- Toán tử `or` là *short-circuit evaluation* hay *lazy evaluation*"
   ]
  }
 ],
 "metadata": {
  "kernelspec": {
   "display_name": "Python 3 (ipykernel)",
   "language": "python",
   "name": "python3"
  },
  "language_info": {
   "codemirror_mode": {
    "name": "ipython",
    "version": 3
   },
   "file_extension": ".py",
   "mimetype": "text/x-python",
   "name": "python",
   "nbconvert_exporter": "python",
   "pygments_lexer": "ipython3",
   "version": "3.10.9"
  }
 },
 "nbformat": 4,
 "nbformat_minor": 5
}
