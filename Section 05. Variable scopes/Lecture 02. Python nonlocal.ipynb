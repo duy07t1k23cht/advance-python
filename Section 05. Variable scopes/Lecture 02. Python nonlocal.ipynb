{
 "cells": [
  {
   "cell_type": "markdown",
   "id": "b43d7b95",
   "metadata": {},
   "source": [
    "# <a href=\"https://www.pythontutorial.net/advanced-python/python-nonlocal/\" style=\"color:Tomato\">Python nonlocal</a>"
   ]
  },
  {
   "cell_type": "markdown",
   "id": "3f28303f",
   "metadata": {},
   "source": [
    "Ở bài này, ta sẽ học về nonlocal scopes của Python và cách sử dụng từ khoá `nonlocal` để thay đổi các biến trong nonlocal scope."
   ]
  },
  {
   "cell_type": "markdown",
   "id": "bee5d4f4",
   "metadata": {},
   "source": [
    "### Tables of Contents\n",
    "* [Introduction to Python nonlocal scopes](#1)\n",
    "* [Python `nonlocal` keyword](#2)\n",
    "* [Summary](#sum)"
   ]
  },
  {
   "cell_type": "markdown",
   "id": "a3a0cec1",
   "metadata": {},
   "source": [
    "## <a class=\"anchor\" id=\"1\">Introduction to Python nonlocal scopes</a>"
   ]
  },
  {
   "cell_type": "markdown",
   "id": "77eb8bbf",
   "metadata": {},
   "source": [
    "Trong Python, bạn có thể định nghĩa một hàm bên trong một hàm khác. Ví dụ:"
   ]
  },
  {
   "cell_type": "code",
   "execution_count": 1,
   "id": "07f2e9f9",
   "metadata": {},
   "outputs": [
    {
     "name": "stdout",
     "output_type": "stream",
     "text": [
      "outer function\n",
      "inner function\n"
     ]
    }
   ],
   "source": [
    "def outer():\n",
    "    print('outer function')\n",
    "\n",
    "    def inner():\n",
    "        print('inner function')\n",
    "\n",
    "    inner()\n",
    "\n",
    "\n",
    "outer()"
   ]
  },
  {
   "cell_type": "markdown",
   "id": "b1405482",
   "metadata": {},
   "source": [
    "Trong ví dụ này, ta định nghĩa một hàm tên là `outer()`.\n",
    "\n",
    "Bên trong hàm `outer()`, ta định nghĩa một hàm khác tên là `inner()`. Và ta gọi hàm `inner()` bên trong hàm `outer()`.\n",
    "\n",
    "Ta gọi hàm `inner()` được lồng vào (_nested function_) bên trong hàm `outer()`. <span style=\"color:DarkOrange\">Trong thực tế, ta định nghĩa các nested functions khi ta không muốn những functions này là global</span>.\n",
    "\n",
    "Cả `outer()` và `inner()` đều có thể truy cập được vào global và built-in scope cũng như local scope của chúng.\n",
    "\n",
    "Hàm `inner()` cũng có thể truy cập được vào scope bao quanh nó, hay trong trường hợp này là scope của hàm `outer()`.\n",
    "\n",
    "Từ hàm `inner()`, <span style=\"color:DarkOrange\">scope bao quanh nó không phải là local scope hay global scope. Python gọi nó là _**nonlocal scope**_</span>."
   ]
  },
  {
   "cell_type": "markdown",
   "id": "71c5ea5f",
   "metadata": {},
   "source": [
    "Hãy thử sửa hàm `outer()` và `inner()` một chút:"
   ]
  },
  {
   "cell_type": "code",
   "execution_count": 2,
   "id": "6c81534c",
   "metadata": {},
   "outputs": [
    {
     "name": "stdout",
     "output_type": "stream",
     "text": [
      "outer function\n",
      "outer function\n"
     ]
    }
   ],
   "source": [
    "def outer():\n",
    "    message = 'outer function'\n",
    "    print(message)\n",
    "\n",
    "    def inner():\n",
    "        print(message)\n",
    "\n",
    "    inner()\n",
    "\n",
    "\n",
    "outer()"
   ]
  },
  {
   "cell_type": "markdown",
   "id": "a67f3e13",
   "metadata": {},
   "source": [
    "Khi ta gọi hàm `outer()`, hàm `inner()` cũng được tạo ra và thực thi.\n",
    "\n",
    "Khi hàm `inner()` được thực thi, Python không tìm thấy biến `message` bên trong local scope. Vì thế Python tìm kiếm nó trong scope bao quanh nó, ở đây là scope của hàm `outer()`.\n",
    "![](https://www.pythontutorial.net/wp-content/uploads/2020/11/Python-nonlocal-Scopes.png)"
   ]
  },
  {
   "cell_type": "markdown",
   "id": "1fdf2e8c",
   "metadata": {},
   "source": [
    "Xét ví dụ sau:"
   ]
  },
  {
   "cell_type": "code",
   "execution_count": 3,
   "id": "8e780374",
   "metadata": {},
   "outputs": [
    {
     "name": "stdout",
     "output_type": "stream",
     "text": [
      "global scope\n"
     ]
    }
   ],
   "source": [
    "message = 'global scope'\n",
    "\n",
    "\n",
    "def outer():\n",
    "\n",
    "    def inner():\n",
    "        print(message)\n",
    "\n",
    "    inner()\n",
    "\n",
    "\n",
    "outer()"
   ]
  },
  {
   "cell_type": "markdown",
   "id": "b9542f98",
   "metadata": {},
   "source": [
    "Trong ví dụ này, đầu tiên Python tìm biến `message` bên trong local scope của hàm `inner()`.\n",
    "\n",
    "Vì Python không tìm thấy, nó tiếp tục tìm tiếp trong scope bao quanh nó, ở đây là scope của hàm `outer()`.\n",
    "\n",
    "Trong trường hợp này, Python phải tìm tiếp đến global scope để tìm biến `message`.\n",
    "![](https://www.pythontutorial.net/wp-content/uploads/2020/11/Python-nonlocal-Scopes-Variable-Lookup.png)"
   ]
  },
  {
   "cell_type": "markdown",
   "id": "f8d5a3ef",
   "metadata": {},
   "source": [
    "## <a class=\"anchor\" id=\"2\">Python `nonlocal` keyword</a>"
   ]
  },
  {
   "cell_type": "markdown",
   "id": "dd8fdff8",
   "metadata": {},
   "source": [
    "<span style=\"color:DarkOrange\">Để thay đổi một biến của một nonlocal scope bên trong một local scope, ta sử dụng từ khoá `nonlocal`</span>. Ví dụ:"
   ]
  },
  {
   "cell_type": "code",
   "execution_count": 4,
   "id": "2b415c08",
   "metadata": {},
   "outputs": [
    {
     "name": "stdout",
     "output_type": "stream",
     "text": [
      "outer scope\n",
      "inner scope\n",
      "inner scope\n"
     ]
    }
   ],
   "source": [
    "def outer():\n",
    "    message = 'outer scope'\n",
    "    print(message)\n",
    "\n",
    "    def inner():\n",
    "        nonlocal message\n",
    "        message = 'inner scope'\n",
    "        print(message)\n",
    "\n",
    "    inner()\n",
    "\n",
    "    print(message)\n",
    "\n",
    "\n",
    "outer()"
   ]
  },
  {
   "cell_type": "markdown",
   "id": "7f118c2f",
   "metadata": {},
   "source": [
    "Trong ví dụ này, ta sử dụng từ khoá `nonlocal` để chỉ cho Python biết rằng ta đang làm việc với biến nonlocal."
   ]
  },
  {
   "cell_type": "markdown",
   "id": "df0d9e18",
   "metadata": {},
   "source": [
    "Khi ta sử dụng từ khoá `nonlocal` với một biến, <span style=\"color:DarkOrange\">Python sẽ bắt đầu tìm biến đó từ scope bao quanh local scope và tiếp tục tìm các scope bao quanh cho đến khi gặp được biến đó. Tuy nhiên, Python sẽ không tìm đến global scope</span>."
   ]
  },
  {
   "cell_type": "markdown",
   "id": "d88f83a0",
   "metadata": {},
   "source": [
    "Xét ví dụ sau:"
   ]
  },
  {
   "cell_type": "code",
   "execution_count": 5,
   "id": "fc428da3",
   "metadata": {},
   "outputs": [
    {
     "name": "stdout",
     "output_type": "stream",
     "text": [
      "abc\n",
      "inner2\n",
      "abc\n"
     ]
    }
   ],
   "source": [
    "\n",
    "def outer():\n",
    "    message = 'abc'\n",
    "    print(message)\n",
    "\n",
    "    def inner():\n",
    "        message = \"inner1\"\n",
    "        def inner2():\n",
    "            nonlocal message\n",
    "            message = \"inner2\"\n",
    "            \n",
    "        inner2()\n",
    "        print(message)\n",
    "\n",
    "    inner()\n",
    "\n",
    "    print(message)\n",
    "\n",
    "\n",
    "outer()"
   ]
  },
  {
   "cell_type": "markdown",
   "id": "f9b848cb",
   "metadata": {},
   "source": [
    "Như ta thấy, ví dụ trên chạy bị lỗi."
   ]
  },
  {
   "cell_type": "markdown",
   "id": "4c2d3ad6",
   "metadata": {},
   "source": [
    "Bên trong hàm `inner()`, ta sử dụng từ khoá `nonlocal()` cho biến `message`.\n",
    "\n",
    "Vì vậy, Python sẽ tìm biến `message` ở trong scope bao quanh nó, ở đây là scope của hàm `outer()`.\n",
    "\n",
    "Scope của hàm `outer()` cũng không có biến `message`, Python cũng sẽ không tìm tiếp nữa. Vì thế chương trình báo lỗi.\n",
    "![](https://www.pythontutorial.net/wp-content/uploads/2020/11/Python-nonlocal-Scopes-nonlocal-variable-lookup.png)"
   ]
  },
  {
   "cell_type": "markdown",
   "id": "51f00e83",
   "metadata": {},
   "source": [
    "Đây là một ví dụ khác:"
   ]
  },
  {
   "cell_type": "code",
   "execution_count": 6,
   "id": "26ff7208",
   "metadata": {},
   "outputs": [
    {
     "name": "stdout",
     "output_type": "stream",
     "text": [
      "abc\n",
      "inner2\n",
      "abc\n"
     ]
    }
   ],
   "source": [
    "\n",
    "def outer():\n",
    "    message = 'abc'\n",
    "    print(message)\n",
    "\n",
    "    def inner():\n",
    "        message = \"inner1\"\n",
    "        def inner2():\n",
    "            nonlocal message\n",
    "            message = \"inner2\"\n",
    "            \n",
    "        inner2()\n",
    "        print(message)\n",
    "\n",
    "    inner()\n",
    "\n",
    "    print(message)\n",
    "\n",
    "\n",
    "outer()"
   ]
  },
  {
   "cell_type": "markdown",
   "id": "b574c3ba",
   "metadata": {},
   "source": [
    "Bên trong hàm `inner()`, ta định nghĩa một biến `message` và một hàm là `inner2()`. Bên trong hàm `inner2()`, ta sử dụng từ khoá `nonlocal` cho biến `message`."
   ]
  },
  {
   "cell_type": "markdown",
   "id": "deaf848f",
   "metadata": {},
   "source": [
    "Python sẽ tìm kiếm biến `message` ở scope bao quanh, trường hợp này là scope của `inner()`, do đó biến `message` bên trong scope của hàm `inner()` bị thay đổi. Còn biến `message` của global scope thì không bị ảnh hưởng."
   ]
  },
  {
   "cell_type": "markdown",
   "id": "491889b7",
   "metadata": {},
   "source": [
    "Giả sử xoá dòng định nghĩa biến `message` bên trong hàm `inner()` đi:"
   ]
  },
  {
   "cell_type": "code",
   "execution_count": 7,
   "id": "d844be9a",
   "metadata": {},
   "outputs": [
    {
     "name": "stdout",
     "output_type": "stream",
     "text": [
      "abc\n",
      "inner2\n",
      "inner2\n"
     ]
    }
   ],
   "source": [
    "\n",
    "def outer():\n",
    "    message = 'abc'\n",
    "    print(message)\n",
    "\n",
    "    def inner():\n",
    "        def inner2():\n",
    "            nonlocal message\n",
    "            message = \"inner2\"\n",
    "            \n",
    "        inner2()\n",
    "        print(message)\n",
    "\n",
    "    inner()\n",
    "\n",
    "    print(message)\n",
    "\n",
    "\n",
    "outer()"
   ]
  },
  {
   "cell_type": "markdown",
   "id": "c091493a",
   "metadata": {},
   "source": [
    "Lúc này từ bên trong hàm `inner2()`, ta dùng từ khoá `nonlocal` cho biến `message`. Đầu tiên Python sẽ tìm trong scope của hàm `inner()`, vì không tìm thấy nên Python sẽ tiếp tục tìm trong scope của hàm `outer()`. Vì thế biến `message` trong hàm `inner2()` ở đây chính là biến `message` của hàm `outer()`.\n",
    "\n",
    "Khi ta in ra biến `message` ở cuối hàm `outer()`, ta sẽ thấy giá trị của nó là `inner2`, do đã bị thay đổi ở bên trong hàm `inner2()`."
   ]
  },
  {
   "cell_type": "markdown",
   "id": "17c6018a",
   "metadata": {},
   "source": [
    "## <a class=\"anchor\" id=\"sum\" style=\"color:Violet\"> Tổng kết </a>"
   ]
  },
  {
   "cell_type": "markdown",
   "id": "ca620077",
   "metadata": {},
   "source": [
    "- Các scopes bao quanh scope của một inner function được gọi là _**nonlocal scope**_.\n",
    "- Sử dụng từ khoá `nonlocal` để thay đổi các biến của nonlocal scope bên trong local scope.\n",
    "- Python sẽ tìm kiếm biến nonlocal trên chuỗi các nonlocal scopes. Python sẽ không tìm trong global scope."
   ]
  }
 ],
 "metadata": {
  "kernelspec": {
   "display_name": "Python 3 (ipykernel)",
   "language": "python",
   "name": "python3"
  },
  "language_info": {
   "codemirror_mode": {
    "name": "ipython",
    "version": 3
   },
   "file_extension": ".py",
   "mimetype": "text/x-python",
   "name": "python",
   "nbconvert_exporter": "python",
   "pygments_lexer": "ipython3",
   "version": "3.10.9"
  }
 },
 "nbformat": 4,
 "nbformat_minor": 5
}
