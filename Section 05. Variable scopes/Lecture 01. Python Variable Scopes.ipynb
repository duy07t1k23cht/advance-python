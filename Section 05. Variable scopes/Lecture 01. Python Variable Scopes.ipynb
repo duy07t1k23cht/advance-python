{
 "cells": [
  {
   "cell_type": "markdown",
   "id": "b43d7b95",
   "metadata": {},
   "source": [
    "# <a href=\"https://www.pythontutorial.net/advanced-python/python-variable-scopes/\" style=\"color:Tomato\">Python Variable Scopes</a>"
   ]
  },
  {
   "cell_type": "markdown",
   "id": "f7eff089",
   "metadata": {},
   "source": [
    "Ở bài này ta sẽ tìm hiểu cách hoạt động các phạm vi biến trong Python, hiểu rõ về các phạm vi _built-in_, _local_ và _global_."
   ]
  },
  {
   "cell_type": "markdown",
   "id": "bee5d4f4",
   "metadata": {},
   "source": [
    "### Tables of Contents\n",
    "* [Introduction to Python variable scopes](#1)\n",
    "* [Global scopes](#2)\n",
    "* [Local scopes](#3)\n",
    "* [Variable lookups](#4)\n",
    "* [The `global` keyword](#5)\n",
    "* [Summary](#sum)"
   ]
  },
  {
   "cell_type": "markdown",
   "id": "a3a0cec1",
   "metadata": {},
   "source": [
    "## <a class=\"anchor\" id=\"1\">Introduction to Python variable scopes</a>"
   ]
  },
  {
   "cell_type": "markdown",
   "id": "637524d1",
   "metadata": {},
   "source": [
    "Khi bạn gán một object vào một biến, biến đó sẽ tham chiếu vào object đó, và ta nói biến đó _bound_ tới object."
   ]
  },
  {
   "cell_type": "markdown",
   "id": "81875877",
   "metadata": {},
   "source": [
    "Sau phép gán, ta có thể truy cập tới object bằng cách sử dụng tên biến, tuy nhiên không phải chỗ nào ta cũng có thể truy cập được vào biến."
   ]
  },
  {
   "cell_type": "markdown",
   "id": "dbf42f4a",
   "metadata": {},
   "source": [
    "Tên biến và object liên kết với nó chỉ tồn tại trong một số đoạn code cụ thể."
   ]
  },
  {
   "cell_type": "markdown",
   "id": "77042fc3",
   "metadata": {},
   "source": [
    "<span style=\"color:DarkOrange\">Đoạn code mà bạn định nghĩa ra tên biến thì được gọi là _lexical scope_ của biến đó</span>."
   ]
  },
  {
   "cell_type": "markdown",
   "id": "b42332d9",
   "metadata": {},
   "source": [
    "<span style=\"color:DarkOrange\">Python lưu những liên kết này trong _namespaces_. Mọi scope đều có một namespace của nó</span>."
   ]
  },
  {
   "cell_type": "markdown",
   "id": "6826c308",
   "metadata": {},
   "source": [
    "Có thể hình dung namespace giống như một cái bảng chứa các biến và các object tương ứng liên kết với biến đó."
   ]
  },
  {
   "cell_type": "markdown",
   "id": "60cdac74",
   "metadata": {},
   "source": [
    "## <a class=\"anchor\" id=\"2\">Global scopes</a>"
   ]
  },
  {
   "cell_type": "markdown",
   "id": "6c1e81a6",
   "metadata": {},
   "source": [
    "_Global scope_ hiểu đơn giản là phạm vi cả module. Nó chỉ có phạm vi trong các Python code."
   ]
  },
  {
   "cell_type": "markdown",
   "id": "64033887",
   "metadata": {},
   "source": [
    "Python không có một global scope đúng nghĩa có phạm vi cho tất cả module ngoại trừ built-in scope."
   ]
  },
  {
   "cell_type": "markdown",
   "id": "29b98ccf",
   "metadata": {},
   "source": [
    "Built-in scope là một scope đặc biệt cung cấp các object như `print`, `len`, `None`, `True`, `False`."
   ]
  },
  {
   "cell_type": "markdown",
   "id": "c8c23bb4",
   "metadata": {},
   "source": [
    "Về cơ bản, biến built-in và biến global có thể xuất hiện ở bất kỳ đâu trong module."
   ]
  },
  {
   "cell_type": "markdown",
   "id": "752f72bf",
   "metadata": {},
   "source": [
    "Global scopes nằm bên trong built-in scope:![](https://www.pythontutorial.net/wp-content/uploads/2020/11/Python-Variable-Scopes.png)"
   ]
  },
  {
   "cell_type": "markdown",
   "id": "1ee0059c",
   "metadata": {},
   "source": [
    " <span style=\"color:DarkOrange\">Nếu bạn truy cập vào một biến mà Python không thể tìm thấy nó trong scope hiện tại, nó sẽ tìm trong scope bao quanh namespace của scope đó</span>."
   ]
  },
  {
   "cell_type": "markdown",
   "id": "2c2e8ba6",
   "metadata": {},
   "source": [
    "Ví dụ, bạn có một dòng code sau trong module `app.py`:\n",
    "```python\n",
    "print('Hello')\n",
    "```"
   ]
  },
  {
   "cell_type": "markdown",
   "id": "32ccd588",
   "metadata": {},
   "source": [
    "Đầu tiên, Python sẽ tìm kiếm hàm `print` trong phạm vi module `app.py`. Nếu Python không thể tìm được hàm `print` trong `app.py`, Python sẽ tìm kiếm trong scope bao quanh nó, trong trường hợp này là built-in scope.\n",
    "![](https://www.pythontutorial.net/wp-content/uploads/2020/11/Python-Built-in-Scope.png)"
   ]
  },
  {
   "cell_type": "markdown",
   "id": "cdaee4b9",
   "metadata": {},
   "source": [
    "Nếu bạn sửa câu lệnh trên thành như sau, nó sẽ xảy ra lỗi:\n",
    "```python\n",
    "print(counter)\n",
    "```"
   ]
  },
  {
   "cell_type": "markdown",
   "id": "14cccce3",
   "metadata": {},
   "source": [
    "Do Python không tìm được biến `counter` trong global scope, nó sẽ tìm tiếp trong scope bao quanh là built-in scope. Tuy nhiên biến `counter` cũng không có trong built-in scope, vì thế Python sẽ báo lỗi `NameError` exception"
   ]
  },
  {
   "cell_type": "markdown",
   "id": "2b358e08",
   "metadata": {},
   "source": [
    "## <a class=\"anchor\" id=\"3\">Local scopes</a>"
   ]
  },
  {
   "cell_type": "markdown",
   "id": "6cf43d07",
   "metadata": {},
   "source": [
    "Khi tạo một hàm, ta có thể định nghĩa các biến và tham số ở trong hàm đó. Ví dụ:"
   ]
  },
  {
   "cell_type": "code",
   "execution_count": 1,
   "id": "21eaad4e",
   "metadata": {},
   "outputs": [],
   "source": [
    "def increment(counter, by=1):\n",
    "    result = counter + by\n",
    "    return result"
   ]
  },
  {
   "cell_type": "markdown",
   "id": "7d32c11f",
   "metadata": {},
   "source": [
    "Khi bạn chạy code, Python sẽ thực hiện hai bước: biên dịch và chạy chương trình."
   ]
  },
  {
   "cell_type": "markdown",
   "id": "6787f506",
   "metadata": {},
   "source": [
    "Khi Python biên dịch file, nó sẽ thêm hàm `increment` vào global scope. Ngoài ra, Python còn xác định thêm các biến `counter`, `by`, `result` bên trong hàm `increment()` và chị thuộc trong cục bộ hàm `increment()`. Python sẽ không tạo ra các biến `counter`, `by`, `result` cho đến khi hàm `increment()` được thực thi."
   ]
  },
  {
   "cell_type": "markdown",
   "id": "a9eb9a21",
   "metadata": {},
   "source": [
    " <span style=\"color:DarkOrange\">Cứ mỗi lần gọi hàm, Python lại tạo một scope mới. Python cũng gán các biến được định nghĩa trong hàm vào scope đó. Scope này được gọi là _function local scope_ hay _local scope_.</span>"
   ]
  },
  {
   "cell_type": "markdown",
   "id": "752f4117",
   "metadata": {},
   "source": [
    "Trong ví dụ này, chẳng hạn gọi\n",
    "```python\n",
    "increment(10, 2)\n",
    "```"
   ]
  },
  {
   "cell_type": "markdown",
   "id": "0db3124b",
   "metadata": {},
   "source": [
    "Python sẽ tạo một local scope cho hàm `increment()`, đồng thời tạo ra các biến `counter`, `by`, `result` ở trong namespace của scope đó và liên kiến nó với các giá trị `10`, `2`, `12`."
   ]
  },
  {
   "cell_type": "markdown",
   "id": "fc14f544",
   "metadata": {},
   "source": [
    " <span style=\"color:DarkOrange\">Khi thực thi xong hàm, Python sẽ xoá local scope đó.</span>"
   ]
  },
  {
   "cell_type": "markdown",
   "id": "764084c8",
   "metadata": {},
   "source": [
    "Nếu ta gọi các biến `counter`, `by` hoặc `result` ở ngoài hàm `increment()`, Python sẽ báo lỗi."
   ]
  },
  {
   "cell_type": "markdown",
   "id": "d8993c20",
   "metadata": {},
   "source": [
    "Và nếu ta gọi hàm một lần nữa:\n",
    "```python\n",
    "increment(100,3)\n",
    "```"
   ]
  },
  {
   "cell_type": "markdown",
   "id": "9ee3ce57",
   "metadata": {},
   "source": [
    "Python sẽ tạo ra một local scope mới và các biến `counter`, `by`, `result` và liên kết nó với các giá trị `100`, `3`, `103`."
   ]
  },
  {
   "cell_type": "markdown",
   "id": "2d7c5dc2",
   "metadata": {},
   "source": [
    "## <a class=\"anchor\" id=\"4\">Variable lookups</a>"
   ]
  },
  {
   "cell_type": "markdown",
   "id": "7b2dc8ff",
   "metadata": {},
   "source": [
    "Trong Python, các scopes được lồng vào nhau. Chẳng hạn, các local scopes nằm bên trong module scope, module scope nằm bên trong built-in scope.\n",
    "![](https://www.pythontutorial.net/wp-content/uploads/2020/11/Python-Nested-Scopes.png)"
   ]
  },
  {
   "cell_type": "markdown",
   "id": "1157272e",
   "metadata": {},
   "source": [
    "Khi bạn truy cập vào một object mà được liên kết với một biến, Python sẽ tìm object đó:\n",
    "- Trong local scope hiện tại trước\n",
    "-  <span style=\"color:DarkOrange\">Tìm tiếm scope tiếp theo bên ngoài scope hiện tại nếu không tìm được object</span>."
   ]
  },
  {
   "cell_type": "markdown",
   "id": "9cf5e592",
   "metadata": {},
   "source": [
    "## <a class=\"anchor\" id=\"5\">The `global` keyword</a>"
   ]
  },
  {
   "cell_type": "markdown",
   "id": "312bee92",
   "metadata": {},
   "source": [
    "Khi bạn muốn lấy giá trị từ một biến global ở trong một hàm, Python vẫn sẽ tự động tìm trong local scope trước, rồi sau đó mới tìm trong các scope to hơn. Chẳng hạn:"
   ]
  },
  {
   "cell_type": "code",
   "execution_count": 2,
   "id": "fd44d8f3",
   "metadata": {},
   "outputs": [
    {
     "name": "stdout",
     "output_type": "stream",
     "text": [
      "10\n"
     ]
    }
   ],
   "source": [
    "counter = 10\n",
    "\n",
    "\n",
    "def current():\n",
    "    print(counter)\n",
    "\n",
    "\n",
    "current()"
   ]
  },
  {
   "cell_type": "markdown",
   "id": "4924c88b",
   "metadata": {},
   "source": [
    "Trong ví dụ này, khi hàm `current()` được thực thi, python sẽ tìm biến `counter` trong local scope trước. Vì biến `counter` không có trong local scope, Python tiếp tục tìm trong global scope và tìm thấy biến `counter`."
   ]
  },
  {
   "cell_type": "markdown",
   "id": "a083e668",
   "metadata": {},
   "source": [
    "Tuy nhiên, nếu bạn gán một giá trị cho biến global bên trong hàm, Python sẽ thực hiện đặt biến đó vào trong local namespace. Ví dụ:"
   ]
  },
  {
   "cell_type": "code",
   "execution_count": 3,
   "id": "8db31a17",
   "metadata": {},
   "outputs": [
    {
     "name": "stdout",
     "output_type": "stream",
     "text": [
      "0\n",
      "10\n"
     ]
    }
   ],
   "source": [
    "counter = 10\n",
    "\n",
    "\n",
    "def reset():\n",
    "    counter = 0\n",
    "    print(counter)\n",
    "\n",
    "\n",
    "reset()\n",
    "print(counter)\n"
   ]
  },
  {
   "cell_type": "markdown",
   "id": "0ac03c0a",
   "metadata": {},
   "source": [
    "Khi dịch chương trình, Python coi biến `counter` là biến local. Khi hàm `reset()` được gọi, Python tìm biến `counter` trong local scope. Câu lệnh `print(counter)` ở trong hàm `reset()` hiển thị giá trị của biến `counter` là `0`."
   ]
  },
  {
   "cell_type": "markdown",
   "id": "4c1ef2e5",
   "metadata": {},
   "source": [
    "Khi ta gọi `print(counter)` sau khi hàm `reset()` chạy xong, nó sẽ lại in ra `10`."
   ]
  },
  {
   "cell_type": "markdown",
   "id": "af9800a1",
   "metadata": {},
   "source": [
    " <span style=\"color:DarkOrange\">Nếu muốn truy cập vào một biến global bên trong một hàm, ta sử dụng từ khoá `global`</span>. Ví dụ:"
   ]
  },
  {
   "cell_type": "code",
   "execution_count": 4,
   "id": "e2eec2ba",
   "metadata": {},
   "outputs": [
    {
     "name": "stdout",
     "output_type": "stream",
     "text": [
      "0\n",
      "0\n"
     ]
    }
   ],
   "source": [
    "counter = 10\n",
    "\n",
    "\n",
    "def reset():\n",
    "    global counter\n",
    "    counter = 0\n",
    "    print(counter) # 0\n",
    "\n",
    "\n",
    "reset()\n",
    "\n",
    "print(counter) # 0\n"
   ]
  },
  {
   "cell_type": "markdown",
   "id": "58ae0ff8",
   "metadata": {},
   "source": [
    "Từ khoá `global` chỉ cho Python biết ta muốn truy cập hàm `counter` ở global scope, không phải local scope."
   ]
  },
  {
   "cell_type": "markdown",
   "id": "c1c0cb76",
   "metadata": {},
   "source": [
    " <span style=\"color:Red\">**Lưu ý:**</span> Truy cập biến global bên trong một hàm không phải là best practice."
   ]
  },
  {
   "cell_type": "markdown",
   "id": "17c6018a",
   "metadata": {},
   "source": [
    "## <a class=\"anchor\" id=\"sum\" style=\"color:Violet\"> Tổng kết </a>"
   ]
  },
  {
   "cell_type": "markdown",
   "id": "eb17de9a",
   "metadata": {},
   "source": [
    "- Scope của một biến là phần phạm vi code có thể truy cập được biến đó.\n",
    "- Built-in scope có thể được truy cập từ bất kỳ đâu\n",
    "- Global scope (hay module scope) có thể được truy cập từ bất kỳ đâu bên trong module.\n",
    "- Local scope có thể được truy cập bên trong hàm\n",
    "- Python lưu các objects và các liên kết của nó bên trong namespace của scope\n",
    "- Python tìm kiếm object bên trong scope hiện tại trước và đi dần ra các scope lớn hơn nếu không tìm thấy.\n",
    "- Các scopes trong Python là lồng nhau\n",
    "- Sử dụng từ khoá `global` nếu muốn truy cập một biến global bên trong một hàm. Tuy nhiên đây không phải là best practice."
   ]
  }
 ],
 "metadata": {
  "kernelspec": {
   "display_name": "Python 3 (ipykernel)",
   "language": "python",
   "name": "python3"
  },
  "language_info": {
   "codemirror_mode": {
    "name": "ipython",
    "version": 3
   },
   "file_extension": ".py",
   "mimetype": "text/x-python",
   "name": "python",
   "nbconvert_exporter": "python",
   "pygments_lexer": "ipython3",
   "version": "3.10.9"
  }
 },
 "nbformat": 4,
 "nbformat_minor": 5
}
