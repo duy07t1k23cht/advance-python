{
 "cells": [
  {
   "cell_type": "markdown",
   "id": "b43d7b95",
   "metadata": {},
   "source": [
    "# <a href=\"https://www.pythontutorial.net/advanced-python/python-iter/\" style=\"color:Tomato\">Python Generators</a>"
   ]
  },
  {
   "cell_type": "markdown",
   "id": "97df777b",
   "metadata": {},
   "source": [
    "Bài này ta học về Python generators và cách để sử dụng generators để tạo ra một iterators."
   ]
  },
  {
   "cell_type": "markdown",
   "id": "bee5d4f4",
   "metadata": {},
   "source": [
    "### Tables of Contents\n",
    "* [Introduction to Python generators](#1)\n",
    "* [A simple Python generator example](#2)\n",
    "* [Using Python generators to create iterators](#3)\n",
    "* [Summary](#sum)"
   ]
  },
  {
   "cell_type": "markdown",
   "id": "a3a0cec1",
   "metadata": {},
   "source": [
    "## <a class=\"anchor\" id=\"1\">Introduction to Python generators</a>"
   ]
  },
  {
   "cell_type": "markdown",
   "id": "61f394c8",
   "metadata": {},
   "source": [
    "Bình thường thì Python sẽ chạy một function từ trên xuống dưới, theo run-to-completion model."
   ]
  },
  {
   "cell_type": "markdown",
   "id": "9390438e",
   "metadata": {},
   "source": [
    "Python không thể tạm dừng function ở giữa chừng và sau đó tiếp tục function. Ví dụ:"
   ]
  },
  {
   "cell_type": "code",
   "execution_count": 1,
   "id": "c8dcddd5",
   "metadata": {},
   "outputs": [],
   "source": [
    "def greeting():\n",
    "    print('Hi!')\n",
    "    print('How are you?')\n",
    "    print('Are you there?')"
   ]
  },
  {
   "cell_type": "markdown",
   "id": "7c00aed5",
   "metadata": {},
   "source": [
    "Khi Python thực thi hàm `greeting()`, nó sẽ thực thi code từng dòng một từ trên xuống dưới."
   ]
  },
  {
   "cell_type": "markdown",
   "id": "8c0cf3ca",
   "metadata": {},
   "source": [
    "Python cũng không thể tạm dừng function ở dòng `print('How are you?')`, sau đó nhảy tới đoạn code khác và lại tiếp tục thực thi function từ dòng đó được."
   ]
  },
  {
   "cell_type": "markdown",
   "id": "a1dfca87",
   "metadata": {},
   "source": [
    "<span style=\"color:DarkOrange\">Để tạm dừng một function ở giữa chừng và tiếp tục nó sau đó, ta sử dụng lệnh `yield`</span>."
   ]
  },
  {
   "cell_type": "markdown",
   "id": "2579e913",
   "metadata": {},
   "source": [
    "<span style=\"color:DarkOrange\">Khi một function chứa ít nhất một lệnh `yield`, nó được gọi là **generator function**</span>."
   ]
  },
  {
   "cell_type": "markdown",
   "id": "d525dac2",
   "metadata": {},
   "source": [
    "<span style=\"color:DarkOrange\">Khi ta gọi một generator function, nó return một **generator object**. Tuy nhiên, nó sẽ không bắt đầu function đó.</span>"
   ]
  },
  {
   "cell_type": "markdown",
   "id": "313487b6",
   "metadata": {},
   "source": [
    "Các generator objects (hay còn gọi là generators) đều implement iterator protocol. <span style=\"color:DarkOrange\">Các generators đều là lazy iterators</span>. Do đó, để thực thi một generator function, ta phải gọi hàm `next()`."
   ]
  },
  {
   "cell_type": "markdown",
   "id": "0a018159",
   "metadata": {},
   "source": [
    "## <a class=\"anchor\" id=\"2\">A simple Python generator example</a>"
   ]
  },
  {
   "cell_type": "markdown",
   "id": "b6447d50",
   "metadata": {},
   "source": [
    "Xem ví dụ sau:"
   ]
  },
  {
   "cell_type": "code",
   "execution_count": 2,
   "id": "ba0b121d",
   "metadata": {},
   "outputs": [],
   "source": [
    "def greeting():\n",
    "    print('Hi!')\n",
    "    yield 1\n",
    "    print('How are you?')\n",
    "    yield 2\n",
    "    print('Are you there?')\n",
    "    yield 3"
   ]
  },
  {
   "cell_type": "markdown",
   "id": "a1599e3a",
   "metadata": {},
   "source": [
    "Hàm `greeting()` được gjoi là generator function vì nó có lệnh `yield`."
   ]
  },
  {
   "cell_type": "markdown",
   "id": "c42c016b",
   "metadata": {},
   "source": [
    "<span style=\"color:DarkOrange\">Lệnh `yield` giống như lệnh `return`, nhưng nó sẽ tạm dừng function ở dòng lệnh đó (chứ không thoát ra hẳn như `return`). Khi ta gọi hàm một lần nữa, Python sẽ tiếp tục thực thi hàm ở chỗ nó vừa tạm dừng.</span>"
   ]
  },
  {
   "cell_type": "markdown",
   "id": "db91db6b",
   "metadata": {},
   "source": [
    "Khi ta gọi một generator function, nó trả về một generator object. Ví dụ:"
   ]
  },
  {
   "cell_type": "code",
   "execution_count": 3,
   "id": "611d4a32",
   "metadata": {},
   "outputs": [],
   "source": [
    "messenger = greeting()"
   ]
  },
  {
   "cell_type": "markdown",
   "id": "11af5fdc",
   "metadata": {},
   "source": [
    "`messenger` là một generator object, và nó cũng là một iterator."
   ]
  },
  {
   "cell_type": "markdown",
   "id": "54b0f500",
   "metadata": {},
   "source": [
    "Để thực thi hàm `greeting()`, ta phải sử dụng hàm `next()`:"
   ]
  },
  {
   "cell_type": "code",
   "execution_count": 4,
   "id": "b925b966",
   "metadata": {},
   "outputs": [
    {
     "name": "stdout",
     "output_type": "stream",
     "text": [
      "Hi!\n",
      "1\n"
     ]
    }
   ],
   "source": [
    "result = next(messenger)\n",
    "print(result)"
   ]
  },
  {
   "cell_type": "markdown",
   "id": "4ed46d21",
   "metadata": {},
   "source": [
    "Nó tạm dừng ở câu lệnh `yield` đầu tiên. Nếu ta gọi tiếp hàm `greeting()` thì nó sẽ thực thi từ lệnh `yield` cuối cùng trước khi nó dừng:"
   ]
  },
  {
   "cell_type": "code",
   "execution_count": 5,
   "id": "5a303a99",
   "metadata": {},
   "outputs": [
    {
     "name": "stdout",
     "output_type": "stream",
     "text": [
      "How are you?\n",
      "2\n"
     ]
    }
   ],
   "source": [
    "result = next(messenger)\n",
    "print(result)"
   ]
  },
  {
   "cell_type": "markdown",
   "id": "895dc94c",
   "metadata": {},
   "source": [
    "Lần nữa:"
   ]
  },
  {
   "cell_type": "code",
   "execution_count": 6,
   "id": "948fd364",
   "metadata": {},
   "outputs": [
    {
     "name": "stdout",
     "output_type": "stream",
     "text": [
      "Are you there?\n",
      "3\n"
     ]
    }
   ],
   "source": [
    "result = next(messenger)\n",
    "print(result) "
   ]
  },
  {
   "cell_type": "markdown",
   "id": "829b58a9",
   "metadata": {},
   "source": [
    "Giờ nếu ta gọi một lần nữa, nó sẽ raise `StopIteration` bởi vì nó là một iterator."
   ]
  },
  {
   "cell_type": "markdown",
   "id": "dd125e08",
   "metadata": {},
   "source": [
    "## <a class=\"anchor\" id=\"3\">Using Python generators to create iterators</a>"
   ]
  },
  {
   "cell_type": "markdown",
   "id": "cc36f79b",
   "metadata": {},
   "source": [
    "Ví dụ sau là một iterator trả về bình phương của các số nguyên:"
   ]
  },
  {
   "cell_type": "code",
   "execution_count": 7,
   "id": "8ab211cf",
   "metadata": {},
   "outputs": [],
   "source": [
    "class Squares:\n",
    "    def __init__(self, length):\n",
    "        self.length = length\n",
    "        self.current = 0\n",
    "\n",
    "    def __iter__(self):\n",
    "        return self\n",
    "\n",
    "    def __next__(self):\n",
    "        result = self.current ** 2\n",
    "\n",
    "        self.current += 1\n",
    "\n",
    "        if self.current > self.length:\n",
    "            raise StopIteration\n",
    "\n",
    "        return result"
   ]
  },
  {
   "cell_type": "markdown",
   "id": "f9549c8e",
   "metadata": {},
   "source": [
    "Ta có thể dùng `Squares` iterator để generate bình phương của các số từ 0 đến 5:"
   ]
  },
  {
   "cell_type": "code",
   "execution_count": 8,
   "id": "b4934ea5",
   "metadata": {},
   "outputs": [
    {
     "name": "stdout",
     "output_type": "stream",
     "text": [
      "0\n",
      "1\n",
      "4\n",
      "9\n",
      "16\n"
     ]
    }
   ],
   "source": [
    "length = 5\n",
    "square = Squares(length)\n",
    "for s in square:\n",
    "    print(s)"
   ]
  },
  {
   "cell_type": "markdown",
   "id": "123f8315",
   "metadata": {},
   "source": [
    "Code thực hiện như ta mong muốn nhưng ta có một cách ngắn gọn hơn là dùng generator:"
   ]
  },
  {
   "cell_type": "code",
   "execution_count": 9,
   "id": "e319dc05",
   "metadata": {},
   "outputs": [],
   "source": [
    "def squares(length):\n",
    "    for n in range(length):\n",
    "        yield n ** 2"
   ]
  },
  {
   "cell_type": "code",
   "execution_count": 10,
   "id": "22710ff9",
   "metadata": {},
   "outputs": [
    {
     "name": "stdout",
     "output_type": "stream",
     "text": [
      "0\n",
      "1\n",
      "4\n",
      "9\n",
      "16\n"
     ]
    }
   ],
   "source": [
    "length = 5\n",
    "square = squares(length)\n",
    "for s in square:\n",
    "    print(s)"
   ]
  },
  {
   "cell_type": "markdown",
   "id": "17c6018a",
   "metadata": {},
   "source": [
    "## <a class=\"anchor\" id=\"sum\" style=\"color:Violet\"> Tổng kết </a>"
   ]
  },
  {
   "cell_type": "markdown",
   "id": "57c61c15",
   "metadata": {},
   "source": [
    "- Python generators là các functions có chứa ít nhất một lệnh `yield`\n",
    "- Một generator function trả về một generator object.\n",
    "- Một generator object là một iterator, vì thế nó sẽ exhausted khi không còn item nào để return."
   ]
  }
 ],
 "metadata": {
  "kernelspec": {
   "display_name": "Python 3 (ipykernel)",
   "language": "python",
   "name": "python3"
  },
  "language_info": {
   "codemirror_mode": {
    "name": "ipython",
    "version": 3
   },
   "file_extension": ".py",
   "mimetype": "text/x-python",
   "name": "python",
   "nbconvert_exporter": "python",
   "pygments_lexer": "ipython3",
   "version": "3.10.9"
  }
 },
 "nbformat": 4,
 "nbformat_minor": 5
}
