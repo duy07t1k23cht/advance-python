{
 "cells": [
  {
   "cell_type": "markdown",
   "id": "b43d7b95",
   "metadata": {},
   "source": [
    "# <a href=\"https://www.pythontutorial.net/advanced-python/python-generator-expressions/\" style=\"color:Tomato\">Python Generator Expressions</a>"
   ]
  },
  {
   "cell_type": "markdown",
   "id": "56f7e9d1",
   "metadata": {},
   "source": [
    "Ở bài này ta học về Python generator expression để tạo ra các generator object."
   ]
  },
  {
   "cell_type": "markdown",
   "id": "bee5d4f4",
   "metadata": {},
   "source": [
    "### Tables of Contents\n",
    "* [Introduction to generator expressions](#1)\n",
    "* [Generator expressions vs list comprehensions](#2)\n",
    "    - [Syntax](#2.1)\n",
    "    - [Memory utilization](#2.2)\n",
    "    - [Iterable vs iterator](#2.3)\n",
    "* [Summary](#sum)"
   ]
  },
  {
   "cell_type": "markdown",
   "id": "a3a0cec1",
   "metadata": {},
   "source": [
    "## <a class=\"anchor\" id=\"1\">Introduction to generator expressions</a>"
   ]
  },
  {
   "cell_type": "markdown",
   "id": "b337b389",
   "metadata": {},
   "source": [
    "Về cơ bản, để tạo một generator object, ta cần tạo một function có chứa lệnh `yield`:"
   ]
  },
  {
   "cell_type": "code",
   "execution_count": 1,
   "id": "45b271f1",
   "metadata": {},
   "outputs": [],
   "source": [
    "def squares(length):\n",
    "    for n in range(length):\n",
    "        yield n ** 2"
   ]
  },
  {
   "cell_type": "code",
   "execution_count": 2,
   "id": "bc092eb5",
   "metadata": {},
   "outputs": [
    {
     "name": "stdout",
     "output_type": "stream",
     "text": [
      "0\n",
      "1\n",
      "4\n",
      "9\n",
      "16\n"
     ]
    }
   ],
   "source": [
    "for square in squares(5):\n",
    "    print(square)"
   ]
  },
  {
   "cell_type": "markdown",
   "id": "5b1b34ce",
   "metadata": {},
   "source": [
    "Generator expression cung cấp một cách đơn giản hơn để cho một generator object:"
   ]
  },
  {
   "cell_type": "code",
   "execution_count": 3,
   "id": "8936b987",
   "metadata": {},
   "outputs": [
    {
     "data": {
      "text/plain": [
       "generator"
      ]
     },
     "execution_count": 3,
     "metadata": {},
     "output_type": "execute_result"
    }
   ],
   "source": [
    "squares = (n** 2 for n in range(5))\n",
    "type(squares)"
   ]
  },
  {
   "cell_type": "markdown",
   "id": "563bd4cd",
   "metadata": {},
   "source": [
    "Vì `squares` là một generator object nên ta có thể duyệt nó như bình thường:"
   ]
  },
  {
   "cell_type": "code",
   "execution_count": 4,
   "id": "288c43d2",
   "metadata": {},
   "outputs": [
    {
     "name": "stdout",
     "output_type": "stream",
     "text": [
      "0\n",
      "1\n",
      "4\n",
      "9\n",
      "16\n"
     ]
    }
   ],
   "source": [
    "for square in squares:\n",
    "    print(square)"
   ]
  },
  {
   "cell_type": "markdown",
   "id": "07e3ad61",
   "metadata": {},
   "source": [
    "Một generator expression cũng support các cú pháp như list comprehension:\n",
    "- `if` statements\n",
    "- Multiple nested loops\n",
    "- Nested comprehensions"
   ]
  },
  {
   "cell_type": "markdown",
   "id": "9fdeedb4",
   "metadata": {},
   "source": [
    "## <a class=\"anchor\" id=\"2\">Generator expressions vs list comprehensions</a>"
   ]
  },
  {
   "cell_type": "markdown",
   "id": "c9e7bf7e",
   "metadata": {},
   "source": [
    "Ví dụ sau là một list comprehension:"
   ]
  },
  {
   "cell_type": "code",
   "execution_count": 5,
   "id": "d8247474",
   "metadata": {},
   "outputs": [],
   "source": [
    "square_list = [n** 2 for n in range(5)]"
   ]
  },
  {
   "cell_type": "markdown",
   "id": "abf685d1",
   "metadata": {},
   "source": [
    "Và một generator expression:"
   ]
  },
  {
   "cell_type": "code",
   "execution_count": 6,
   "id": "6acf243c",
   "metadata": {},
   "outputs": [],
   "source": [
    "square_generator = (n** 2 for n in range(5))"
   ]
  },
  {
   "cell_type": "markdown",
   "id": "c346298c",
   "metadata": {},
   "source": [
    "### <a class=\"anchor\" id=\"2.1\">Syntax</a>"
   ]
  },
  {
   "cell_type": "markdown",
   "id": "f9fea529",
   "metadata": {},
   "source": [
    "Chỉ khác nhau giữa `[]` và `()`."
   ]
  },
  {
   "cell_type": "markdown",
   "id": "718c34fb",
   "metadata": {},
   "source": [
    "### <a class=\"anchor\" id=\"2.2\">Memory utilization</a>"
   ]
  },
  {
   "cell_type": "markdown",
   "id": "4c5c60f3",
   "metadata": {},
   "source": [
    "Một list comprehension trả về một generator expression trả về một generator object."
   ]
  },
  {
   "cell_type": "markdown",
   "id": "2ca959ae",
   "metadata": {},
   "source": [
    "Nói cách khác, một list comprehension trả về một list hoàn chỉnh gồm đầy đủ các phần tử. Còn một generator expression trả về từng phần tử một, tuỳ vào yêu cầu."
   ]
  },
  {
   "cell_type": "markdown",
   "id": "e30944d7",
   "metadata": {},
   "source": [
    "Nói cách khác, list comprehension tạo ra toàn bộ phần tử và load toàn bộ nó vào memory, trong khi đó generator expression chỉ tạo ra một phần tử dựa vào yêu cầu và chỉ load một phần tử vào memory."
   ]
  },
  {
   "cell_type": "markdown",
   "id": "f2d521ea",
   "metadata": {},
   "source": [
    "### <a class=\"anchor\" id=\"2.3\">Iterable vs iterator</a>"
   ]
  },
  {
   "cell_type": "markdown",
   "id": "1de13280",
   "metadata": {},
   "source": [
    "Một list comprehension trả về một iterable. Có nghĩa là ta có thể duyệt nó nhiều lần."
   ]
  },
  {
   "cell_type": "markdown",
   "id": "170c31fd",
   "metadata": {},
   "source": [
    "Một generator expression trả về một lazy iterator. Nó sẽ exhausted khi ta duyệt hết các phần tử của nó."
   ]
  },
  {
   "cell_type": "markdown",
   "id": "17c6018a",
   "metadata": {},
   "source": [
    "## <a class=\"anchor\" id=\"sum\" style=\"color:Violet\"> Tổng kết </a>"
   ]
  },
  {
   "cell_type": "markdown",
   "id": "8dac7139",
   "metadata": {},
   "source": [
    "- Có thể sử dụng Python generator expression để trả về một generator."
   ]
  }
 ],
 "metadata": {
  "kernelspec": {
   "display_name": "Python 3 (ipykernel)",
   "language": "python",
   "name": "python3"
  },
  "language_info": {
   "codemirror_mode": {
    "name": "ipython",
    "version": 3
   },
   "file_extension": ".py",
   "mimetype": "text/x-python",
   "name": "python",
   "nbconvert_exporter": "python",
   "pygments_lexer": "ipython3",
   "version": "3.10.9"
  }
 },
 "nbformat": 4,
 "nbformat_minor": 5
}
