{
 "cells": [
  {
   "cell_type": "markdown",
   "id": "b43d7b95",
   "metadata": {},
   "source": [
    "# <a href=\"https://www.pythontutorial.net/advanced-python/python-namedtuple/\" style=\"color:Tomato\">Python NamedTuple</a>"
   ]
  },
  {
   "cell_type": "markdown",
   "id": "c68e4cd3",
   "metadata": {},
   "source": [
    "Bài này ta học về `namedtuple` trong Python."
   ]
  },
  {
   "cell_type": "markdown",
   "id": "bee5d4f4",
   "metadata": {},
   "source": [
    "### Tables of Contents\n",
    "* [Introduction to Python named tuples](#1)\n",
    "* [Creating named tuple classes](#2)\n",
    "* [Instantiating named tuples](#3)\n",
    "* [Accessing data of a named tuple](#4)\n",
    "* [The rename argument of the namedtuple function](#5)\n",
    "* [Additional Python functions of named tuples](#6)\n",
    "* [Summary](#sum)"
   ]
  },
  {
   "cell_type": "markdown",
   "id": "a3a0cec1",
   "metadata": {},
   "source": [
    "## <a class=\"anchor\" id=\"1\">Introduction to Python named tuples</a>"
   ]
  },
  {
   "cell_type": "markdown",
   "id": "47fc8bc7",
   "metadata": {},
   "source": [
    "Tuple sau có 2 phần tử:"
   ]
  },
  {
   "cell_type": "code",
   "execution_count": 1,
   "id": "28fc7378",
   "metadata": {},
   "outputs": [],
   "source": [
    "point = (100, 200)"
   ]
  },
  {
   "cell_type": "markdown",
   "id": "9c91dc1c",
   "metadata": {},
   "source": [
    "`point` tuple biểu diễn toạ độ của một điểm trên mặt phẳng 2D. Ta thường lấy toạ độ bằng cách sau:"
   ]
  },
  {
   "cell_type": "code",
   "execution_count": 2,
   "id": "f822d873",
   "metadata": {},
   "outputs": [],
   "source": [
    "x = point[0]\n",
    "y = point[1]"
   ]
  },
  {
   "cell_type": "markdown",
   "id": "cf382088",
   "metadata": {},
   "source": [
    "Code này chạy tốt, tuy nhiên nó không rõ ràng lắm, vì ta phải biết chính xác phần tử nào ý nghĩa là gì trong tuple."
   ]
  },
  {
   "cell_type": "markdown",
   "id": "da50b51d",
   "metadata": {},
   "source": [
    "Để làm cho nó clear hơn thì ta có thể dùng một class rồi lấy toạ độ là các thuộc tính của nó. Đồng thời để so sánh 2 điểm có trùng nhau hay không, ta viết thêm hàm `__eq__()`:"
   ]
  },
  {
   "cell_type": "code",
   "execution_count": 3,
   "id": "eecbb87f",
   "metadata": {},
   "outputs": [],
   "source": [
    "class Point2D:\n",
    "    def __init__(self, x, y):\n",
    "        self.x = x\n",
    "        self.y = y\n",
    "\n",
    "    def __eq__(self, other):\n",
    "        if isinstance(other, Point2D):\n",
    "            return self.x == other.x and self.y == other.y\n",
    "        return False"
   ]
  },
  {
   "cell_type": "markdown",
   "id": "356b43cf",
   "metadata": {},
   "source": [
    "Ví dụ sau so sánh 2 điểm có trùng nhau hay không:"
   ]
  },
  {
   "cell_type": "code",
   "execution_count": 4,
   "id": "51177475",
   "metadata": {},
   "outputs": [
    {
     "name": "stdout",
     "output_type": "stream",
     "text": [
      "False\n",
      "True\n"
     ]
    }
   ],
   "source": [
    "a = Point2D(100, 200)\n",
    "b = Point2D(100, 200)\n",
    "\n",
    "print(a is b)  # False\n",
    "print(a == b)  # true"
   ]
  },
  {
   "cell_type": "markdown",
   "id": "a41fb55f",
   "metadata": {},
   "source": [
    "Code này hoạt động như mình mong muốn, tuy nhiên code lại dài hơn rất nhiều."
   ]
  },
  {
   "cell_type": "markdown",
   "id": "4fc140b1",
   "metadata": {},
   "source": [
    "Để kết hợp sự đơn giản của tuple và sự rõ ràng của class, ta có Named Tuple.\n",
    "\n",
    "![](https://www.pythontutorial.net/wp-content/uploads/2020/11/Python-NamedTuples.png)"
   ]
  },
  {
   "cell_type": "markdown",
   "id": "913d7da5",
   "metadata": {},
   "source": [
    "Named tuples cho phép ta gán các tên có ý nghĩa cho các phần tử của tuple."
   ]
  },
  {
   "cell_type": "markdown",
   "id": "f98b8afd",
   "metadata": {},
   "source": [
    "<span style=\"color:DarkOrange\">Một named tuple là một subclass của tuple</span>, các phần tử của tuple được gán thêm tên."
   ]
  },
  {
   "cell_type": "markdown",
   "id": "e1e894e2",
   "metadata": {},
   "source": [
    "## <a class=\"anchor\" id=\"2\">Creating named tuple classes</a>"
   ]
  },
  {
   "cell_type": "markdown",
   "id": "ce6cb00a",
   "metadata": {},
   "source": [
    "Đầu tiên phải import `namedtuple` của thư viện `collections`:"
   ]
  },
  {
   "cell_type": "code",
   "execution_count": 5,
   "id": "11781a1f",
   "metadata": {},
   "outputs": [],
   "source": [
    "from collections import namedtuple"
   ]
  },
  {
   "cell_type": "markdown",
   "id": "06ecb4e2",
   "metadata": {},
   "source": [
    "Sau đó có thể tạo namedtuple như các ví dụ sau. Tất cả các ví dụ dưới đây đều tạo một `Point2D` class."
   ]
  },
  {
   "cell_type": "code",
   "execution_count": 6,
   "id": "e3f8c510",
   "metadata": {},
   "outputs": [],
   "source": [
    "Point2D = namedtuple('Point2D',['x','y'])"
   ]
  },
  {
   "cell_type": "code",
   "execution_count": 7,
   "id": "04e195a9",
   "metadata": {},
   "outputs": [],
   "source": [
    "Point2D = namedtuple('Point2D',('x','y'))"
   ]
  },
  {
   "cell_type": "code",
   "execution_count": 8,
   "id": "ef168a1f",
   "metadata": {},
   "outputs": [],
   "source": [
    "Point2D = namedtuple('Point2D',('x, y'))"
   ]
  },
  {
   "cell_type": "code",
   "execution_count": 9,
   "id": "5487cb91",
   "metadata": {},
   "outputs": [],
   "source": [
    "Point2D = namedtuple('Point2D','x y')"
   ]
  },
  {
   "cell_type": "markdown",
   "id": "d65abd15",
   "metadata": {},
   "source": [
    "Cú pháp là:\n",
    "```python\n",
    "ClassName = namedtuple(\"<tên class>\",<Danh sách tên các thuộc tính>)\n",
    "```\n",
    "- Class mình dùng là `ClassName`, không phải `<tên class>`\n",
    "- Danh sách tên các thuộc tính có thể truyền vào theo các cách như 4 ví dụ trên. Đây cũng là các biến nên cũng phải đặt tên như đặt tên biến luôn."
   ]
  },
  {
   "cell_type": "markdown",
   "id": "03dc4e70",
   "metadata": {},
   "source": [
    "## <a class=\"anchor\" id=\"3\">Instantiating named tuples</a>"
   ]
  },
  {
   "cell_type": "markdown",
   "id": "2285347a",
   "metadata": {},
   "source": [
    "`Point2D` cũng là một class, nó là subclass của `tuple`, vì thế ta tạo một instance của nó như bình thường:"
   ]
  },
  {
   "cell_type": "code",
   "execution_count": 10,
   "id": "f2b0c13d",
   "metadata": {},
   "outputs": [],
   "source": [
    "point = Point2D(6, 9);"
   ]
  },
  {
   "cell_type": "markdown",
   "id": "d9e2f60e",
   "metadata": {},
   "source": [
    "hoặc:"
   ]
  },
  {
   "cell_type": "code",
   "execution_count": 11,
   "id": "e71bd535",
   "metadata": {},
   "outputs": [],
   "source": [
    "point = Point2D(x=6, y=9)"
   ]
  },
  {
   "cell_type": "markdown",
   "id": "fa580a9c",
   "metadata": {},
   "source": [
    "Nói chung là như class bình thường mà có các thuộc tính là các tên biến mình định nghĩa phía trên thôi."
   ]
  },
  {
   "cell_type": "markdown",
   "id": "6a6ea7b8",
   "metadata": {},
   "source": [
    "`point` là một instance của `Point2D` class, vì thế nó cũng là một instance của `tuple` class luôn:"
   ]
  },
  {
   "cell_type": "code",
   "execution_count": 12,
   "id": "9d0544de",
   "metadata": {},
   "outputs": [
    {
     "name": "stdout",
     "output_type": "stream",
     "text": [
      "True\n",
      "True\n"
     ]
    }
   ],
   "source": [
    "print(isinstance(point, Point2D))  # True\n",
    "print(isinstance(point, tuple))  # True"
   ]
  },
  {
   "cell_type": "markdown",
   "id": "a32f8cc8",
   "metadata": {},
   "source": [
    "## <a class=\"anchor\" id=\"4\">Accessing data of a named tuple</a>"
   ]
  },
  {
   "cell_type": "markdown",
   "id": "bd80d135",
   "metadata": {},
   "source": [
    "Một named tuple cũng là một tuple nên ta có thể access như tuple bình thường:"
   ]
  },
  {
   "cell_type": "code",
   "execution_count": 13,
   "id": "d86b039f",
   "metadata": {},
   "outputs": [
    {
     "name": "stdout",
     "output_type": "stream",
     "text": [
      "(6, 9)\n",
      "(6, 9)\n",
      "6\n",
      "9\n"
     ]
    }
   ],
   "source": [
    "# unpacking\n",
    "x, y = point\n",
    "print(f'({x}, {y})')  # (6, 9)\n",
    "\n",
    "# indexing\n",
    "x = point[0]\n",
    "y = point[1]\n",
    "print(f'({x}, {y})')  # (6, 9)\n",
    "\n",
    "# iterating\n",
    "\n",
    "for coordinate in point:\n",
    "    print(coordinate)\n"
   ]
  },
  {
   "cell_type": "markdown",
   "id": "02396d40",
   "metadata": {},
   "source": [
    "Và tất nhiên cũng có thể truy cập các thuộc tính như class bình thường:"
   ]
  },
  {
   "cell_type": "code",
   "execution_count": 14,
   "id": "5049ba47",
   "metadata": {},
   "outputs": [
    {
     "name": "stdout",
     "output_type": "stream",
     "text": [
      "6 9\n"
     ]
    }
   ],
   "source": [
    "print(point.x, point.y)"
   ]
  },
  {
   "cell_type": "markdown",
   "id": "66836536",
   "metadata": {},
   "source": [
    "## <a class=\"anchor\" id=\"5\">The rename argument of the namedtuple function</a>"
   ]
  },
  {
   "cell_type": "markdown",
   "id": "7d6dab64",
   "metadata": {},
   "source": [
    "Tham số này để cho phép ta đặt tên các biến là các tên không hợp lệ trong named tuple. Ví dụ:"
   ]
  },
  {
   "cell_type": "code",
   "execution_count": 15,
   "id": "e99d7cac",
   "metadata": {},
   "outputs": [
    {
     "ename": "ValueError",
     "evalue": "Field names cannot start with an underscore: '_radius'",
     "output_type": "error",
     "traceback": [
      "\u001b[0;31m---------------------------------------------------------------------------\u001b[0m",
      "\u001b[0;31mValueError\u001b[0m                                Traceback (most recent call last)",
      "Cell \u001b[0;32mIn[15], line 1\u001b[0m\n\u001b[0;32m----> 1\u001b[0m Circle \u001b[38;5;241m=\u001b[39m \u001b[43mnamedtuple\u001b[49m\u001b[43m(\u001b[49m\n\u001b[1;32m      2\u001b[0m \u001b[43m    \u001b[49m\u001b[38;5;124;43m'\u001b[39;49m\u001b[38;5;124;43mCircle\u001b[39;49m\u001b[38;5;124;43m'\u001b[39;49m\u001b[43m,\u001b[49m\n\u001b[1;32m      3\u001b[0m \u001b[43m    \u001b[49m\u001b[38;5;124;43m'\u001b[39;49m\u001b[38;5;124;43mcenter_x, center_y, _radius\u001b[39;49m\u001b[38;5;124;43m'\u001b[39;49m\n\u001b[1;32m      4\u001b[0m \u001b[43m)\u001b[49m\n",
      "File \u001b[0;32m~/anaconda3/lib/python3.10/collections/__init__.py:382\u001b[0m, in \u001b[0;36mnamedtuple\u001b[0;34m(typename, field_names, rename, defaults, module)\u001b[0m\n\u001b[1;32m    380\u001b[0m \u001b[38;5;28;01mfor\u001b[39;00m name \u001b[38;5;129;01min\u001b[39;00m field_names:\n\u001b[1;32m    381\u001b[0m     \u001b[38;5;28;01mif\u001b[39;00m name\u001b[38;5;241m.\u001b[39mstartswith(\u001b[38;5;124m'\u001b[39m\u001b[38;5;124m_\u001b[39m\u001b[38;5;124m'\u001b[39m) \u001b[38;5;129;01mand\u001b[39;00m \u001b[38;5;129;01mnot\u001b[39;00m rename:\n\u001b[0;32m--> 382\u001b[0m         \u001b[38;5;28;01mraise\u001b[39;00m \u001b[38;5;167;01mValueError\u001b[39;00m(\u001b[38;5;124m'\u001b[39m\u001b[38;5;124mField names cannot start with an underscore: \u001b[39m\u001b[38;5;124m'\u001b[39m\n\u001b[1;32m    383\u001b[0m                          \u001b[38;5;124mf\u001b[39m\u001b[38;5;124m'\u001b[39m\u001b[38;5;132;01m{\u001b[39;00mname\u001b[38;5;132;01m!r}\u001b[39;00m\u001b[38;5;124m'\u001b[39m)\n\u001b[1;32m    384\u001b[0m     \u001b[38;5;28;01mif\u001b[39;00m name \u001b[38;5;129;01min\u001b[39;00m seen:\n\u001b[1;32m    385\u001b[0m         \u001b[38;5;28;01mraise\u001b[39;00m \u001b[38;5;167;01mValueError\u001b[39;00m(\u001b[38;5;124mf\u001b[39m\u001b[38;5;124m'\u001b[39m\u001b[38;5;124mEncountered duplicate field name: \u001b[39m\u001b[38;5;132;01m{\u001b[39;00mname\u001b[38;5;132;01m!r}\u001b[39;00m\u001b[38;5;124m'\u001b[39m)\n",
      "\u001b[0;31mValueError\u001b[0m: Field names cannot start with an underscore: '_radius'"
     ]
    }
   ],
   "source": [
    "Circle = namedtuple(\n",
    "    'Circle',\n",
    "    'center_x, center_y, _radius'\n",
    ")"
   ]
  },
  {
   "cell_type": "markdown",
   "id": "39a6e2f1",
   "metadata": {},
   "source": [
    "Sẽ bị lỗi, nhưng cái này lại được:"
   ]
  },
  {
   "cell_type": "code",
   "execution_count": 16,
   "id": "59fab887",
   "metadata": {},
   "outputs": [],
   "source": [
    "Circle = namedtuple(\n",
    "    'Circle',\n",
    "    'center_x, center_y, _radius',\n",
    "    rename=True\n",
    ")"
   ]
  },
  {
   "cell_type": "markdown",
   "id": "8521e26c",
   "metadata": {},
   "source": [
    "Nó sẽ tự đổi tên mình đặt thành một tên khác hợp lệ. Ta có thể xem bằng cách dùng thuộc tính `_fields`:"
   ]
  },
  {
   "cell_type": "code",
   "execution_count": 17,
   "id": "61b69599",
   "metadata": {},
   "outputs": [
    {
     "name": "stdout",
     "output_type": "stream",
     "text": [
      "('center_x', 'center_y', '_2')\n"
     ]
    }
   ],
   "source": [
    "print(Circle._fields)"
   ]
  },
  {
   "cell_type": "markdown",
   "id": "951b3d52",
   "metadata": {},
   "source": [
    "## <a class=\"anchor\" id=\"6\">Additional Python functions of named tuples</a>"
   ]
  },
  {
   "cell_type": "markdown",
   "id": "b2c6af09",
   "metadata": {},
   "source": [
    "So sánh 2 namedtuple: như tuple bình thường."
   ]
  },
  {
   "cell_type": "code",
   "execution_count": 18,
   "id": "f10a7bb1",
   "metadata": {},
   "outputs": [
    {
     "name": "stdout",
     "output_type": "stream",
     "text": [
      "True\n"
     ]
    }
   ],
   "source": [
    "a = Point2D(100, 200)\n",
    "b = Point2D(100, 200)\n",
    "\n",
    "print(a == b)  # True"
   ]
  },
  {
   "cell_type": "markdown",
   "id": "c81de13e",
   "metadata": {},
   "source": [
    "String representation:"
   ]
  },
  {
   "cell_type": "code",
   "execution_count": 19,
   "id": "8831e0d7",
   "metadata": {},
   "outputs": [
    {
     "name": "stdout",
     "output_type": "stream",
     "text": [
      "Point2D(x=100, y=200)\n"
     ]
    }
   ],
   "source": [
    "print(a)"
   ]
  },
  {
   "cell_type": "markdown",
   "id": "242c9780",
   "metadata": {},
   "source": [
    "Và cũng dùng được các hàm khác như tuple thông thường:"
   ]
  },
  {
   "cell_type": "code",
   "execution_count": 20,
   "id": "296268d4",
   "metadata": {},
   "outputs": [
    {
     "name": "stdout",
     "output_type": "stream",
     "text": [
      "200\n",
      "100\n"
     ]
    }
   ],
   "source": [
    "print(max(a))  # 200\n",
    "print(min(a))  # 100"
   ]
  },
  {
   "cell_type": "markdown",
   "id": "17c6018a",
   "metadata": {},
   "source": [
    "## <a class=\"anchor\" id=\"sum\" style=\"color:Violet\"> Tổng kết </a>"
   ]
  },
  {
   "cell_type": "markdown",
   "id": "d05f802b",
   "metadata": {},
   "source": [
    "- Named tuples là tuples nhưng mà các phần tử được đặt các tên có ý nghĩa.\n",
    "- `from collections import namedtuple` để dùng named tuples."
   ]
  }
 ],
 "metadata": {
  "kernelspec": {
   "display_name": "Python 3 (ipykernel)",
   "language": "python",
   "name": "python3"
  },
  "language_info": {
   "codemirror_mode": {
    "name": "ipython",
    "version": 3
   },
   "file_extension": ".py",
   "mimetype": "text/x-python",
   "name": "python",
   "nbconvert_exporter": "python",
   "pygments_lexer": "ipython3",
   "version": "3.10.9"
  }
 },
 "nbformat": 4,
 "nbformat_minor": 5
}
