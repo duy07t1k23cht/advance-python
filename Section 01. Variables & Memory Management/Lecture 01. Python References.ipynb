{
 "cells": [
  {
   "cell_type": "markdown",
   "id": "90c6ceb6",
   "metadata": {},
   "source": [
    "# <a href=\"https://www.pythontutorial.net/advanced-python/python-references/\" style=\"color:Tomato\">Python References</a>"
   ]
  },
  {
   "cell_type": "markdown",
   "id": "df5f8bdf",
   "metadata": {},
   "source": [
    "Ở bài này, ta sẽ tìm hiểu về *Python references* (tham chiếu Python) và *referencing counting* (đếm tham chiếu) trong Python."
   ]
  },
  {
   "cell_type": "markdown",
   "id": "bee5d4f4",
   "metadata": {},
   "source": [
    "### Tables of Contents\n",
    "* [Introduction to Python references](#1)\n",
    "* [Reference counting](#2)\n",
    "* [Counting references](#3)\n",
    "* [Summary](#sum)"
   ]
  },
  {
   "cell_type": "markdown",
   "id": "6f67efac",
   "metadata": {},
   "source": [
    "## <a class=\"anchor\" id=\"1\">Introduction to Python references</a>"
   ]
  },
  {
   "cell_type": "markdown",
   "id": "91b5a3f0",
   "metadata": {},
   "source": [
    "Trong Python, bản thân biến không chứa giá trị. Một biến là một tham chiếu tới một object đang giữ giá trị. Nói cách khác, <span style=\"color:DarkOrange\">các biến chỉ là các tham chiếu</span>."
   ]
  },
  {
   "cell_type": "markdown",
   "id": "58075262",
   "metadata": {},
   "source": [
    "<u>Ví dụ:</u> Xét dòng code sau:"
   ]
  },
  {
   "cell_type": "code",
   "execution_count": 1,
   "id": "afa873e1",
   "metadata": {},
   "outputs": [],
   "source": [
    "counter = 100"
   ]
  },
  {
   "cell_type": "markdown",
   "id": "cc45bd5b",
   "metadata": {},
   "source": [
    "Python sẽ tạo một object kiểu integer (`int`) trong bộ nhớ và gán biến `counter` với địa chỉ của vùng nhớ đó."
   ]
  },
  {
   "cell_type": "markdown",
   "id": "b6ecbc32",
   "metadata": {},
   "source": [
    "![](https://www.pythontutorial.net/wp-content/uploads/2020/10/Python-References.png)"
   ]
  },
  {
   "cell_type": "markdown",
   "id": "a4fe359c",
   "metadata": {},
   "source": [
    "Khi bạn truy cập vào biến `counter`, Python sẽ tìm kiếm object được tham chiếu bởi `counter` và trả về giá trị của object đó."
   ]
  },
  {
   "cell_type": "code",
   "execution_count": 2,
   "id": "11bc42d5",
   "metadata": {},
   "outputs": [
    {
     "name": "stdout",
     "output_type": "stream",
     "text": [
      "100\n"
     ]
    }
   ],
   "source": [
    "print(counter)"
   ]
  },
  {
   "cell_type": "markdown",
   "id": "85b11e58",
   "metadata": {},
   "source": [
    "Vậy, **<span style=\"color:DodgerBlue\">các biến là các tham chiếu trỏ đến các object ở trong bộ nhớ</span>**."
   ]
  },
  {
   "cell_type": "markdown",
   "id": "c12561d8",
   "metadata": {},
   "source": [
    "Để lấy địa chỉ của object được tham chiếu bởi một biến trong bộ nhớ, ta sử dụng hàm `id()`."
   ]
  },
  {
   "cell_type": "markdown",
   "id": "2cc23946",
   "metadata": {},
   "source": [
    "<u>Ví dụ:</u> Đoạn code sau trả về địa chỉ của object được tham chiếu bởi biến `counter`."
   ]
  },
  {
   "cell_type": "code",
   "execution_count": 3,
   "id": "705d1e42",
   "metadata": {},
   "outputs": [
    {
     "name": "stdout",
     "output_type": "stream",
     "text": [
      "4374433104\n"
     ]
    }
   ],
   "source": [
    "counter = 100\n",
    "print(id(counter))"
   ]
  },
  {
   "cell_type": "markdown",
   "id": "a59fe0f9",
   "metadata": {},
   "source": [
    "Hàm `id()` trả về địa chỉ của object ở hệ thập phân. Để convert nó về dạng hex, ta sử dụng hàm `hex()`:"
   ]
  },
  {
   "cell_type": "code",
   "execution_count": 4,
   "id": "2fb724c4",
   "metadata": {},
   "outputs": [
    {
     "name": "stdout",
     "output_type": "stream",
     "text": [
      "4374433104\n",
      "0x104bc8d50\n"
     ]
    }
   ],
   "source": [
    "counter = 100\n",
    "\n",
    "print(id(counter)) \n",
    "print(hex(id(counter)))"
   ]
  },
  {
   "cell_type": "markdown",
   "id": "df37491f",
   "metadata": {},
   "source": [
    "## <a class=\"anchor\" id=\"2\">Reference counting</a>"
   ]
  },
  {
   "cell_type": "markdown",
   "id": "2c91e083",
   "metadata": {},
   "source": [
    "Một object có thể được tham chiếu bởi một hoặc nhiều biến. Xét ví dụ:"
   ]
  },
  {
   "cell_type": "code",
   "execution_count": 5,
   "id": "8459a1a1",
   "metadata": {},
   "outputs": [],
   "source": [
    " counter = 100"
   ]
  },
  {
   "cell_type": "markdown",
   "id": "7d566423",
   "metadata": {},
   "source": [
    "Một object kiểu integer với giá trị là `100` được tham chiếu bởi biến `counter`. Nếu ta gán `counter` với một biến khác, ví dụ biến `max`:"
   ]
  },
  {
   "cell_type": "code",
   "execution_count": 6,
   "id": "02ce314e",
   "metadata": {},
   "outputs": [],
   "source": [
    "counter = 100\n",
    "max = counter"
   ]
  },
  {
   "cell_type": "markdown",
   "id": "46064df7",
   "metadata": {},
   "source": [
    "Lúc này, cả 2 biến `counter` và `max` sẽ đều tham chiếu tới cùng một object. Object này có giá trị là `100` và nó có 2 tham chiếu:\n",
    "![](https://www.pythontutorial.net/wp-content/uploads/2020/10/Python-Reference-counting.png)"
   ]
  },
  {
   "cell_type": "markdown",
   "id": "a1c8c4d6",
   "metadata": {},
   "source": [
    "Nếu bây giờ gán biến `max` với một giá trị khác:"
   ]
  },
  {
   "cell_type": "code",
   "execution_count": 7,
   "id": "b3e54ca3",
   "metadata": {},
   "outputs": [],
   "source": [
    "max = 999"
   ]
  },
  {
   "cell_type": "markdown",
   "id": "db628d22",
   "metadata": {},
   "source": [
    "Thì lúc này, object với giá trị `100` có 1 tham chiếu là biến `counter`. Biến `max` tham chiếu tới một object khác có giá trị `999`:\n",
    "![](https://www.pythontutorial.net/wp-content/uploads/2020/10/Python-Reference-counting-2.png)"
   ]
  },
  {
   "cell_type": "markdown",
   "id": "7f5b3403",
   "metadata": {},
   "source": [
    "Và số lượng tham chiếu của object giá trị `100` sẽ là 0 nếu ta gán biến `counter` với một giá trị khác:"
   ]
  },
  {
   "cell_type": "code",
   "execution_count": 8,
   "id": "6c7c6d49",
   "metadata": {},
   "outputs": [],
   "source": [
    "counter = 1"
   ]
  },
  {
   "cell_type": "markdown",
   "id": "074eca91",
   "metadata": {},
   "source": [
    "![](https://www.pythontutorial.net/wp-content/uploads/2020/10/Python-Reference-counting-3.png)"
   ]
  },
  {
   "cell_type": "markdown",
   "id": "ce620417",
   "metadata": {},
   "source": [
    "**<span style=\"color:DodgerBlue\">Khi một object không còn tham chiếu nào, **Python Memory Manager** sẽ tiêu diệt nó để giải phóng bộ nhớ.</span>**"
   ]
  },
  {
   "cell_type": "markdown",
   "id": "c8487df6",
   "metadata": {},
   "source": [
    "## <a class=\"anchor\" id=\"3\">Counting references</a>"
   ]
  },
  {
   "cell_type": "markdown",
   "id": "1d199455",
   "metadata": {},
   "source": [
    "Để lấy số lượng tham chiếu của một object, ta sử dụng hàm `from_address` từ thư viện `ctypes`.\n",
    "```python\n",
    "ctypes.c_long.from_address(address).value\n",
    "```"
   ]
  },
  {
   "cell_type": "markdown",
   "id": "8ea9d144",
   "metadata": {},
   "source": [
    "Để sử dụng, ta cần truyền vào địa chỉ của object. Địa chỉ này phải là một số kiểu integer."
   ]
  },
  {
   "cell_type": "code",
   "execution_count": 9,
   "id": "3288afdc",
   "metadata": {},
   "outputs": [],
   "source": [
    "import ctypes\n",
    "\n",
    "\n",
    "def ref_count(address):\n",
    "    return ctypes.c_long.from_address(address).value"
   ]
  },
  {
   "cell_type": "markdown",
   "id": "1491a56d",
   "metadata": {},
   "source": [
    "Ví dụ: Xét một `list` các số kiểu integer:"
   ]
  },
  {
   "cell_type": "code",
   "execution_count": 10,
   "id": "a6d331a3",
   "metadata": {},
   "outputs": [],
   "source": [
    "numbers = [1, 2, 3]"
   ]
  },
  {
   "cell_type": "markdown",
   "id": "a024e12b",
   "metadata": {},
   "source": [
    "Để lấy địa chỉ của `numbers`, ta dùng hàm `id()`:"
   ]
  },
  {
   "cell_type": "code",
   "execution_count": 11,
   "id": "62428f89",
   "metadata": {},
   "outputs": [
    {
     "data": {
      "text/plain": [
       "4712232064"
      ]
     },
     "execution_count": 11,
     "metadata": {},
     "output_type": "execute_result"
    }
   ],
   "source": [
    "numbers_id = id(numbers)\n",
    "numbers_id"
   ]
  },
  {
   "cell_type": "markdown",
   "id": "afa85a03",
   "metadata": {},
   "source": [
    "In ra số lượng tham chiếu của list được tham chiếu bởi biến `numbers`:"
   ]
  },
  {
   "cell_type": "code",
   "execution_count": 12,
   "id": "750ddac9",
   "metadata": {},
   "outputs": [
    {
     "data": {
      "text/plain": [
       "1"
      ]
     },
     "execution_count": 12,
     "metadata": {},
     "output_type": "execute_result"
    }
   ],
   "source": [
    "ref_count(numbers_id)"
   ]
  },
  {
   "cell_type": "markdown",
   "id": "254c5e2b",
   "metadata": {},
   "source": [
    "Kết quả được in ra là 1 vì chỉ có duy nhất biến `numbers` đang tham chiếu vào nó."
   ]
  },
  {
   "cell_type": "markdown",
   "id": "17039d5e",
   "metadata": {},
   "source": [
    "Giờ ta sẽ gán một biến mới với biến `numbers`:"
   ]
  },
  {
   "cell_type": "code",
   "execution_count": 13,
   "id": "f05b3913",
   "metadata": {},
   "outputs": [],
   "source": [
    "ranks = numbers"
   ]
  },
  {
   "cell_type": "markdown",
   "id": "c60ca540",
   "metadata": {},
   "source": [
    "Lúc này, sẽ có 2 biến đang được tham chiếu đến cùng địa chỉ `numbers_id` nên kết quả sẽ là 2."
   ]
  },
  {
   "cell_type": "code",
   "execution_count": 14,
   "id": "141030d9",
   "metadata": {},
   "outputs": [
    {
     "data": {
      "text/plain": [
       "2"
      ]
     },
     "execution_count": 14,
     "metadata": {},
     "output_type": "execute_result"
    }
   ],
   "source": [
    "ref_count(numbers_id)"
   ]
  },
  {
   "cell_type": "markdown",
   "id": "99873f72",
   "metadata": {},
   "source": [
    "Bây giờ ta gán lại `ranks` là `None`, số lượng tham chiếu đến địa chỉ trên quay về 1 (vì chỉ có biến `numbers` là đang tham chiếu đến)"
   ]
  },
  {
   "cell_type": "code",
   "execution_count": 15,
   "id": "9bdc32e8",
   "metadata": {},
   "outputs": [
    {
     "name": "stdout",
     "output_type": "stream",
     "text": [
      "1\n"
     ]
    }
   ],
   "source": [
    "ranks = None\n",
    "print(ctypes.c_long.from_address(numbers_id).value)"
   ]
  },
  {
   "cell_type": "markdown",
   "id": "656c4777",
   "metadata": {},
   "source": [
    "Và giờ nếu ta gán luôn `numbers` là `None` thì kết quả sẽ là 0."
   ]
  },
  {
   "cell_type": "code",
   "execution_count": 16,
   "id": "c0dbd1f7",
   "metadata": {},
   "outputs": [
    {
     "name": "stdout",
     "output_type": "stream",
     "text": [
      "0\n"
     ]
    }
   ],
   "source": [
    "numbers = None\n",
    "numbers = None\n",
    "print(ctypes.c_long.from_address(numbers_id).value)"
   ]
  },
  {
   "cell_type": "markdown",
   "id": "7570023a",
   "metadata": {},
   "source": [
    "## <a class=\"anchor\" id=\"sum\" style=\"color:Violet\"> Tổng kết </a>"
   ]
  },
  {
   "cell_type": "markdown",
   "id": "dd36c769",
   "metadata": {},
   "source": [
    "- Các biến trong Python là các tham chiếu tới các object trong bộ nhớ.\n",
    "- Sử dụng hàm `id()` để lấy địa chỉ của object được tham chiếu bởi một biến."
   ]
  }
 ],
 "metadata": {
  "kernelspec": {
   "display_name": "Python 3 (ipykernel)",
   "language": "python",
   "name": "python3"
  },
  "language_info": {
   "codemirror_mode": {
    "name": "ipython",
    "version": 3
   },
   "file_extension": ".py",
   "mimetype": "text/x-python",
   "name": "python",
   "nbconvert_exporter": "python",
   "pygments_lexer": "ipython3",
   "version": "3.10.9"
  },
  "toc-autonumbering": false,
  "toc-showcode": false,
  "toc-showmarkdowntxt": false
 },
 "nbformat": 4,
 "nbformat_minor": 5
}
