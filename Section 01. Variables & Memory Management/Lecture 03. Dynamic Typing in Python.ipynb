{
 "cells": [
  {
   "cell_type": "markdown",
   "id": "6f682e53",
   "metadata": {},
   "source": [
    "# <a href=\"https://www.pythontutorial.net/advanced-python/dynamic-typing-in-python/\" style=\"color:Tomato\">Dynamic Typing in Python</a>"
   ]
  },
  {
   "cell_type": "markdown",
   "id": "cb28e41b",
   "metadata": {},
   "source": [
    "Ở bài này, ta sẽ tìm hiểu về *dynamic typing* (kiểu dữ liệu động) trong Python và cách mà nó hoạt động."
   ]
  },
  {
   "cell_type": "markdown",
   "id": "bee5d4f4",
   "metadata": {},
   "source": [
    "### Tables of Contents\n",
    "* [Introduction to dynamic typing in Python](#1)\n",
    "* [Summary](#sum)"
   ]
  },
  {
   "cell_type": "markdown",
   "id": "e56f5ba1",
   "metadata": {},
   "source": [
    "## <a class=\"anchor\" id=\"1\">Introduction to dynamic typing in Python</a>"
   ]
  },
  {
   "cell_type": "markdown",
   "id": "dc9b8de2",
   "metadata": {},
   "source": [
    "Ở một số ngôn ngữ lập trình khác như Java hay C#, khi khai báo một biến, ta phải chỉ ra kiểu dữ liệu của biến đó là gì."
   ]
  },
  {
   "cell_type": "markdown",
   "id": "77882f10",
   "metadata": {},
   "source": [
    "Ví dụ, trong Java, khi muốn khai báo một biến kiểu `String`, ta làm như sau:"
   ]
  },
  {
   "cell_type": "markdown",
   "id": "a859641a",
   "metadata": {},
   "source": [
    "```Java\n",
    "String message = \"Hello\";\n",
    "```"
   ]
  },
  {
   "cell_type": "markdown",
   "id": "ba678fa9",
   "metadata": {},
   "source": [
    "Java sẽ thực hiện tạo một object kiểu `String` và có giá trị là `hello`, đồng thời tạo một biến `message` kiểu `String` và tham chiếu đến object đó."
   ]
  },
  {
   "cell_type": "markdown",
   "id": "b19fa6e1",
   "metadata": {},
   "source": [
    "Trong các ngôn ngữ lập trình tĩnh (*statically typed languages*), kiểu dữ liệu sẽ được gắn với các biến. Nếu sau đó bạn gán biến `message` với một số nguyên thì sẽ không được. Lý do là vì biến `message` đã được gắn với kiểu dữ liệu `String`, không phải `int`."
   ]
  },
  {
   "cell_type": "markdown",
   "id": "4f461996",
   "metadata": {},
   "source": [
    "Python thì khác, nó là ngôn ngữ lập trình động (*dynamically typed language*). Khi khai báo một biến ta không cần phải chỉ rõ kiểu dữ liệu cho nó."
   ]
  },
  {
   "cell_type": "code",
   "execution_count": 1,
   "id": "1d185010",
   "metadata": {},
   "outputs": [],
   "source": [
    "message = \"Hello\""
   ]
  },
  {
   "cell_type": "markdown",
   "id": "46dd9bf9",
   "metadata": {},
   "source": [
    "Trong Python, biến `message` đơn giản là được tham chiếu tới một object là một string. Không có kiểu dữ liệu nào được gắn với `message`.\n",
    "![](https://www.pythontutorial.net/wp-content/uploads/2020/10/Dynamic-Typing-in-Python-example.png)"
   ]
  },
  {
   "cell_type": "markdown",
   "id": "609d2349",
   "metadata": {},
   "source": [
    "Nếu muốn gán một số nguyên cho `message`, hoàn toàn ổn."
   ]
  },
  {
   "cell_type": "code",
   "execution_count": 2,
   "id": "05b1ece4",
   "metadata": {},
   "outputs": [],
   "source": [
    "message = 100"
   ]
  },
  {
   "cell_type": "markdown",
   "id": "8e0d0d59",
   "metadata": {},
   "source": [
    "Trong trường hợp này, Python sẽ tạo một object mới kiểu integer, và biến `message` lúc này sẽ tham chiếu vào object đó.\n",
    "![](https://www.pythontutorial.net/wp-content/uploads/2020/10/Dynamic-Typing-in-Python-example-reassignment.png)"
   ]
  },
  {
   "cell_type": "markdown",
   "id": "0d9f615a",
   "metadata": {},
   "source": [
    "Để biết kiểu dữ liệu của object đang được tham chiếu bởi một biến, ta dùng hàm `type()`. Đoạn code sau khai báo biến `message` và gán nó với một string `\"Hello\"`."
   ]
  },
  {
   "cell_type": "code",
   "execution_count": 3,
   "id": "f3242442",
   "metadata": {},
   "outputs": [
    {
     "name": "stdout",
     "output_type": "stream",
     "text": [
      "<class 'str'>\n"
     ]
    }
   ],
   "source": [
    "message = \"Hello\"\n",
    "print(type(message))"
   ]
  },
  {
   "cell_type": "markdown",
   "id": "8a8281fd",
   "metadata": {},
   "source": [
    "Khi gán `message` với một số, `type(message)` sẽ thay đổi:"
   ]
  },
  {
   "cell_type": "code",
   "execution_count": 4,
   "id": "c5021c62",
   "metadata": {},
   "outputs": [
    {
     "name": "stdout",
     "output_type": "stream",
     "text": [
      "<class 'int'>\n"
     ]
    }
   ],
   "source": [
    "message = 100\n",
    "print(type(message))"
   ]
  },
  {
   "cell_type": "markdown",
   "id": "17c6018a",
   "metadata": {},
   "source": [
    "## <a class=\"anchor\" id=\"sum\" style=\"color:Violet\"> Tổng kết </a>"
   ]
  },
  {
   "cell_type": "markdown",
   "id": "cafeec29",
   "metadata": {},
   "source": [
    "- Python là ngôn ngữ lập trình động - *dynamically typed language*\n",
    "- Trong Python, các biến không được gắn với một kiểu dữ liệu cụ thể.\n",
    "- Sử dụng hàm `type()` để lấy kiểu dữ liệu của object đang được tham chiếu."
   ]
  }
 ],
 "metadata": {
  "kernelspec": {
   "display_name": "Python 3 (ipykernel)",
   "language": "python",
   "name": "python3"
  },
  "language_info": {
   "codemirror_mode": {
    "name": "ipython",
    "version": 3
   },
   "file_extension": ".py",
   "mimetype": "text/x-python",
   "name": "python",
   "nbconvert_exporter": "python",
   "pygments_lexer": "ipython3",
   "version": "3.10.9"
  }
 },
 "nbformat": 4,
 "nbformat_minor": 5
}
