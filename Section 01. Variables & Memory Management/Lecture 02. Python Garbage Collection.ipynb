{
 "cells": [
  {
   "cell_type": "markdown",
   "id": "330b9a4c",
   "metadata": {},
   "source": [
    "# <a href=\"https://www.pythontutorial.net/advanced-python/python-garbage-collection/\" style=\"color:Tomato\">Python Garbage Collection</a>"
   ]
  },
  {
   "cell_type": "markdown",
   "id": "9ba7e4ef",
   "metadata": {},
   "source": [
    "Ở bài này, ta sẽ tìm hiểu cách mà *Python garbage collection* (Bộ dọn rác Python) hoạt động và cách để tương tác với *garbage collector* (bộ dọn rác) bằng code."
   ]
  },
  {
   "cell_type": "markdown",
   "id": "55be8547",
   "metadata": {},
   "source": [
    "> *Lưu ý:* Cái kernel của jupyter hoạt động hơi ảo, bộ đếm tham chiếu hoạt động nhiều khi không như mình mong đợi. Nên phần code phía dưới có thể copy ra chỗ khác để chạy thử. Kết quả vẫn sẽ giống như giải thích ở bài giảng."
   ]
  },
  {
   "cell_type": "markdown",
   "id": "bee5d4f4",
   "metadata": {},
   "source": [
    "### Tables of Contents\n",
    "* [Introduction to Python garbage collection](#1)\n",
    "* [Interacting with Python garbage collector](#2)\n",
    "* [Summary](#sum)"
   ]
  },
  {
   "cell_type": "markdown",
   "id": "c7126e0e",
   "metadata": {},
   "source": [
    "## <a class=\"anchor\" id=\"1\">Introduction to Python garbage collection</a>"
   ]
  },
  {
   "cell_type": "markdown",
   "id": "43001048",
   "metadata": {},
   "source": [
    "Trong C hoặc C++, bạn hoàn toàn chịu trách nhiệm cho việc quản lý bộ nhớ cho chương trình của mình."
   ]
  },
  {
   "cell_type": "markdown",
   "id": "0fe684fc",
   "metadata": {},
   "source": [
    "Trong Python, <span style=\"color:DarkOrange\">bạn không cần phải lo quản lý bộ nhớ vì Python sẽ làm việc đó một cách tự động cho bạn</span>."
   ]
  },
  {
   "cell_type": "markdown",
   "id": "871bea39",
   "metadata": {},
   "source": [
    "Ở bài trước, ta đã biết Python Memory Manager luôn theo dõi các tham chiếu tới các object trong bộ nhớ. Khi một object có số tham chiếu bằng 0, Memory Manager sẽ tiêu diệt nó để giải phóng bộ nhớ."
   ]
  },
  {
   "cell_type": "markdown",
   "id": "6166ee7c",
   "metadata": {},
   "source": [
    "Tuy nhiên, không phải lúc nào bộ đếm tham chiếu cũng hoạt động đúng. Chẳng hạn khi một object tham chiếu tới chính nó hoặc có 2 objects tham chiếu vào nhau. Hiện tượng này được gọi là *circular references* (tham chiếu vòng tròn)."
   ]
  },
  {
   "cell_type": "markdown",
   "id": "83b4b86a",
   "metadata": {},
   "source": [
    "Khi Python Memory Manager không giải quyết được vấn đề này, nó sẽ gây ra *memory leak*."
   ]
  },
  {
   "cell_type": "markdown",
   "id": "00023e2c",
   "metadata": {},
   "source": [
    "Đây chính là lý do mình cần đến Garbage Collection, để giải quyết vấn đề circular references."
   ]
  },
  {
   "cell_type": "markdown",
   "id": "37be1d73",
   "metadata": {},
   "source": [
    "Python cho phép bạn tương tác với Garbage Collection thông qua module `gc`."
   ]
  },
  {
   "cell_type": "markdown",
   "id": "e6c47e5a",
   "metadata": {},
   "source": [
    "## <a class=\"anchor\" id=\"2\">Interacting with Python garbage collector</a>"
   ]
  },
  {
   "cell_type": "markdown",
   "id": "c8dcab70",
   "metadata": {},
   "source": [
    "Ta sẽ thử tạo một circle reference giữa 2 instances của 2 class `A` và `B`. Sau đó ta sẽ sử dụng Garbage Collector để dọn 2 objects này."
   ]
  },
  {
   "cell_type": "markdown",
   "id": "17aaca51",
   "metadata": {},
   "source": [
    "Đầu tiên, import thư viện `gc` và `ctypes` và định nghĩa 2 hàm để đếm tham chiếu và kiểm tra xem một object có đang tồn tại trong bộ nhớ hay không."
   ]
  },
  {
   "cell_type": "code",
   "execution_count": 1,
   "id": "af927358",
   "metadata": {},
   "outputs": [],
   "source": [
    "import gc\n",
    "import ctypes\n",
    "\n",
    "\n",
    "def ref_count(address):\n",
    "    return ctypes.c_long.from_address(address).value\n",
    "\n",
    "\n",
    "def object_exists(object_id):\n",
    "    for object in gc.get_objects():\n",
    "        if id(object) == object_id:\n",
    "            return True\n",
    "\n",
    "    return False"
   ]
  },
  {
   "cell_type": "markdown",
   "id": "394c677f",
   "metadata": {},
   "source": [
    "Tiếp theo, ta tạo 2 class `A` và `B` tham chiếu tới nhau."
   ]
  },
  {
   "cell_type": "code",
   "execution_count": 2,
   "id": "316a3b15",
   "metadata": {},
   "outputs": [],
   "source": [
    "class A:\n",
    "    def __init__(self):\n",
    "        self.b = B(self)\n",
    "        print(f'A: {hex(id(self))}, B: {hex(id(self.b))}')\n",
    "\n",
    "\n",
    "class B:\n",
    "    def __init__(self, a):\n",
    "        self.a = a\n",
    "        print(f'B: {hex(id(self))}, A: {hex(id(self.a))}')\n"
   ]
  },
  {
   "cell_type": "markdown",
   "id": "bcb8eaf0",
   "metadata": {},
   "source": [
    "Ta sẽ thử vô hiệu hoá Garbage Collection bằng cách gọi hàm `disable()`"
   ]
  },
  {
   "cell_type": "code",
   "execution_count": 3,
   "id": "55a797d5",
   "metadata": {},
   "outputs": [],
   "source": [
    "gc.disable()"
   ]
  },
  {
   "cell_type": "markdown",
   "id": "61c73775",
   "metadata": {},
   "source": [
    "Giờ ta sẽ tạo một instance của class `A`, việc này cũng sẽ tự tạo một instance của class `B`."
   ]
  },
  {
   "cell_type": "code",
   "execution_count": 4,
   "id": "dd67080f",
   "metadata": {},
   "outputs": [
    {
     "name": "stdout",
     "output_type": "stream",
     "text": [
      "B: 0x1063e20e0, A: 0x1063e1ae0\n",
      "A: 0x1063e1ae0, B: 0x1063e20e0\n"
     ]
    }
   ],
   "source": [
    "a = A()"
   ]
  },
  {
   "cell_type": "markdown",
   "id": "ecef8c2e",
   "metadata": {},
   "source": [
    "Tiếp theo, ta sẽ khởi tạo 2 biến đến lưu địa chỉ của 2 instances trên."
   ]
  },
  {
   "cell_type": "code",
   "execution_count": 5,
   "id": "d7f5e7ea",
   "metadata": {},
   "outputs": [],
   "source": [
    "a_id = id(a)\n",
    "b_id = id(a.b)"
   ]
  },
  {
   "cell_type": "markdown",
   "id": "95b70ba3",
   "metadata": {},
   "source": [
    "Thử đếm xem số tham chiếu của chúng"
   ]
  },
  {
   "cell_type": "code",
   "execution_count": 6,
   "id": "771a25be",
   "metadata": {},
   "outputs": [
    {
     "name": "stdout",
     "output_type": "stream",
     "text": [
      "2\n",
      "1\n"
     ]
    }
   ],
   "source": [
    "print(ref_count(a_id))\n",
    "print(ref_count(b_id))"
   ]
  },
  {
   "cell_type": "markdown",
   "id": "e0dd735e",
   "metadata": {},
   "source": [
    "Ở đây, có 2 tham chiếu tới instance của class `A` là biến `a` và instance của class `B`."
   ]
  },
  {
   "cell_type": "markdown",
   "id": "367a0de6",
   "metadata": {},
   "source": [
    "Kiểm tra xem cả 2 instance có đều đang ở trong bộ nhớ hay không. Tất nhiên là cả 2 đều có."
   ]
  },
  {
   "cell_type": "code",
   "execution_count": 7,
   "id": "4d149051",
   "metadata": {},
   "outputs": [
    {
     "name": "stdout",
     "output_type": "stream",
     "text": [
      "True\n",
      "True\n"
     ]
    }
   ],
   "source": [
    "print(object_exists(a_id))\n",
    "print(object_exists(b_id))"
   ]
  },
  {
   "cell_type": "markdown",
   "id": "e96e4602",
   "metadata": {},
   "source": [
    "Giờ ta sẽ cho biến `a` thành `None`. Lúc này thì instance của `A` chỉ còn đúng một tham chiếu là từ instance của `B`."
   ]
  },
  {
   "cell_type": "code",
   "execution_count": 8,
   "id": "4a5cfc7f",
   "metadata": {},
   "outputs": [
    {
     "name": "stdout",
     "output_type": "stream",
     "text": [
      "1\n",
      "1\n"
     ]
    }
   ],
   "source": [
    "a = None\n",
    "\n",
    "print(ref_count(a_id))\n",
    "print(ref_count(b_id))"
   ]
  },
  {
   "cell_type": "markdown",
   "id": "6b49bcad",
   "metadata": {},
   "source": [
    "Lúc này thì đếm tham chiếu của cả 2 instances của `A` và `B` đều là 1."
   ]
  },
  {
   "cell_type": "markdown",
   "id": "895b40fc",
   "metadata": {},
   "source": [
    "Ta lại kiểm tra xem cả 2 instances đều có đang tồn tại trong bộ nhớ hay không"
   ]
  },
  {
   "cell_type": "code",
   "execution_count": 9,
   "id": "f6a091cf",
   "metadata": {},
   "outputs": [
    {
     "name": "stdout",
     "output_type": "stream",
     "text": [
      "True\n",
      "True\n"
     ]
    }
   ],
   "source": [
    "print(object_exists(a_id))\n",
    "print(object_exists(b_id))"
   ]
  },
  {
   "cell_type": "markdown",
   "id": "adf9c8c8",
   "metadata": {},
   "source": [
    "Quả nhiên là vẫn có. Giờ ta sẽ sử dụng Garbage Collector."
   ]
  },
  {
   "cell_type": "code",
   "execution_count": 10,
   "id": "f57c6122",
   "metadata": {},
   "outputs": [
    {
     "data": {
      "text/plain": [
       "4"
      ]
     },
     "execution_count": 10,
     "metadata": {},
     "output_type": "execute_result"
    }
   ],
   "source": [
    "gc.collect()"
   ]
  },
  {
   "cell_type": "markdown",
   "id": "875bf27b",
   "metadata": {},
   "source": [
    "<span style=\"color:DarkOrange\">Garbage Collector có khả năng phát hiện ra circular reference. Nó sẽ xoá các objects đó để giải phóng bộ nhớ.</span>"
   ]
  },
  {
   "cell_type": "markdown",
   "id": "fd442a88",
   "metadata": {},
   "source": [
    "Giờ ta thử kiểm tra xem 2 instances phía trên có còn tồn tại trong bộ nhớ nữa hay không."
   ]
  },
  {
   "cell_type": "code",
   "execution_count": 26,
   "id": "fdc57b9b",
   "metadata": {},
   "outputs": [
    {
     "name": "stdout",
     "output_type": "stream",
     "text": [
      "False\n",
      "False\n"
     ]
    }
   ],
   "source": [
    "print(object_exists(a_id))\n",
    "print(object_exists(b_id))"
   ]
  },
  {
   "cell_type": "markdown",
   "id": "42627745",
   "metadata": {},
   "source": [
    "Cả 2 đều không còn trong bộ nhớ nữa, do Garbage Collector đã dọn dẹp chúng."
   ]
  },
  {
   "cell_type": "markdown",
   "id": "d6f0fa53",
   "metadata": {},
   "source": [
    "Ta cũng sẽ kiểm tra luôn số tham chiếu của cả 2 instances xem:"
   ]
  },
  {
   "cell_type": "code",
   "execution_count": 43,
   "id": "62e60bcd",
   "metadata": {},
   "outputs": [
    {
     "name": "stdout",
     "output_type": "stream",
     "text": [
      "0\n",
      "0\n"
     ]
    }
   ],
   "source": [
    "print(ref_count(a_id))  # 0\n",
    "print(ref_count(b_id))  # 0"
   ]
  },
  {
   "cell_type": "markdown",
   "id": "fd9eb677",
   "metadata": {},
   "source": [
    "Ra 0 hết là đúng."
   ]
  },
  {
   "cell_type": "markdown",
   "id": "7570023a",
   "metadata": {},
   "source": [
    "## <a class=\"anchor\" id=\"sum\" style=\"color:Violet\"> Tổng kết </a>"
   ]
  },
  {
   "cell_type": "markdown",
   "id": "1463de02",
   "metadata": {},
   "source": [
    "- Python quản lý bộ nhớ một cách tự động bằng cách sử dụng bộ đếm tham chiếu Reference Counting và bộ dọn rác Garbage Collector.\n",
    "- Python Garbage Collector giúp tránh memory leaks bằng cách tự động phát hiện circular references và xoá các objects đó.\n",
    "- Không bao giờ vô hiệu hoá Garbage Collector trừ khi có lý do, và nếu làm thế thì phải kiểm soát được."
   ]
  }
 ],
 "metadata": {
  "kernelspec": {
   "display_name": "Python 3 (ipykernel)",
   "language": "python",
   "name": "python3"
  },
  "language_info": {
   "codemirror_mode": {
    "name": "ipython",
    "version": 3
   },
   "file_extension": ".py",
   "mimetype": "text/x-python",
   "name": "python",
   "nbconvert_exporter": "python",
   "pygments_lexer": "ipython3",
   "version": "3.10.9"
  }
 },
 "nbformat": 4,
 "nbformat_minor": 5
}
