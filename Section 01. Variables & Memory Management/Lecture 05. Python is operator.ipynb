{
 "cells": [
  {
   "cell_type": "markdown",
   "id": "562324bf",
   "metadata": {},
   "source": [
    "# <a href=\"https://www.pythontutorial.net/advanced-python/python-is-operator/\" style=\"color:Tomato\">Python is operator</a>"
   ]
  },
  {
   "cell_type": "markdown",
   "id": "e981b0e6",
   "metadata": {},
   "source": [
    "Ở bài này, ta sẽ tìm hiểu về toán tử `is` trong Python và hiểu sự khác biệt giữa `is` và `==`."
   ]
  },
  {
   "cell_type": "markdown",
   "id": "bee5d4f4",
   "metadata": {},
   "source": [
    "### Tables of Contents\n",
    "* [Introduction to the Python `is` operator](#1)\n",
    "* [Python `is` operator vs `==` operator](#2)\n",
    "* [Python `is not` operator](#3)\n",
    "* [Summary](#sum)"
   ]
  },
  {
   "cell_type": "markdown",
   "id": "a148ee1c",
   "metadata": {},
   "source": [
    "## <a class=\"anchor\" id=\"1\">Introduction to the Python `is` operator</a>"
   ]
  },
  {
   "cell_type": "markdown",
   "id": "67734b1a",
   "metadata": {},
   "source": [
    "Toán tử `is` so sánh 2 biến và <span style=\"color:DarkOrange\">trả về `True` nếu chúng cùng tham chiếu tới cùng một object và trả về `False` nếu ngược lại.</span>"
   ]
  },
  {
   "cell_type": "markdown",
   "id": "2cfdbb21",
   "metadata": {},
   "source": [
    "Xem ví dụ sau:"
   ]
  },
  {
   "cell_type": "code",
   "execution_count": 1,
   "id": "5b7a49e8",
   "metadata": {},
   "outputs": [
    {
     "name": "stdout",
     "output_type": "stream",
     "text": [
      "True\n"
     ]
    }
   ],
   "source": [
    "a = 100\n",
    "b = a\n",
    "result = a is b\n",
    "print(result)"
   ]
  },
  {
   "cell_type": "markdown",
   "id": "78d880b6",
   "metadata": {},
   "source": [
    "Phân tích:\n",
    "- Đầu tiên, định nghĩa biến `a` tham chiếu tới một object kiểu integer với giá trị là `100`.\n",
    "- Tiếp theo, định nghĩa biến `b` tham chiếu tới cùng object với biến `a`.\n",
    "- Cuối cùng, sử dụng toán tử `is` để kiểm tra `a` và `b` có đang cùng tham chiếu tới cùng một object hay không.\n",
    "\n",
    "Với trường hợp này, `a` và `b` đang cùng trỏ tới cùng một object, do vậy `a is b` trả về `True`.\n",
    "![](https://www.pythontutorial.net/wp-content/uploads/2020/10/Python-is-Operator-Example.png)"
   ]
  },
  {
   "cell_type": "markdown",
   "id": "29505fcf",
   "metadata": {},
   "source": [
    "Ví dụ tiếp theo định nghĩa 2 biến `a` và `b` và khởi tạo nó với cùng giá trị là `100`."
   ]
  },
  {
   "cell_type": "code",
   "execution_count": 2,
   "id": "7a2fee91",
   "metadata": {},
   "outputs": [
    {
     "name": "stdout",
     "output_type": "stream",
     "text": [
      "True\n"
     ]
    }
   ],
   "source": [
    "a = 100\n",
    "b = 100\n",
    "\n",
    "result = a is b\n",
    "print(result)"
   ]
  },
  {
   "cell_type": "markdown",
   "id": "aabe5748",
   "metadata": {},
   "source": [
    "Ta thấy trường hợp này, `a` và `b` không liên kết gì với nhau, tuy nhiên khi gán `100` cho `b`, Python Memory Manager sẽ sử dụng lại object đã được tạo trước đó. Vì vậy, cả `a` và `b` vẫn tham chiếu tới cùng một object.\n",
    "![](https://www.pythontutorial.net/wp-content/uploads/2020/10/Python-is-Operator-Example.png)"
   ]
  },
  {
   "cell_type": "markdown",
   "id": "a32eb552",
   "metadata": {},
   "source": [
    "> Lưu ý: Kết quả của đoạn code này có thể khác, tuỳ vào cách Python Memory Manager hoạt động."
   ]
  },
  {
   "cell_type": "markdown",
   "id": "cfa5570e",
   "metadata": {},
   "source": [
    "Ví dụ sau định nghĩa ra 2 biến kiểu list có các phần tử giống nhau và sử dụng toán tử `is` để kiểm tra xem 2 biến trên có cùng trỏ tới cùng một object hay không."
   ]
  },
  {
   "cell_type": "code",
   "execution_count": 3,
   "id": "6f691ea3",
   "metadata": {},
   "outputs": [
    {
     "name": "stdout",
     "output_type": "stream",
     "text": [
      "False\n"
     ]
    }
   ],
   "source": [
    "ranks = [1, 2, 3]\n",
    "rates = [1, 2, 3]\n",
    "\n",
    "result = ranks is rates\n",
    "print(result)"
   ]
  },
  {
   "cell_type": "markdown",
   "id": "71ac5b8a",
   "metadata": {},
   "source": [
    "Trong trường hợp này, các list là multable, Python sẽ không sử dụng lại object đã tồn tại trước đó mà sẽ tạo ra object mới trong bộ nhớ. Do vậy, biến `ranks` và `rates` không tham chiếu tới cùng một object.\n",
    "![](https://www.pythontutorial.net/wp-content/uploads/2020/10/Python-is-Operator-List-Example.png)"
   ]
  },
  {
   "cell_type": "markdown",
   "id": "d0788af9",
   "metadata": {},
   "source": [
    "## <a class=\"anchor\" id=\"2\">Python `is` operator vs `==` operator</a>"
   ]
  },
  {
   "cell_type": "markdown",
   "id": "41fa4a8f",
   "metadata": {},
   "source": [
    "Toán tử so sánh bằng `==` <span style=\"color:DarkOrange\">so sánh 2 biến có bằng nhau hay không</span>."
   ]
  },
  {
   "cell_type": "markdown",
   "id": "f80e7506",
   "metadata": {},
   "source": [
    "Ví dụ đoạn code sau, cả toán tử `is` và `==` đều cho ra cùng kết quả:"
   ]
  },
  {
   "cell_type": "code",
   "execution_count": 4,
   "id": "8aadfc67",
   "metadata": {},
   "outputs": [
    {
     "name": "stdout",
     "output_type": "stream",
     "text": [
      "True\n",
      "True\n"
     ]
    }
   ],
   "source": [
    "a = 100\n",
    "b = a\n",
    "\n",
    "is_identical = a is b\n",
    "is_equal = a == b\n",
    "\n",
    "print(is_identical)\n",
    "print(is_equal)"
   ]
  },
  {
   "cell_type": "markdown",
   "id": "ab4d65be",
   "metadata": {},
   "source": [
    "Vì cả `a` và `b` cùng tham chiếu tới cùng một object, nên chúng cũng bằng nhau."
   ]
  },
  {
   "cell_type": "markdown",
   "id": "78dd7904",
   "metadata": {},
   "source": [
    "Ví dụ khác, đoạn code sau có 2 lists giống nhau, nên chúng bằng nhau, tuy nhiên chúng không cùng tham chiếu tới cùng một object trong bộ nhớ."
   ]
  },
  {
   "cell_type": "code",
   "execution_count": 5,
   "id": "76d1cab7",
   "metadata": {},
   "outputs": [
    {
     "name": "stdout",
     "output_type": "stream",
     "text": [
      "False\n",
      "True\n"
     ]
    }
   ],
   "source": [
    "ranks = [1, 2, 3]\n",
    "rates = [1, 2, 3]\n",
    "\n",
    "is_identical = ranks is rates\n",
    "is_equal = ranks == rates\n",
    "\n",
    "print(is_identical)\n",
    "print(is_equal)\n"
   ]
  },
  {
   "cell_type": "markdown",
   "id": "7e173662",
   "metadata": {},
   "source": [
    "## <a class=\"anchor\" id=\"3\">Python `is not` operator</a>"
   ]
  },
  {
   "cell_type": "markdown",
   "id": "e03e9140",
   "metadata": {},
   "source": [
    "Để <span style=\"color:DarkOrange\">phủ định toán tử `is`, ta sử dụng toán tử `not`</span>. Toán tử `is not` trả về `False` nếu 2 biến tham chiếu tới cùng một object và `True` nếu ngược lại."
   ]
  },
  {
   "cell_type": "markdown",
   "id": "74fb8332",
   "metadata": {},
   "source": [
    "Ví dụ sau sử dụng toán tử `is not` để kiểm tra hai object có đang không cùng tham chiếu tới cùng một object hay không."
   ]
  },
  {
   "cell_type": "code",
   "execution_count": 6,
   "id": "aeb7a416",
   "metadata": {},
   "outputs": [
    {
     "name": "stdout",
     "output_type": "stream",
     "text": [
      "True\n"
     ]
    }
   ],
   "source": [
    "ranks = [1, 2, 3]\n",
    "rates = [1, 2, 3]\n",
    "\n",
    "result = ranks is not rates\n",
    "print(result)  # True"
   ]
  },
  {
   "cell_type": "markdown",
   "id": "17c6018a",
   "metadata": {},
   "source": [
    "## <a class=\"anchor\" id=\"sum\" style=\"color:Violet\"> Tổng kết </a>"
   ]
  },
  {
   "cell_type": "markdown",
   "id": "b1964d35",
   "metadata": {},
   "source": [
    "- Sử dụng toán tử `is` để kiểm tra 2 biến có tham chiếu tới cùng một object hay không.\n",
    "- Sử dụng toán tử `==` để kiểm tra 2 biến có bằng nhau hay không.\n",
    "- Sử dụng toán tử `not` để kiểm tra phủ định của toán tử `is`."
   ]
  }
 ],
 "metadata": {
  "kernelspec": {
   "display_name": "Python 3 (ipykernel)",
   "language": "python",
   "name": "python3"
  },
  "language_info": {
   "codemirror_mode": {
    "name": "ipython",
    "version": 3
   },
   "file_extension": ".py",
   "mimetype": "text/x-python",
   "name": "python",
   "nbconvert_exporter": "python",
   "pygments_lexer": "ipython3",
   "version": "3.10.9"
  }
 },
 "nbformat": 4,
 "nbformat_minor": 5
}
