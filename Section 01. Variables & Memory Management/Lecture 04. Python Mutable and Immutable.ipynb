{
 "cells": [
  {
   "cell_type": "markdown",
   "id": "562324bf",
   "metadata": {},
   "source": [
    "# <a href=\"https://www.pythontutorial.net/advanced-python/python-mutable-and-immutable/\" style=\"color:Tomato\">Python Mutable and Immutable</a>"
   ]
  },
  {
   "cell_type": "markdown",
   "id": "e0ea3f2a",
   "metadata": {},
   "source": [
    "Ở bài này, ta sẽ tìm hiểu về *mutable* và *immutable* trong Python."
   ]
  },
  {
   "cell_type": "markdown",
   "id": "bee5d4f4",
   "metadata": {},
   "source": [
    "### Tables of Contents\n",
    "* [Introduction to mutable and immuable in Python](#1)\n",
    "* [Python immutable example](#2)\n",
    "* [Python mutable example](#3)\n",
    "* [Python mutable and immutable example](#4)\n",
    "* [Summary](#sum)"
   ]
  },
  {
   "cell_type": "markdown",
   "id": "a148ee1c",
   "metadata": {},
   "source": [
    "## <a class=\"anchor\" id=\"1\">Introduction to mutable and immuable in Python</a>"
   ]
  },
  {
   "cell_type": "markdown",
   "id": "b1f2073f",
   "metadata": {},
   "source": [
    "Trong Python, mọi thứ đều là object. Mỗi object đều có trạng thái nội tại (*internal state*) của riêng nó. Một số object cho phép thay đổi trạng thái nội tại, nhưng một số thì không."
   ]
  },
  {
   "cell_type": "markdown",
   "id": "55ba3b2d",
   "metadata": {},
   "source": [
    "<span style=\"color:DarkOrange\">Object có trạng thái nội tại có thể thay đổi được được gọi là *mutable object*. Object có trạng thái nội tại không thể thay đổi được được đọi là *immutable object*.</span>"
   ]
  },
  {
   "cell_type": "markdown",
   "id": "5d085f83",
   "metadata": {},
   "source": [
    "Những kiểu objects sau là immutable:\n",
    "- Numbers (int, float, bool,...)\n",
    "- Strings\n",
    "- Tuples\n",
    "- Frozen sets"
   ]
  },
  {
   "cell_type": "markdown",
   "id": "c966ff06",
   "metadata": {},
   "source": [
    "Những kiểu objects sau là mutable:\n",
    "- Lists\n",
    "- Sets\n",
    "- Dictionaries"
   ]
  },
  {
   "cell_type": "markdown",
   "id": "bdfe3ac8",
   "metadata": {},
   "source": [
    "Các class tự định nghĩa có thể là mutable hoặc immutable, tuỳ vào cách định nghĩa của mình. Mặc định class tự định nghĩa sẽ là mutable."
   ]
  },
  {
   "cell_type": "markdown",
   "id": "e56f5ba1",
   "metadata": {},
   "source": [
    "## <a class=\"anchor\" id=\"2\">Python immutable example</a>"
   ]
  },
  {
   "cell_type": "markdown",
   "id": "98c66c69",
   "metadata": {},
   "source": [
    "Khi bạn khởi tạo một biến và gán nó với một số nguyên, Python sẽ tạo một object kiểu integer và tạo một tham chiếu từ biến tới object:"
   ]
  },
  {
   "cell_type": "code",
   "execution_count": 1,
   "id": "3e9528b2",
   "metadata": {},
   "outputs": [],
   "source": [
    "counter = 100"
   ]
  },
  {
   "cell_type": "markdown",
   "id": "762b6b7b",
   "metadata": {},
   "source": [
    "Để lấy địa chỉ của object đang được tham chiếu bởi một biến, ta dùng hàm `id()`. Hàm này sẽ trả về địa chỉ của object ở hệ thập phân."
   ]
  },
  {
   "cell_type": "code",
   "execution_count": 2,
   "id": "fcd6f757",
   "metadata": {},
   "outputs": [
    {
     "name": "stdout",
     "output_type": "stream",
     "text": [
      "4371811664\n"
     ]
    }
   ],
   "source": [
    "print(id(counter))"
   ]
  },
  {
   "cell_type": "markdown",
   "id": "a6d03fdd",
   "metadata": {},
   "source": [
    "Để convert sang hệ hexa, ta dùng hàm `hex()`:"
   ]
  },
  {
   "cell_type": "code",
   "execution_count": 3,
   "id": "717d2e6f",
   "metadata": {},
   "outputs": [
    {
     "name": "stdout",
     "output_type": "stream",
     "text": [
      "0x104948d50\n"
     ]
    }
   ],
   "source": [
    "print(hex(id(100)))"
   ]
  },
  {
   "cell_type": "markdown",
   "id": "cfc258eb",
   "metadata": {},
   "source": [
    "Trong bộ nhớ, sẽ có một biến `counter` đang được tham chiếu tới một object có địa chỉ như trên (chẳng hạn là `0x7ffb62d32300`)\n",
    "![](https://www.pythontutorial.net/wp-content/uploads/2020/10/Python-Immutable-Example-1.png)"
   ]
  },
  {
   "cell_type": "markdown",
   "id": "298e097e",
   "metadata": {},
   "source": [
    "Câu lệnh sau thay đổi biến `counter` thành `200`:"
   ]
  },
  {
   "cell_type": "code",
   "execution_count": 4,
   "id": "0fd29d7d",
   "metadata": {},
   "outputs": [
    {
     "name": "stdout",
     "output_type": "stream",
     "text": [
      "200\n"
     ]
    }
   ],
   "source": [
    "counter = 200\n",
    "print(counter)"
   ]
  },
  {
   "cell_type": "markdown",
   "id": "b595df56",
   "metadata": {},
   "source": [
    "Trông có vẻ như object được tham chiếu bởi biến `counter` đã bị thay đổi, nhưng thực ra không phải."
   ]
  },
  {
   "cell_type": "markdown",
   "id": "4df598b1",
   "metadata": {},
   "source": [
    "Thực tế, Python đã tạo ra một object kiểu integer mới với giá trị là `200` và tham chiếu lại biến `counter` tới đó.\n",
    "![](https://www.pythontutorial.net/wp-content/uploads/2020/10/Python-Immutable-Example-2.png)"
   ]
  },
  {
   "cell_type": "markdown",
   "id": "07d5f317",
   "metadata": {},
   "source": [
    "Phép gán `counter = 200` không làm thau đổi giá trị của object đầu tiên, nó chỉ thực hiện tham chiếu lại biến `counter` tới một object khác."
   ]
  },
  {
   "cell_type": "markdown",
   "id": "56741ae0",
   "metadata": {},
   "source": [
    "Đoạn code sau sẽ chỉ ra rằng đã có một object mới được tham chiếu bởi biến `counter`:"
   ]
  },
  {
   "cell_type": "code",
   "execution_count": 5,
   "id": "165859c9",
   "metadata": {},
   "outputs": [
    {
     "name": "stdout",
     "output_type": "stream",
     "text": [
      "200\n",
      "0x1049499d0\n"
     ]
    }
   ],
   "source": [
    "counter = 200\n",
    "print(counter)\n",
    "print(hex(id(counter)))"
   ]
  },
  {
   "cell_type": "markdown",
   "id": "2abbddb4",
   "metadata": {},
   "source": [
    "Như đã thấy thì địa chỉ của object đã khác so với object trước. Nghĩa là object này không phải là object ban đầu."
   ]
  },
  {
   "cell_type": "markdown",
   "id": "5147567e",
   "metadata": {},
   "source": [
    "## <a class=\"anchor\" id=\"3\">Python mutable example</a>"
   ]
  },
  {
   "cell_type": "markdown",
   "id": "c85f8a55",
   "metadata": {},
   "source": [
    "Đoạn code sau định nghĩa một list các số nguyên và hiển thị địa chỉ trong bộ nhớ của list đó."
   ]
  },
  {
   "cell_type": "code",
   "execution_count": 6,
   "id": "fd64c620",
   "metadata": {},
   "outputs": [
    {
     "name": "stdout",
     "output_type": "stream",
     "text": [
      "0x107e0b940\n"
     ]
    }
   ],
   "source": [
    "ratings = [1, 2, 3]\n",
    "print(hex(id(ratings)))"
   ]
  },
  {
   "cell_type": "markdown",
   "id": "f6f2c71a",
   "metadata": {},
   "source": [
    "Python tạo ra một object mới kiểu list và biến `ratings` tham chiếu tới nó.\n",
    "![](https://www.pythontutorial.net/wp-content/uploads/2020/10/Python-Mutable-Example.png)"
   ]
  },
  {
   "cell_type": "markdown",
   "id": "9c91efbd",
   "metadata": {},
   "source": [
    "Khi ta thêm một số vào list, chẳng hạn:"
   ]
  },
  {
   "cell_type": "code",
   "execution_count": 7,
   "id": "77852d49",
   "metadata": {},
   "outputs": [],
   "source": [
    "ratings.append(4)"
   ]
  },
  {
   "cell_type": "markdown",
   "id": "f55ecbe6",
   "metadata": {},
   "source": [
    "Python sẽ thay đổi giá trị của object đó, chứ không phải là tạo một object mới rồi tham chiếu lại như ví dụ trước.\n",
    "![](https://www.pythontutorial.net/wp-content/uploads/2020/10/Python-Mutable-Example-2.png)"
   ]
  },
  {
   "cell_type": "markdown",
   "id": "e9e19c57",
   "metadata": {},
   "source": [
    "Đoạn code sau hiển thị địa chỉ của object được tham chiếu bởi biến `rating`:"
   ]
  },
  {
   "cell_type": "code",
   "execution_count": 8,
   "id": "9b8cce46",
   "metadata": {},
   "outputs": [
    {
     "name": "stdout",
     "output_type": "stream",
     "text": [
      "[1, 2, 3, 4]\n",
      "0x107e0b940\n"
     ]
    }
   ],
   "source": [
    "print(ratings)  # [1, 2, 3, 4]\n",
    "print(hex(id(ratings))) "
   ]
  },
  {
   "cell_type": "markdown",
   "id": "f4b8013a",
   "metadata": {},
   "source": [
    "Ta có thể thấy địa chỉ của object được tham chiếu bởi biến `ratings` không thay đổi, chứng tỏ biến `ratings` không hề tham chiếu tới object khác."
   ]
  },
  {
   "cell_type": "markdown",
   "id": "7caeb30d",
   "metadata": {},
   "source": [
    "Giờ thử gán lại một list khác xem:"
   ]
  },
  {
   "cell_type": "code",
   "execution_count": 9,
   "id": "71ed0b2b",
   "metadata": {},
   "outputs": [
    {
     "name": "stdout",
     "output_type": "stream",
     "text": [
      "0x107e0ad00\n"
     ]
    }
   ],
   "source": [
    "ratings = [4, 5, 6]\n",
    "print(hex(id(ratings))) "
   ]
  },
  {
   "cell_type": "markdown",
   "id": "d16793a5",
   "metadata": {},
   "source": [
    "Lần này thì địa chỉ đã thay đổi. Như vậy nếu gán lại một list khác thì Python mới tạo object khác và tham chiếu lại."
   ]
  },
  {
   "cell_type": "markdown",
   "id": "ed08475a",
   "metadata": {},
   "source": [
    "## <a class=\"anchor\" id=\"4\">Python mutable and immutable example</a>"
   ]
  },
  {
   "cell_type": "markdown",
   "id": "34774246",
   "metadata": {},
   "source": [
    "Các immutable objects không hẳn là *constant* hay *frozen*. Hãy nhìn vào ví dụ dưới đây."
   ]
  },
  {
   "cell_type": "markdown",
   "id": "dea12137",
   "metadata": {},
   "source": [
    "Đoạn code dưới đây định nghĩa một tuple với các phần tử là 2 lists:"
   ]
  },
  {
   "cell_type": "code",
   "execution_count": 10,
   "id": "e288376f",
   "metadata": {},
   "outputs": [],
   "source": [
    "low = [1, 2, 3]\n",
    "high = [4, 5]\n",
    "\n",
    "rankings = (low, high)"
   ]
  },
  {
   "cell_type": "markdown",
   "id": "5644c933",
   "metadata": {},
   "source": [
    "Vì `rankings` là tuple nên object được tham chiếu sẽ là immutable. Vì thế bạn không thể thêm hay xoá phần tử của `rankings`.\n",
    "![](https://www.pythontutorial.net/wp-content/uploads/2020/10/Python-mutable-immutable.png)"
   ]
  },
  {
   "cell_type": "markdown",
   "id": "f032d9cc",
   "metadata": {},
   "source": [
    "Tuy nhiên `rankings` tuple chứa 2 phần tử list là các mutable objects, vì thế bạn vẫn có thể thêm bớt phần tử của các list này bình thường. Lúc này thì giá trị của `rankings` cũng sẽ thay đổi.\n",
    "![](https://www.pythontutorial.net/wp-content/uploads/2020/10/Python-mutable-immutable-2.png)"
   ]
  },
  {
   "cell_type": "code",
   "execution_count": 11,
   "id": "a7d598e1",
   "metadata": {},
   "outputs": [
    {
     "name": "stdout",
     "output_type": "stream",
     "text": [
      "([1, 2, 3], [4, 5, 6])\n"
     ]
    }
   ],
   "source": [
    "high.append(6)\n",
    "print(rankings)"
   ]
  },
  {
   "cell_type": "markdown",
   "id": "17c6018a",
   "metadata": {},
   "source": [
    "## <a class=\"anchor\" id=\"sum\" style=\"color:Violet\"> Tổng kết </a>"
   ]
  },
  {
   "cell_type": "markdown",
   "id": "1a100ac5",
   "metadata": {},
   "source": [
    "- Object có trạng thái nội tại **không thể bị thay đổi** được gọi là *immutable object*.\n",
    "- Object có trạng thái nội tại **có thể bị thay đổi** được gọi là *mutable object*."
   ]
  }
 ],
 "metadata": {
  "kernelspec": {
   "display_name": "Python 3 (ipykernel)",
   "language": "python",
   "name": "python3"
  },
  "language_info": {
   "codemirror_mode": {
    "name": "ipython",
    "version": 3
   },
   "file_extension": ".py",
   "mimetype": "text/x-python",
   "name": "python",
   "nbconvert_exporter": "python",
   "pygments_lexer": "ipython3",
   "version": "3.10.9"
  }
 },
 "nbformat": 4,
 "nbformat_minor": 5
}
