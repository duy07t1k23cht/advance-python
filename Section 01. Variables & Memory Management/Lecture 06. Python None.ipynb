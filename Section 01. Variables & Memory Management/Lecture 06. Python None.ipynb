{
 "cells": [
  {
   "cell_type": "markdown",
   "id": "562324bf",
   "metadata": {},
   "source": [
    "# <a href=\"https://www.pythontutorial.net/advanced-python/python-none/\" style=\"color:Tomato\">Python None</a>"
   ]
  },
  {
   "cell_type": "markdown",
   "id": "9189e880",
   "metadata": {},
   "source": [
    "Ở bài này, ta sẽ tìm hiểu về `None` trong Python và cách sử dụng nó trong code."
   ]
  },
  {
   "cell_type": "markdown",
   "id": "bee5d4f4",
   "metadata": {},
   "source": [
    "### Tables of Contents\n",
    "* [Introduction to the Python `None` value](#1)\n",
    "* [The applications of the Python `None` object](#2)\n",
    "    - [Using Python `None` as an initial value for a variable](#2.1)\n",
    "    - [Using the Python `None` object to fix the mutable default argument issue](#2.2)\n",
    "    - [Using the Python `None` object as a return value of a function](#2.3)\n",
    "* [Summary](#sum)"
   ]
  },
  {
   "cell_type": "markdown",
   "id": "a148ee1c",
   "metadata": {},
   "source": [
    "## <a class=\"anchor\" id=\"1\">Introduction to the Python `None` value</a>"
   ]
  },
  {
   "cell_type": "markdown",
   "id": "b4f11dd3",
   "metadata": {},
   "source": [
    "Trong Python, `None` là một object đặc biệt thuộc class `NoneType`. Để sử dụng `None`, ta dùng từ khoá `None`."
   ]
  },
  {
   "cell_type": "code",
   "execution_count": 1,
   "id": "d2d90091",
   "metadata": {},
   "outputs": [],
   "source": [
    "None"
   ]
  },
  {
   "cell_type": "markdown",
   "id": "e9281214",
   "metadata": {},
   "source": [
    "Nếu sử dụng hàm `type()` để kiểm tra kiểu dữ liệu của `None`, ta sẽ được class `NoneType`."
   ]
  },
  {
   "cell_type": "code",
   "execution_count": 2,
   "id": "00ad60c9",
   "metadata": {},
   "outputs": [
    {
     "name": "stdout",
     "output_type": "stream",
     "text": [
      "<class 'NoneType'>\n"
     ]
    }
   ],
   "source": [
    "print(type(None))"
   ]
  },
  {
   "cell_type": "markdown",
   "id": "ae42def3",
   "metadata": {},
   "source": [
    "<span style=\"color:DarkOrange\">`None` là đối tượng duy nhất thuộc class `NoneType`. Python tạo một và chỉ một `None` object ở runtime.</span>"
   ]
  },
  {
   "cell_type": "markdown",
   "id": "8cd8ec91",
   "metadata": {},
   "source": [
    "Vì vậy, khi sử dụng toán tử `is` hay `==` để so sánh `None` với `None`, ta đều thu được kết quả là `True`."
   ]
  },
  {
   "cell_type": "code",
   "execution_count": 3,
   "id": "39b47409",
   "metadata": {},
   "outputs": [
    {
     "name": "stdout",
     "output_type": "stream",
     "text": [
      "True\n",
      "True\n"
     ]
    }
   ],
   "source": [
    "print(None == None)\n",
    "print(None is None)"
   ]
  },
  {
   "cell_type": "markdown",
   "id": "df9dd566",
   "metadata": {},
   "source": [
    "Tuy vậy, ta <span style=\"color:DarkOrange\">nên sử dụng toán tử `is` (hoặc `is not`) khi làm việc với `None`</span>. Lý do là vì các class người dùng tự định nghĩa có thể thay đổi phép so sánh bằng cách override hàm `__eq__()`. Ví dụ:"
   ]
  },
  {
   "cell_type": "code",
   "execution_count": 4,
   "id": "6bdea935",
   "metadata": {},
   "outputs": [
    {
     "name": "stdout",
     "output_type": "stream",
     "text": [
      "True\n"
     ]
    }
   ],
   "source": [
    "class Apple:\n",
    "    def __eq__(self, other):\n",
    "        return True\n",
    "\n",
    "\n",
    "apple = Apple()\n",
    "print(apple == None)"
   ]
  },
  {
   "cell_type": "markdown",
   "id": "d3c1ffd7",
   "metadata": {},
   "source": [
    "Còn <span style=\"color:DarkOrange\">toán tử `is` thì không thể bị override</span>. "
   ]
  },
  {
   "cell_type": "markdown",
   "id": "f878d11f",
   "metadata": {},
   "source": [
    "Ngoài ra, còn một số lưu ý sau:\n",
    "- `None` không phải là giá trị 0 (0, 0.0,...)\n",
    "- `None` không phải là `False`\n",
    "- `None` không phải là xâu rỗng `\"\"`\n",
    "- So sánh `None` với bất kỳ giá trị nào đều trả về `False` ngoại trừ chính giá trị `None`."
   ]
  },
  {
   "cell_type": "markdown",
   "id": "b3689b1e",
   "metadata": {},
   "source": [
    "## <a class=\"anchor\" id=\"2\">The applications of the Python `None` object</a>"
   ]
  },
  {
   "cell_type": "markdown",
   "id": "e196712e",
   "metadata": {},
   "source": [
    "Hãy thử với một số ví dụ thực tế về việc sử dụng `None` object."
   ]
  },
  {
   "cell_type": "markdown",
   "id": "5434a5f1",
   "metadata": {},
   "source": [
    "### <a class=\"anchor\" id=\"2.1\">1) Using Python `None` as an initial value for a variable</a>"
   ]
  },
  {
   "cell_type": "markdown",
   "id": "e4524804",
   "metadata": {},
   "source": [
    "Khi giá trị khởi tạo của một biến không có ý nghĩa gì, ta có thể gán giá trị `None` cho nó."
   ]
  },
  {
   "cell_type": "code",
   "execution_count": 5,
   "id": "a715f62f",
   "metadata": {},
   "outputs": [],
   "source": [
    "state = None"
   ]
  },
  {
   "cell_type": "markdown",
   "id": "91bdef4e",
   "metadata": {},
   "source": [
    "Sau đó, ta có thể kiểm tra biến đã được gán giá trị hay chưa bằng cách kiểm tra nó có phải `None` hay không."
   ]
  },
  {
   "cell_type": "code",
   "execution_count": 6,
   "id": "5a0868db",
   "metadata": {},
   "outputs": [],
   "source": [
    "if state is None:\n",
    "    state = 'start'"
   ]
  },
  {
   "cell_type": "markdown",
   "id": "3ee4f54f",
   "metadata": {},
   "source": [
    "### <a class=\"anchor\" id=\"2.2\">2) Using the Python `None` object to fix the mutable default argument issue</a>"
   ]
  },
  {
   "cell_type": "markdown",
   "id": "5ae2ee2f",
   "metadata": {},
   "source": [
    "Hàm sau thêm giá trị `color` vào một list:"
   ]
  },
  {
   "cell_type": "code",
   "execution_count": 7,
   "id": "829bf685",
   "metadata": {},
   "outputs": [],
   "source": [
    "def append(color, colors=[]):\n",
    "    colors.append(color)\n",
    "    return colors"
   ]
  },
  {
   "cell_type": "markdown",
   "id": "7e5152d0",
   "metadata": {},
   "source": [
    "Nếu bạn truyền vào một list đã tồn tại, nó sẽ hoạt động bình thường."
   ]
  },
  {
   "cell_type": "code",
   "execution_count": 8,
   "id": "1b080ab0",
   "metadata": {},
   "outputs": [
    {
     "name": "stdout",
     "output_type": "stream",
     "text": [
      "['red', 'green', 'blue']\n"
     ]
    }
   ],
   "source": [
    "colors = ['red', 'green']\n",
    "append('blue', colors)\n",
    "\n",
    "print(colors)"
   ]
  },
  {
   "cell_type": "markdown",
   "id": "bddbed6d",
   "metadata": {},
   "source": [
    "Tuy nhiên nếu ta không truyền vào tham số thứ hai, vấn đề sẽ xảy ra:"
   ]
  },
  {
   "cell_type": "code",
   "execution_count": 9,
   "id": "82e25b1d",
   "metadata": {},
   "outputs": [
    {
     "name": "stdout",
     "output_type": "stream",
     "text": [
      "['hue']\n",
      "['hue', 'red']\n"
     ]
    }
   ],
   "source": [
    "hsl = append('hue')\n",
    "print(hsl)\n",
    "\n",
    "rgb = append('red')\n",
    "print(rgb)"
   ]
  },
  {
   "cell_type": "markdown",
   "id": "5745dafb",
   "metadata": {},
   "source": [
    "Vấn đề này xảy ra là do hàm `append` tạo một object list ở lần chạy đầu tiên và sử dụng chính object đó cho lần chạy thứ hai."
   ]
  },
  {
   "cell_type": "markdown",
   "id": "0b8a3121",
   "metadata": {},
   "source": [
    "Để khắc phục vấn đề này, ta sử dụng `None` là giá trị mặc định cho tham số thứ hai:"
   ]
  },
  {
   "cell_type": "code",
   "execution_count": 10,
   "id": "7325c16a",
   "metadata": {},
   "outputs": [
    {
     "name": "stdout",
     "output_type": "stream",
     "text": [
      "['hue']\n",
      "['red']\n"
     ]
    }
   ],
   "source": [
    "def append(color, colors=None):\n",
    "    if colors is None:\n",
    "        colors = []\n",
    "\n",
    "    colors.append(color)\n",
    "    return colors\n",
    "\n",
    "\n",
    "hsl = append('hue')\n",
    "print(hsl)\n",
    "\n",
    "\n",
    "rgb = append('red')\n",
    "print(rgb)"
   ]
  },
  {
   "cell_type": "markdown",
   "id": "4e78c492",
   "metadata": {},
   "source": [
    "### <a class=\"anchor\" id=\"2.3\">3) Using the Python `None` object as a return value of a function"
   ]
  },
  {
   "cell_type": "markdown",
   "id": "813d0253",
   "metadata": {},
   "source": [
    "Khi một hàm không trả về giá trị về thì mặc định nó sẽ trả về `None`. Ví dụ:"
   ]
  },
  {
   "cell_type": "code",
   "execution_count": 11,
   "id": "4dcd4e1a",
   "metadata": {},
   "outputs": [
    {
     "name": "stdout",
     "output_type": "stream",
     "text": [
      "Hello\n",
      "None\n"
     ]
    }
   ],
   "source": [
    "def say(something):\n",
    "    print(something)\n",
    "\n",
    "\n",
    "result = say('Hello')\n",
    "print(result)"
   ]
  },
  {
   "cell_type": "markdown",
   "id": "2a6214d5",
   "metadata": {},
   "source": [
    "Hàm `say()` không trả về giá trị nào, vì thế nó tự trả về `None`."
   ]
  },
  {
   "cell_type": "markdown",
   "id": "17c6018a",
   "metadata": {},
   "source": [
    "## <a class=\"anchor\" id=\"sum\" style=\"color:Violet\"> Tổng kết </a>"
   ]
  },
  {
   "cell_type": "markdown",
   "id": "7a7f056e",
   "metadata": {},
   "source": [
    "- `None` là object duy nhất của class `NoneType`.\n",
    "- `None` không bằng với bất kỳ giá trị nào ngoại trừ chính nó.\n",
    "- Sử dụng toán tử `is` hoặc `is not` khi so sánh `None` với các giá trị khác."
   ]
  }
 ],
 "metadata": {
  "kernelspec": {
   "display_name": "Python 3 (ipykernel)",
   "language": "python",
   "name": "python3"
  },
  "language_info": {
   "codemirror_mode": {
    "name": "ipython",
    "version": 3
   },
   "file_extension": ".py",
   "mimetype": "text/x-python",
   "name": "python",
   "nbconvert_exporter": "python",
   "pygments_lexer": "ipython3",
   "version": "3.10.9"
  }
 },
 "nbformat": 4,
 "nbformat_minor": 5
}
