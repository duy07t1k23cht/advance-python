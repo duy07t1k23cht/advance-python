{
 "cells": [
  {
   "cell_type": "markdown",
   "id": "b43d7b95",
   "metadata": {},
   "source": [
    "# <a href=\"https://www.pythontutorial.net/advanced-python/python-iterator-vs-iterable/\" style=\"color:Tomato\">Python Iterator vs Iterable</a>"
   ]
  },
  {
   "cell_type": "markdown",
   "id": "a33bccd9",
   "metadata": {},
   "source": [
    "Ở bài này ta sẽ học về sự khác nhau giữa iterator và iterable."
   ]
  },
  {
   "cell_type": "markdown",
   "id": "bee5d4f4",
   "metadata": {},
   "source": [
    "### Tables of Contents\n",
    "* [Iterators](#1)\n",
    "* [Iterables](#2)\n",
    "* [Examining the built-in list and list iterator](#3)\n",
    "* [Python Iterator and Iterable](#4)\n",
    "* [Separating an iterator from an iterable](#5)\n",
    "* [Summary](#sum)"
   ]
  },
  {
   "cell_type": "markdown",
   "id": "a3a0cec1",
   "metadata": {},
   "source": [
    "## <a class=\"anchor\" id=\"1\">Iterators</a>"
   ]
  },
  {
   "cell_type": "markdown",
   "id": "24a4fe28",
   "metadata": {},
   "source": [
    "<span style=\"color:DarkOrange\">Một **iterator** là một object có implement *iterator protocol*</span>:\n",
    "- Hàm `__iter__` trả về object đó\n",
    "- Hàm `__next__` trả về phần tử tiếp theo"
   ]
  },
  {
   "cell_type": "markdown",
   "id": "20ad0efe",
   "metadata": {},
   "source": [
    "Một khi đã duyệt hết các phần tử bằng iterator, sẽ không thể duyệt lại hay duyệt tiếp được nữa."
   ]
  },
  {
   "cell_type": "markdown",
   "id": "5b1c097d",
   "metadata": {},
   "source": [
    "## <a class=\"anchor\" id=\"2\">Iterables</a>"
   ]
  },
  {
   "cell_type": "markdown",
   "id": "caf9ca09",
   "metadata": {},
   "source": [
    "<span style=\"color:DarkOrange\">Một **iterable** là một object có thể duyệt được</span>."
   ]
  },
  {
   "cell_type": "markdown",
   "id": "4e11550b",
   "metadata": {},
   "source": [
    "Một object là một iterable nếu nó implement hàm `__iter__`, và hàm `__iter__` đó trả về một iterator."
   ]
  },
  {
   "cell_type": "markdown",
   "id": "ec0d3691",
   "metadata": {},
   "source": [
    "## <a class=\"anchor\" id=\"3\">Examining the built-in list and list iterator</a>"
   ]
  },
  {
   "cell_type": "markdown",
   "id": "cdd3156f",
   "metadata": {},
   "source": [
    "Trong Python, list là một iteratable vì nó có hàm `__iter__` trả về một iterator. Ví dụ:"
   ]
  },
  {
   "cell_type": "code",
   "execution_count": 1,
   "id": "7c748ffd",
   "metadata": {},
   "outputs": [
    {
     "name": "stdout",
     "output_type": "stream",
     "text": [
      "<class 'list_iterator'>\n"
     ]
    }
   ],
   "source": [
    "numbers = [1, 2, 3]\n",
    "\n",
    "number_iterator = numbers.__iter__()\n",
    "print(type(number_iterator))"
   ]
  },
  {
   "cell_type": "markdown",
   "id": "33fcf2c9",
   "metadata": {},
   "source": [
    "Vì class `list_iterator` implement hàm `__iter__`, ta có thể sử dụng hàm built-in `iter` để lấy iterator object:"
   ]
  },
  {
   "cell_type": "code",
   "execution_count": 2,
   "id": "2825ed16",
   "metadata": {},
   "outputs": [],
   "source": [
    "numbers = [1, 2, 3]\n",
    "number_iterator = iter(numbers)"
   ]
  },
  {
   "cell_type": "markdown",
   "id": "f1001795",
   "metadata": {},
   "source": [
    "Vì `list_iterator` cũng implement hàm `__next__`. ta có thể sử dụng hàm `next` để duyệt list:"
   ]
  },
  {
   "cell_type": "code",
   "execution_count": 3,
   "id": "df140de0",
   "metadata": {},
   "outputs": [
    {
     "data": {
      "text/plain": [
       "3"
      ]
     },
     "execution_count": 3,
     "metadata": {},
     "output_type": "execute_result"
    }
   ],
   "source": [
    "numbers = [1, 2, 3]\n",
    "\n",
    "number_iterator = iter(numbers)\n",
    "\n",
    "next(number_iterator)\n",
    "next(number_iterator)\n",
    "next(number_iterator)"
   ]
  },
  {
   "cell_type": "markdown",
   "id": "97613dd9",
   "metadata": {},
   "source": [
    "Nếu ta gọi hàm `next` một lần nữa thì ta sẽ được `StopIteration` exception."
   ]
  },
  {
   "cell_type": "markdown",
   "id": "ef67ccb4",
   "metadata": {},
   "source": [
    "Thực tế thì <span style=\"color:DarkOrange\">list sẽ chỉ được tạo một lần, còn iterator sẽ được tạo bất kỳ khi nào mà mình cần duyệt list</span>."
   ]
  },
  {
   "cell_type": "markdown",
   "id": "cbb52a7c",
   "metadata": {},
   "source": [
    "## <a class=\"anchor\" id=\"4\">Python Iterator and Iterable</a>"
   ]
  },
  {
   "cell_type": "markdown",
   "id": "e1a1718d",
   "metadata": {},
   "source": [
    "Xét ví dụ sau:"
   ]
  },
  {
   "cell_type": "code",
   "execution_count": 4,
   "id": "34037b3c",
   "metadata": {},
   "outputs": [],
   "source": [
    "class Colors:\n",
    "    def __init__(self):\n",
    "        self.rgb = ['red', 'green', 'blue']\n",
    "        self.__index = 0\n",
    "\n",
    "    def __iter__(self):\n",
    "        return self\n",
    "\n",
    "    def __next__(self):\n",
    "        if self.__index == len(self.rgb):\n",
    "            raise StopIteration\n",
    "\n",
    "        # return the next color\n",
    "        color = self.rgb[self.__index]\n",
    "        self.__index += 1\n",
    "        return color"
   ]
  },
  {
   "cell_type": "markdown",
   "id": "12eb9304",
   "metadata": {},
   "source": [
    "Ở ví dụ này, class `Colors` vừa là iterable vừa là iterator."
   ]
  },
  {
   "cell_type": "markdown",
   "id": "ac8f764b",
   "metadata": {},
   "source": [
    "Ví dụ sau sử dùng `for` để duyệt các phần tử của class `Colors`:"
   ]
  },
  {
   "cell_type": "code",
   "execution_count": 5,
   "id": "d421aeca",
   "metadata": {},
   "outputs": [
    {
     "name": "stdout",
     "output_type": "stream",
     "text": [
      "red\n",
      "green\n",
      "blue\n"
     ]
    }
   ],
   "source": [
    "colors = Colors()\n",
    "\n",
    "for color in colors:\n",
    "    print(color)"
   ]
  },
  {
   "cell_type": "markdown",
   "id": "79aaf84c",
   "metadata": {},
   "source": [
    "Giờ nếu ta gọi `next(colors)`, sẽ bị `StopIteration` exception."
   ]
  },
  {
   "cell_type": "markdown",
   "id": "6430de2d",
   "metadata": {},
   "source": [
    "Nếu ta tiếp tục dùng `for`, ta cũng sẽ không nhận được gì thêm, vì iterator giờ đã bị rỗng:"
   ]
  },
  {
   "cell_type": "code",
   "execution_count": 6,
   "id": "2925338a",
   "metadata": {},
   "outputs": [],
   "source": [
    "for color in colors:\n",
    "    print(color)"
   ]
  },
  {
   "cell_type": "markdown",
   "id": "6de0b3b1",
   "metadata": {},
   "source": [
    "Muốn duyệt lại thì ta sẽ phải tạo một object `colors` mới. Như vậy sẽ không hiệu quả lắm."
   ]
  },
  {
   "cell_type": "markdown",
   "id": "2b79b317",
   "metadata": {},
   "source": [
    "## <a class=\"anchor\" id=\"5\">Separating an iterator from an iterable</a>"
   ]
  },
  {
   "cell_type": "markdown",
   "id": "b080ff2f",
   "metadata": {},
   "source": [
    "Ta sẽ tách iterator ra khỏi iterable như cách mà Python làm với list."
   ]
  },
  {
   "cell_type": "markdown",
   "id": "e66a6531",
   "metadata": {},
   "source": [
    "Đầu tiên ta định nghĩa class `Colors`:"
   ]
  },
  {
   "cell_type": "code",
   "execution_count": 7,
   "id": "084e9a8c",
   "metadata": {},
   "outputs": [],
   "source": [
    "class Colors:\n",
    "    def __init__(self):\n",
    "        self.rgb = ['red', 'green', 'blue']\n",
    "\n",
    "    def __len__(self):\n",
    "        return len(self.rgb)"
   ]
  },
  {
   "cell_type": "markdown",
   "id": "7446ce6a",
   "metadata": {},
   "source": [
    "Tiếp theo ta định nghĩa class `ColorIterator`:"
   ]
  },
  {
   "cell_type": "code",
   "execution_count": 8,
   "id": "c0fbe586",
   "metadata": {},
   "outputs": [],
   "source": [
    "class ColorIterator:\n",
    "    def __init__(self, colors):\n",
    "        self.__colors = colors\n",
    "        self.__index = 0\n",
    "\n",
    "    def __iter__(self):\n",
    "        return self\n",
    "\n",
    "    def __next__(self):\n",
    "        if self.__index >= len(self.__colors):\n",
    "            raise StopIteration\n",
    "\n",
    "        # return the next color\n",
    "        color = self.__colors.rgb[self.__index]\n",
    "        self.__index += 1\n",
    "        return color"
   ]
  },
  {
   "cell_type": "markdown",
   "id": "7dbaa8c9",
   "metadata": {},
   "source": [
    "Giờ ta có thể sử dùng `ColorIterator` để duyệt qua object `Colors` như sau:"
   ]
  },
  {
   "cell_type": "code",
   "execution_count": 9,
   "id": "82d72bc1",
   "metadata": {},
   "outputs": [
    {
     "name": "stdout",
     "output_type": "stream",
     "text": [
      "red\n",
      "green\n",
      "blue\n"
     ]
    }
   ],
   "source": [
    "colors = Colors()\n",
    "color_iterator = ColorIterator(colors)\n",
    "\n",
    "for color in color_iterator:\n",
    "    print(color)"
   ]
  },
  {
   "cell_type": "markdown",
   "id": "b4f75eef",
   "metadata": {},
   "source": [
    "Muốn duyệt lại object `Colors`, ta chỉ cần tạo lại instance mới của `ColorIterator`."
   ]
  },
  {
   "cell_type": "markdown",
   "id": "e2443a24",
   "metadata": {},
   "source": [
    "Nhưng như vậy cũng không hiệu quả lắm. Ta phải tự tạo lại iterator mới bằng tay, và còn phải nhớ tên class `ColorIterator` nữa."
   ]
  },
  {
   "cell_type": "markdown",
   "id": "090b79cc",
   "metadata": {},
   "source": [
    "Ta sẽ khắc phục nó như sau: ta cho class `Colors` implement hàm `__iter__`:"
   ]
  },
  {
   "cell_type": "code",
   "execution_count": 10,
   "id": "ccc62c19",
   "metadata": {},
   "outputs": [],
   "source": [
    "class Colors:\n",
    "    def __init__(self):\n",
    "        self.rgb = ['red', 'green', 'blue']\n",
    "\n",
    "    def __len__(self):\n",
    "        return len(self.rgb)\n",
    "\n",
    "    def __iter__(self):\n",
    "        return ColorIterator(self)\n"
   ]
  },
  {
   "cell_type": "markdown",
   "id": "7b15edbc",
   "metadata": {},
   "source": [
    "Hàm `__inter__` sẽ trả về một instance mới của class `ColorIterator` luôn. Như vậy ta có thể duyệt qua `Colors` object mà không cần phải tự tạo `ColorIterator` object:"
   ]
  },
  {
   "cell_type": "code",
   "execution_count": 11,
   "id": "b461fb28",
   "metadata": {},
   "outputs": [
    {
     "name": "stdout",
     "output_type": "stream",
     "text": [
      "red\n",
      "green\n",
      "blue\n"
     ]
    }
   ],
   "source": [
    "colors = Colors()\n",
    "\n",
    "for color in colors:\n",
    "    print(color)\n"
   ]
  },
  {
   "cell_type": "markdown",
   "id": "fefc4dcd",
   "metadata": {},
   "source": [
    "<span style=\"color:DarkOrange\">Vòng lặp `for` sẽ gọi hàm `__iter__` của object `colors` và lấy được một iterator</span>, sau đó dùng iterator này để duyệt các phần tử của `colors`."
   ]
  },
  {
   "cell_type": "markdown",
   "id": "ad8b9264",
   "metadata": {},
   "source": [
    "Ta có thể đặt class `ColorInterator` bên trong class `Colors` luôn:"
   ]
  },
  {
   "cell_type": "code",
   "execution_count": 12,
   "id": "a2ef2504",
   "metadata": {},
   "outputs": [],
   "source": [
    "class Colors:\n",
    "    def __init__(self):\n",
    "        self.rgb = ['red', 'green', 'blue']\n",
    "\n",
    "    def __len__(self):\n",
    "        return len(self.rgb)\n",
    "\n",
    "    def __iter__(self):\n",
    "        return self.ColorIterator(self)\n",
    "\n",
    "    class ColorIterator:\n",
    "        def __init__(self, colors):\n",
    "            self.__colors = colors\n",
    "            self.__index = 0\n",
    "\n",
    "        def __iter__(self):\n",
    "            return self\n",
    "\n",
    "        def __next__(self):\n",
    "            if self.__index >= len(self.__colors):\n",
    "                raise StopIteration\n",
    "\n",
    "            # return the next color\n",
    "            color = self.__colors.rgb[self.__index]\n",
    "            self.__index += 1\n",
    "            return color\n"
   ]
  },
  {
   "cell_type": "markdown",
   "id": "17c6018a",
   "metadata": {},
   "source": [
    "## <a class=\"anchor\" id=\"sum\" style=\"color:Violet\"> Tổng kết </a>"
   ]
  },
  {
   "cell_type": "markdown",
   "id": "d848677a",
   "metadata": {},
   "source": [
    "- Một iterable là một object implement hàm `__iter__` trả về một iterator.\n",
    "- Một iterator là một object implement hàm `__iter__` trả về chính nó và hàm `__next__` trả về phần tử tiếp theo.\n",
    "- <span style=\"color:DarkOrange\">Iterators cũng là iterables</span>."
   ]
  }
 ],
 "metadata": {
  "kernelspec": {
   "display_name": "Python 3 (ipykernel)",
   "language": "python",
   "name": "python3"
  },
  "language_info": {
   "codemirror_mode": {
    "name": "ipython",
    "version": 3
   },
   "file_extension": ".py",
   "mimetype": "text/x-python",
   "name": "python",
   "nbconvert_exporter": "python",
   "pygments_lexer": "ipython3",
   "version": "3.10.9"
  }
 },
 "nbformat": 4,
 "nbformat_minor": 5
}
