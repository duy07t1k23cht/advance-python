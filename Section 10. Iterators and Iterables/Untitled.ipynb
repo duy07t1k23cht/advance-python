{
 "cells": [
  {
   "cell_type": "markdown",
   "id": "b43d7b95",
   "metadata": {},
   "source": [
    "# <a href=\"https://www.pythontutorial.net/advanced-python/python-iterators/\" style=\"color:Tomato\">Python Iterators</a>"
   ]
  },
  {
   "cell_type": "markdown",
   "id": "a33bccd9",
   "metadata": {},
   "source": [
    "Ở bài này ta học về Python iterator và các để tạo mọt custom iterator sử dụng iterator protocol."
   ]
  },
  {
   "cell_type": "markdown",
   "id": "bee5d4f4",
   "metadata": {},
   "source": [
    "### Tables of Contents\n",
    "* [What is a Python iterator](#1)\n",
    "* [Python iterator example](#2)\n",
    "* [Summary](#sum)"
   ]
  },
  {
   "cell_type": "markdown",
   "id": "a3a0cec1",
   "metadata": {},
   "source": [
    "## <a class=\"anchor\" id=\"1\">What is a Python iterator</a>"
   ]
  },
  {
   "cell_type": "markdown",
   "id": "3dea39d9",
   "metadata": {},
   "source": [
    "Một iterator là một object implement:\n",
    "\n",
    "- `__iter__`: trả về chính object đó\n",
    "- `__next__`: trả về item tiếp theo. Nếu tất cả các item đều đã được return, raise `StopIteration` exception."
   ]
  },
  {
   "cell_type": "markdown",
   "id": "e75d8b4c",
   "metadata": {},
   "source": [
    "Hai hàm trên còn được gọi là **iterator protocol**."
   ]
  },
  {
   "cell_type": "markdown",
   "id": "4a6e97f7",
   "metadata": {},
   "source": [
    "Python cho phép sử dụng iterator với vòng lặp `for`, comprehensions và các hàm built-in khác như `map`, `filter`, `reduce`, `zip`."
   ]
  },
  {
   "cell_type": "markdown",
   "id": "c1c3c72c",
   "metadata": {},
   "source": [
    "## <a class=\"anchor\" id=\"2\">Python iterator example</a>"
   ]
  },
  {
   "cell_type": "markdown",
   "id": "02c3394a",
   "metadata": {},
   "source": [
    "Ví dụ sau định nghĩa một iterator `Square` trả về bình phương của các số:"
   ]
  },
  {
   "cell_type": "code",
   "execution_count": 1,
   "id": "b930797b",
   "metadata": {},
   "outputs": [],
   "source": [
    "class Square:\n",
    "    def __init__(self, length):\n",
    "        self.length = length\n",
    "        self.current = 0\n",
    "\n",
    "    def __iter__(self):\n",
    "        return self\n",
    "\n",
    "    def __next__(self):\n",
    "        if self.current >= self.length:\n",
    "            raise StopIteration\n",
    "\n",
    "        self.current += 1\n",
    "        return self.current ** 2"
   ]
  },
  {
   "cell_type": "markdown",
   "id": "2a2c0d91",
   "metadata": {},
   "source": [
    "How it works:\n",
    "\n",
    "- Đầu tiên, initialize các thuộc tính `length` và `current` ở hàm khởi tạo. Ở đây `length` là số lượng số chính phương mà class có thể return, và `current` để lưu số lượng hiện tại.\n",
    "- Tiếp theo, ta implement hàm `__iter__` và trả về `self` object.\n",
    "- Sau đó, implement hàm `__next__` trả về số chính phương tiếp theo. Nếu số lượng số chính phương đã được trả về lớn hơn `length`, hàm `__next__` sẽ raise `StopIteration` exception."
   ]
  },
  {
   "cell_type": "markdown",
   "id": "d785b272",
   "metadata": {},
   "source": [
    "Có thể sử dụng `Square` iterator bằng vòng lặp `for` như sau:"
   ]
  },
  {
   "cell_type": "code",
   "execution_count": 2,
   "id": "a53f6e75",
   "metadata": {},
   "outputs": [
    {
     "name": "stdout",
     "output_type": "stream",
     "text": [
      "1\n",
      "4\n",
      "9\n",
      "16\n",
      "25\n"
     ]
    }
   ],
   "source": [
    "square = Square(5)\n",
    "\n",
    "for sq in square:\n",
    "    print(sq)"
   ]
  },
  {
   "cell_type": "markdown",
   "id": "37769015",
   "metadata": {},
   "source": [
    "<span style=\"color:DarkOrange\">Khi ta duyệt tất cả items của iterator, iterator sẽ bị exhausted. Ta sẽ không thể duyệt iterator này tiếp được nữa.</span>"
   ]
  },
  {
   "cell_type": "markdown",
   "id": "c7f98d3a",
   "metadata": {},
   "source": [
    "Nếu ta cố duyệt tiếp, ta sẽ bị `StopIteration` exception. Ví dụ:"
   ]
  },
  {
   "cell_type": "code",
   "execution_count": 3,
   "id": "26333434",
   "metadata": {},
   "outputs": [
    {
     "ename": "StopIteration",
     "evalue": "",
     "output_type": "error",
     "traceback": [
      "\u001b[0;31m---------------------------------------------------------------------------\u001b[0m",
      "\u001b[0;31mStopIteration\u001b[0m                             Traceback (most recent call last)",
      "Cell \u001b[0;32mIn[3], line 1\u001b[0m\n\u001b[0;32m----> 1\u001b[0m \u001b[38;5;28;43mnext\u001b[39;49m\u001b[43m(\u001b[49m\u001b[43msquare\u001b[49m\u001b[43m)\u001b[49m\n",
      "Cell \u001b[0;32mIn[1], line 11\u001b[0m, in \u001b[0;36mSquare.__next__\u001b[0;34m(self)\u001b[0m\n\u001b[1;32m      9\u001b[0m \u001b[38;5;28;01mdef\u001b[39;00m \u001b[38;5;21m__next__\u001b[39m(\u001b[38;5;28mself\u001b[39m):\n\u001b[1;32m     10\u001b[0m     \u001b[38;5;28;01mif\u001b[39;00m \u001b[38;5;28mself\u001b[39m\u001b[38;5;241m.\u001b[39mcurrent \u001b[38;5;241m>\u001b[39m\u001b[38;5;241m=\u001b[39m \u001b[38;5;28mself\u001b[39m\u001b[38;5;241m.\u001b[39mlength:\n\u001b[0;32m---> 11\u001b[0m         \u001b[38;5;28;01mraise\u001b[39;00m \u001b[38;5;167;01mStopIteration\u001b[39;00m\n\u001b[1;32m     13\u001b[0m     \u001b[38;5;28mself\u001b[39m\u001b[38;5;241m.\u001b[39mcurrent \u001b[38;5;241m+\u001b[39m\u001b[38;5;241m=\u001b[39m \u001b[38;5;241m1\u001b[39m\n\u001b[1;32m     14\u001b[0m     \u001b[38;5;28;01mreturn\u001b[39;00m \u001b[38;5;28mself\u001b[39m\u001b[38;5;241m.\u001b[39mcurrent \u001b[38;5;241m*\u001b[39m\u001b[38;5;241m*\u001b[39m \u001b[38;5;241m2\u001b[39m\n",
      "\u001b[0;31mStopIteration\u001b[0m: "
     ]
    }
   ],
   "source": [
    "next(square)"
   ]
  },
  {
   "cell_type": "markdown",
   "id": "b514f8af",
   "metadata": {},
   "source": [
    "Một iterator không thể được restart, vì nó chỉ có hàm `__next__` để return next item."
   ]
  },
  {
   "cell_type": "markdown",
   "id": "17c6018a",
   "metadata": {},
   "source": [
    "## <a class=\"anchor\" id=\"sum\" style=\"color:Violet\"> Tổng kết </a>"
   ]
  },
  {
   "cell_type": "markdown",
   "id": "abe1be9e",
   "metadata": {},
   "source": [
    "- Một iterator là một object implement hàm `__iter__` và `__next__`.\n",
    "- Một iterator không thể được dùng lại khi các items của nó đã được duyệt hết."
   ]
  }
 ],
 "metadata": {
  "kernelspec": {
   "display_name": "Python 3 (ipykernel)",
   "language": "python",
   "name": "python3"
  },
  "language_info": {
   "codemirror_mode": {
    "name": "ipython",
    "version": 3
   },
   "file_extension": ".py",
   "mimetype": "text/x-python",
   "name": "python",
   "nbconvert_exporter": "python",
   "pygments_lexer": "ipython3",
   "version": "3.10.9"
  }
 },
 "nbformat": 4,
 "nbformat_minor": 5
}
