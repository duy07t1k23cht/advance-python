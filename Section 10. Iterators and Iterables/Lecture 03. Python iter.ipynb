{
 "cells": [
  {
   "cell_type": "markdown",
   "id": "b43d7b95",
   "metadata": {},
   "source": [
    "# <a href=\"https://www.pythontutorial.net/advanced-python/python-iter/\" style=\"color:Tomato\">Python iter</a>"
   ]
  },
  {
   "cell_type": "markdown",
   "id": "fdb02849",
   "metadata": {},
   "source": [
    "Bài này ta sẽ học cách làm thế nào để sử dụng hàm `iter()` của Python một cách hiệu quả."
   ]
  },
  {
   "cell_type": "markdown",
   "id": "bee5d4f4",
   "metadata": {},
   "source": [
    "### Tables of Contents\n",
    "* [Introduction to the Python iter function](#1)\n",
    "* [Python `iter()` function examples](#2)\n",
    "* [The second form of the Python `iter()` function](#3)\n",
    "* [Use Python `iter()` function to test if an object is iterable](#4)\n",
    "* [Summary](#sum)"
   ]
  },
  {
   "cell_type": "markdown",
   "id": "a3a0cec1",
   "metadata": {},
   "source": [
    "## <a class=\"anchor\" id=\"1\">Introduction to the Python iter function</a>"
   ]
  },
  {
   "cell_type": "markdown",
   "id": "4aadf2c7",
   "metadata": {},
   "source": [
    "Hàm `iter()` nhận vào một iterable hoặc một sequence và trả về một iterator. Một cách tổng quát, hàm `iter()` có thể nhận vào bất kỳ object nào mà có iteration protocol hoặc sequence protocol."
   ]
  },
  {
   "cell_type": "markdown",
   "id": "bad9bf5f",
   "metadata": {},
   "source": [
    "Đây là cách mà hàm `iter()` hoạt động:\n",
    "\n",
    "![](https://www.pythontutorial.net/wp-content/uploads/2020/11/Python-iter.png)"
   ]
  },
  {
   "cell_type": "markdown",
   "id": "e45e4805",
   "metadata": {},
   "source": [
    "## <a class=\"anchor\" id=\"2\">Python `iter()` function examples</a>"
   ]
  },
  {
   "cell_type": "markdown",
   "id": "e98cf41f",
   "metadata": {},
   "source": [
    "Xét class `Counter` có class `CounterIterator` và được implement iterable protocol:"
   ]
  },
  {
   "cell_type": "code",
   "execution_count": 1,
   "id": "e6103015",
   "metadata": {},
   "outputs": [],
   "source": [
    "class Counter:\n",
    "    def __init__(self):\n",
    "        self.current = 0\n",
    "\n",
    "    def __getitem__(self, index):\n",
    "        if isinstance(index, int):\n",
    "            self.current += 1\n",
    "            return self.current\n",
    "\n",
    "    def __iter__(self):\n",
    "        return self.CounterIterator(self)\n",
    "\n",
    "    class CounterIterator:\n",
    "        def __init__(self, counter):\n",
    "            self.__counter = counter\n",
    "\n",
    "        def __iter__(self):\n",
    "            return self\n",
    "\n",
    "        def __next__(self):\n",
    "            self.__counter.current += 1\n",
    "            return self.__counter.current"
   ]
  },
  {
   "cell_type": "code",
   "execution_count": 2,
   "id": "0969c60a",
   "metadata": {},
   "outputs": [
    {
     "name": "stdout",
     "output_type": "stream",
     "text": [
      "<class '__main__.Counter.CounterIterator'>\n"
     ]
    }
   ],
   "source": [
    "counter = Counter()\n",
    "\n",
    "iterator = iter(counter)\n",
    "print(type(iterator))"
   ]
  },
  {
   "cell_type": "markdown",
   "id": "2505f298",
   "metadata": {},
   "source": [
    "## <a class=\"anchor\" id=\"3\">The second form of the Python `iter()` function</a>"
   ]
  },
  {
   "cell_type": "markdown",
   "id": "054000b6",
   "metadata": {},
   "source": [
    "Một cách gọi khác của hàm `iter()`:\n",
    "\n",
    "```python\n",
    "iter(callable, sentinel)\n",
    "```"
   ]
  },
  {
   "cell_type": "markdown",
   "id": "b781d022",
   "metadata": {},
   "source": [
    "Nó sẽ trả về giá trị mà `callable` trả về, hoặc raise `StopIteration` exception nếu kết quả bằng `sentinel`."
   ]
  },
  {
   "cell_type": "markdown",
   "id": "00584652",
   "metadata": {},
   "source": [
    "Xét ví dụ sau:"
   ]
  },
  {
   "cell_type": "code",
   "execution_count": 3,
   "id": "e2d829d0",
   "metadata": {},
   "outputs": [],
   "source": [
    "def counter():\n",
    "    count = 0\n",
    "\n",
    "    def increase():\n",
    "        nonlocal count\n",
    "        count += 1\n",
    "        return count\n",
    "\n",
    "    return increase\n"
   ]
  },
  {
   "cell_type": "markdown",
   "id": "cf10bbce",
   "metadata": {},
   "source": [
    "hàm `counter()` trả về một closure, closure này trả về một số nguyên được định nghĩa khi hàm `counter()` được gọi."
   ]
  },
  {
   "cell_type": "markdown",
   "id": "d34ea15e",
   "metadata": {},
   "source": [
    "Giờ ta sẽ dùng hàm `counter()` để in ra các số từ 1 đến 3:"
   ]
  },
  {
   "cell_type": "code",
   "execution_count": 4,
   "id": "b98ada78",
   "metadata": {},
   "outputs": [
    {
     "name": "stdout",
     "output_type": "stream",
     "text": [
      "1\n",
      "2\n",
      "3\n"
     ]
    }
   ],
   "source": [
    "cnt = counter()\n",
    "\n",
    "while True:\n",
    "    current = cnt()\n",
    "    print(current)\n",
    "    if current == 3:\n",
    "        break"
   ]
  },
  {
   "cell_type": "markdown",
   "id": "02930673",
   "metadata": {},
   "source": [
    "Thay vì loằng ngoằng như vậy thì ta có thể làm thế này:"
   ]
  },
  {
   "cell_type": "code",
   "execution_count": 5,
   "id": "3b16a200",
   "metadata": {},
   "outputs": [
    {
     "name": "stdout",
     "output_type": "stream",
     "text": [
      "1\n",
      "2\n",
      "3\n"
     ]
    }
   ],
   "source": [
    "cnt = counter()\n",
    "iterator = iter(cnt, 4)\n",
    "\n",
    "for count in iterator:\n",
    "    print(count)\n"
   ]
  },
  {
   "cell_type": "markdown",
   "id": "d929c855",
   "metadata": {},
   "source": [
    "## <a class=\"anchor\" id=\"4\">Use Python `iter()` function to test if an object is iterable</a>"
   ]
  },
  {
   "cell_type": "markdown",
   "id": "0e6f7b9a",
   "metadata": {},
   "source": [
    "Nếu một object không được implement hàm `__iter__` hoăcj `__getitem__`, thì khi truyền object đó vào hàm `iter()`, nó sẽ raise `TypeError` exception."
   ]
  },
  {
   "cell_type": "markdown",
   "id": "2dcad2c4",
   "metadata": {},
   "source": [
    "Vì thế ta có thể dùng hàm `iter()` để kiểm tra xem một object có phải là iterable hay không như sau:"
   ]
  },
  {
   "cell_type": "code",
   "execution_count": 6,
   "id": "a931d4a0",
   "metadata": {},
   "outputs": [],
   "source": [
    "def is_iterable(object):\n",
    "    try:\n",
    "        iter(object)\n",
    "    except TypeError:\n",
    "        return False\n",
    "    else:\n",
    "        return True"
   ]
  },
  {
   "cell_type": "markdown",
   "id": "17c6018a",
   "metadata": {},
   "source": [
    "## <a class=\"anchor\" id=\"sum\" style=\"color:Violet\"> Tổng kết </a>"
   ]
  },
  {
   "cell_type": "markdown",
   "id": "784e7681",
   "metadata": {},
   "source": [
    "- Dùng hàm `iter()` để trả về một iterator từ một object."
   ]
  }
 ],
 "metadata": {
  "kernelspec": {
   "display_name": "Python 3 (ipykernel)",
   "language": "python",
   "name": "python3"
  },
  "language_info": {
   "codemirror_mode": {
    "name": "ipython",
    "version": 3
   },
   "file_extension": ".py",
   "mimetype": "text/x-python",
   "name": "python",
   "nbconvert_exporter": "python",
   "pygments_lexer": "ipython3",
   "version": "3.10.9"
  }
 },
 "nbformat": 4,
 "nbformat_minor": 5
}
