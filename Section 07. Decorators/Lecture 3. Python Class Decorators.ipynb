{
 "cells": [
  {
   "cell_type": "markdown",
   "id": "b43d7b95",
   "metadata": {},
   "source": [
    "# <a href=\"https://www.pythontutorial.net/advanced-python/python-class-decorators/\" style=\"color:Tomato\">Python Class Decorators</a>"
   ]
  },
  {
   "cell_type": "markdown",
   "id": "d9a69013",
   "metadata": {},
   "source": [
    "Ở bài này ý ta sẽ học về class decorators."
   ]
  },
  {
   "cell_type": "markdown",
   "id": "bee5d4f4",
   "metadata": {},
   "source": [
    "### Tables of Contents\n",
    "* [Introduction to the Python class decorators](#1)\n",
    "* [Summary](#sum)"
   ]
  },
  {
   "cell_type": "markdown",
   "id": "a3a0cec1",
   "metadata": {},
   "source": [
    "## <a class=\"anchor\" id=\"1\">Introduction to the Python class decorators</a>"
   ]
  },
  {
   "cell_type": "markdown",
   "id": "11a666c2",
   "metadata": {},
   "source": [
    "Ta đã biết cách sử dụng hàm để định nghĩa decorator."
   ]
  },
  {
   "cell_type": "markdown",
   "id": "6130a28b",
   "metadata": {},
   "source": [
    "Ví dụ, hàm `star` in ra một số lượng ký tự `*` trước khi thực hiện gọi hàm được decorated."
   ]
  },
  {
   "cell_type": "code",
   "execution_count": 1,
   "id": "87bbbbaa",
   "metadata": {},
   "outputs": [],
   "source": [
    "def star(n):\n",
    "    def decorate(fn):\n",
    "        def wrapper(*args, **kwargs):\n",
    "            print(n*'*')\n",
    "            result = fn(*args, **kwargs)\n",
    "            print(result)\n",
    "            print(n*'*')\n",
    "            return result\n",
    "        return wrapper\n",
    "    return decorate"
   ]
  },
  {
   "cell_type": "markdown",
   "id": "16911d67",
   "metadata": {},
   "source": [
    "Ở đây `star` là một decorator factory trả về một decorator. Ví dụ sau minh hoạ cách hoạt động của `star`:"
   ]
  },
  {
   "cell_type": "code",
   "execution_count": 2,
   "id": "bbfc29ee",
   "metadata": {},
   "outputs": [
    {
     "name": "stdout",
     "output_type": "stream",
     "text": [
      "*****\n",
      "30\n",
      "*****\n"
     ]
    },
    {
     "data": {
      "text/plain": [
       "30"
      ]
     },
     "execution_count": 2,
     "metadata": {},
     "output_type": "execute_result"
    }
   ],
   "source": [
    "@star(5)\n",
    "def add(a, b):\n",
    "    return a + b\n",
    "\n",
    "\n",
    "add(10, 20)"
   ]
  },
  {
   "cell_type": "markdown",
   "id": "ee81b8be",
   "metadata": {},
   "source": [
    "Decorator factory `star` nhận vào một tham số và trả về một callable. Callable này nhận vào một hàm (`fn`) làm tham số, đây chính là hàm được decorated. Callable này có thể access được tham số được truyền vào decorator factory (`n`)."
   ]
  },
  {
   "cell_type": "markdown",
   "id": "9ccde13f",
   "metadata": {},
   "source": [
    "Một instance của một class có thể là một callable nếu nó implement hàm `__call__()`. Vì vậy, ta có thể viết hàm `__call__()` như là một decorator:"
   ]
  },
  {
   "cell_type": "code",
   "execution_count": 3,
   "id": "a3b4c477",
   "metadata": {},
   "outputs": [],
   "source": [
    "class Star:\n",
    "    def __init__(self, n):\n",
    "        self.n = n\n",
    "\n",
    "    def __call__(self, fn):\n",
    "        def wrapper(*args, **kwargs):\n",
    "            print(self.n*'*')\n",
    "            result = fn(*args, **kwargs)\n",
    "            print(result)\n",
    "            print(self.n*'*')\n",
    "            return result\n",
    "        return wrapper"
   ]
  },
  {
   "cell_type": "markdown",
   "id": "62326f4c",
   "metadata": {},
   "source": [
    "Bây giờ ta có thể sử dụng class `Star` như một decorator như sau:"
   ]
  },
  {
   "cell_type": "code",
   "execution_count": 4,
   "id": "8c20afae",
   "metadata": {},
   "outputs": [],
   "source": [
    "@Star(5)\n",
    "def add(a, b):\n",
    "    return a + b"
   ]
  },
  {
   "cell_type": "markdown",
   "id": "04ef4692",
   "metadata": {},
   "source": [
    "Dòng `@Star(5)` trả về một instance của class `Star`. Instance này là một callable, vì thế ta hoàn toàn có thể gọi:\n",
    "```python\n",
    "add = Star(5)(add)\n",
    "```"
   ]
  },
  {
   "cell_type": "markdown",
   "id": "82908045",
   "metadata": {},
   "source": [
    "Vì thế, ta có thể sử dụng callable class như decorator."
   ]
  },
  {
   "cell_type": "markdown",
   "id": "49bd7aa7",
   "metadata": {},
   "source": [
    "Kết hợp toàn bộ ta được:"
   ]
  },
  {
   "cell_type": "code",
   "execution_count": 5,
   "id": "91197e1a",
   "metadata": {},
   "outputs": [
    {
     "name": "stdout",
     "output_type": "stream",
     "text": [
      "*****\n",
      "30\n",
      "*****\n"
     ]
    },
    {
     "data": {
      "text/plain": [
       "30"
      ]
     },
     "execution_count": 5,
     "metadata": {},
     "output_type": "execute_result"
    }
   ],
   "source": [
    "from functools import wraps\n",
    "\n",
    "\n",
    "class Star:\n",
    "    def __init__(self, n):\n",
    "        self.n = n\n",
    "\n",
    "    def __call__(self, fn):\n",
    "        @wraps(fn)\n",
    "        def wrapper(*args, **kwargs):\n",
    "            print(self.n*'*')\n",
    "            result = fn(*args, **kwargs)\n",
    "            print(result)\n",
    "            print(self.n*'*')\n",
    "            return result\n",
    "        return wrapper\n",
    "\n",
    "\n",
    "@Star(5)\n",
    "def add(a, b):\n",
    "    return a + b\n",
    "\n",
    "\n",
    "add(10, 20)"
   ]
  },
  {
   "cell_type": "markdown",
   "id": "17c6018a",
   "metadata": {},
   "source": [
    "## <a class=\"anchor\" id=\"sum\" style=\"color:Violet\"> Tổng kết </a>"
   ]
  },
  {
   "cell_type": "markdown",
   "id": "e8cd9689",
   "metadata": {},
   "source": [
    "- Sử dụng callable class như một decorator bằng cách implement hàm `__call__()`.\n",
    "- Truyền tham số cho decorator bằng hàm `__init__()`."
   ]
  }
 ],
 "metadata": {
  "kernelspec": {
   "display_name": "Python 3 (ipykernel)",
   "language": "python",
   "name": "python3"
  },
  "language_info": {
   "codemirror_mode": {
    "name": "ipython",
    "version": 3
   },
   "file_extension": ".py",
   "mimetype": "text/x-python",
   "name": "python",
   "nbconvert_exporter": "python",
   "pygments_lexer": "ipython3",
   "version": "3.10.9"
  }
 },
 "nbformat": 4,
 "nbformat_minor": 5
}
