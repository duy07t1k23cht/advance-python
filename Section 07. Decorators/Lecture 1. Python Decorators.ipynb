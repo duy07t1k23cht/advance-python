{
 "cells": [
  {
   "cell_type": "markdown",
   "id": "b43d7b95",
   "metadata": {},
   "source": [
    "# <a href=\"https://www.pythontutorial.net/advanced-python/python-decorators/\" style=\"color:Tomato\">Python Decorators</a>"
   ]
  },
  {
   "cell_type": "markdown",
   "id": "55855b41",
   "metadata": {},
   "source": [
    "Ở bài này, ta sẽ học về Python decorators và cách để tự tạo ra các decorators."
   ]
  },
  {
   "cell_type": "markdown",
   "id": "bee5d4f4",
   "metadata": {},
   "source": [
    "### Tables of Contents\n",
    "* [What is a decorator in Python](#1)\n",
    "* [A simple Python decorator example](#2)\n",
    "* [Python decorator definition](#3)\n",
    "* [The `@` symbol](#4)\n",
    "* [Introspecting decorated functions](#5)\n",
    "* [Summary](#sum)"
   ]
  },
  {
   "cell_type": "markdown",
   "id": "a3a0cec1",
   "metadata": {},
   "source": [
    "## <a class=\"anchor\" id=\"1\">What is a decorator in Python</a>"
   ]
  },
  {
   "cell_type": "markdown",
   "id": "6b648e7d",
   "metadata": {},
   "source": [
    "<span style=\"color:DarkOrange\">Một decorator là một hàm nhận hàm khác vào là một tham số và mở rộng các hành vi của nó mà không thay đổi nội dung của hàm gốc.</span>"
   ]
  },
  {
   "cell_type": "markdown",
   "id": "6d79cb14",
   "metadata": {},
   "source": [
    "## <a class=\"anchor\" id=\"2\">A simple Python decorator example</a>"
   ]
  },
  {
   "cell_type": "markdown",
   "id": "badf95fe",
   "metadata": {},
   "source": [
    "Ta định nghĩa hàm sau:"
   ]
  },
  {
   "cell_type": "code",
   "execution_count": 1,
   "id": "c8dd693b",
   "metadata": {},
   "outputs": [],
   "source": [
    "def net_price(price, tax):\n",
    "    \"\"\" calculate the net price from price and tax\n",
    "    Arguments:\n",
    "        price: the selling price\n",
    "        tax: value added tax or sale tax\n",
    "    Return\n",
    "        the net price\n",
    "    \"\"\"\n",
    "    return price * (1 + tax)\n"
   ]
  },
  {
   "cell_type": "markdown",
   "id": "eb3ae88a",
   "metadata": {},
   "source": [
    "Giả sử bạn cần format net price bằng ký hiệu `$`, ví dụ `100` thành `$100`, ta có thể sử dụng decorator như sau:"
   ]
  },
  {
   "cell_type": "code",
   "execution_count": 2,
   "id": "efeb53e3",
   "metadata": {},
   "outputs": [],
   "source": [
    "def currency(fn):\n",
    "    def wrapper(*args, **kwargs):\n",
    "        fn(*args, **kwargs)\n",
    "\n",
    "    return wrapper"
   ]
  },
  {
   "cell_type": "markdown",
   "id": "c53add83",
   "metadata": {},
   "source": [
    "Hàm `currency()` nhận vào hàm `fn` làm tham số, trả về hàm `wrapper`. Hàm `wrapper` nhận vào khác tham số `*args` và `**kwargs`."
   ]
  },
  {
   "cell_type": "markdown",
   "id": "70cc69f2",
   "metadata": {},
   "source": [
    "Trong ví dụ này, hàm `wrapper` sẽ thực thi hàm `fn` và trả về kết quả y hệt."
   ]
  },
  {
   "cell_type": "markdown",
   "id": "a10b9e4e",
   "metadata": {},
   "source": [
    "Ta có thể thay đổi hàm `wrapper` gọi hàm `fn`, lấy kết quả của nó và thêm ký tự `$` vào phía trước."
   ]
  },
  {
   "cell_type": "code",
   "execution_count": 3,
   "id": "1c486440",
   "metadata": {},
   "outputs": [],
   "source": [
    "def currency(fn):\n",
    "    def wrapper(*args, **kwargs):\n",
    "        result = fn(*args, **kwargs)\n",
    "        return f'${result}'\n",
    "    return wrapper"
   ]
  },
  {
   "cell_type": "markdown",
   "id": "40ae407d",
   "metadata": {},
   "source": [
    "Hàm `currency` chính là một decorator. Nó nhận vào một hàm và trả về số đã được format như yêu cầu."
   ]
  },
  {
   "cell_type": "markdown",
   "id": "4114ebbd",
   "metadata": {},
   "source": [
    "Nó nhận vào một hàm và trả về số đã được format như yêu cầu."
   ]
  },
  {
   "cell_type": "markdown",
   "id": "e655df80",
   "metadata": {},
   "source": [
    "Để sử dụng decorator `currency`, ta cần truyền vào hàm `net_price` để được một hàm mới, sau đó thực thi hàm mới đó."
   ]
  },
  {
   "cell_type": "code",
   "execution_count": 4,
   "id": "1be70aef",
   "metadata": {},
   "outputs": [
    {
     "name": "stdout",
     "output_type": "stream",
     "text": [
      "$105.0\n"
     ]
    }
   ],
   "source": [
    "net_price = currency(net_price)\n",
    "print(net_price(100, 0.05))"
   ]
  },
  {
   "cell_type": "markdown",
   "id": "913582bd",
   "metadata": {},
   "source": [
    "## <a class=\"anchor\" id=\"3\">Python decorator definition</a>"
   ]
  },
  {
   "cell_type": "markdown",
   "id": "bfbc02cf",
   "metadata": {},
   "source": [
    "Tổng quát, một decorator là:\n",
    "- Một hàm nhận hàm khác là tham số và trả về một hàm khác (hay một closure)\n",
    "- Hàm của closure gọi hàm gốc sử dụng các tham số truyền vào closure và trả về giá trị của hàm."
   ]
  },
  {
   "cell_type": "markdown",
   "id": "5112f4f2",
   "metadata": {},
   "source": [
    "Hàm inner là một closure vì nó nhận tham số `fn` từ scope bên ngoài (scope của decorator)."
   ]
  },
  {
   "cell_type": "markdown",
   "id": "e298863e",
   "metadata": {},
   "source": [
    "## <a class=\"anchor\" id=\"4\">The `@` symbol</a>"
   ]
  },
  {
   "cell_type": "markdown",
   "id": "485a028a",
   "metadata": {},
   "source": [
    "Ở ví dụ trước, hàm `currency` là decorator. Và bạn có thể decorate hàm `net_price` bằng cách sử dụng cú pháp sau:\n",
    "```python\n",
    "net_price = currency(net_price)\n",
    "```"
   ]
  },
  {
   "cell_type": "markdown",
   "id": "7f08a096",
   "metadata": {},
   "source": [
    "Tổng quát, nếu `decorate` là một decorator và bạn muốn decorate hàm `fn`, ta sử dụng cú pháp sau:\n",
    "```python\n",
    "fn = decorate(fn)\n",
    "```"
   ]
  },
  {
   "cell_type": "markdown",
   "id": "642032c2",
   "metadata": {},
   "source": [
    "Để cho tiện, thì ta có thể dùng cú pháp như này:\n",
    "```python\n",
    "@decorate\n",
    "def fn():\n",
    "    pass\n",
    "```"
   ]
  },
  {
   "cell_type": "markdown",
   "id": "04f64a34",
   "metadata": {},
   "source": [
    "Hay trong ví dụ trên:"
   ]
  },
  {
   "cell_type": "code",
   "execution_count": 5,
   "id": "aac38b41",
   "metadata": {},
   "outputs": [],
   "source": [
    "@currency\n",
    "def net_price_2(price, tax):\n",
    "    \"\"\" calculate the net price from price and tax\n",
    "    Arguments:\n",
    "        price: the selling price\n",
    "        tax: value added tax or sale tax\n",
    "    Return\n",
    "        the net price\n",
    "    \"\"\"\n",
    "    return price * (1 + tax)"
   ]
  },
  {
   "cell_type": "markdown",
   "id": "96ad8b6f",
   "metadata": {},
   "source": [
    "Thử (đổi tên thành `net_price_2` để không bị lẫn với hàm phía trên):"
   ]
  },
  {
   "cell_type": "code",
   "execution_count": 6,
   "id": "6594f911",
   "metadata": {},
   "outputs": [
    {
     "name": "stdout",
     "output_type": "stream",
     "text": [
      "$105.0\n"
     ]
    }
   ],
   "source": [
    "print(net_price_2(100, 0.05))"
   ]
  },
  {
   "cell_type": "markdown",
   "id": "7b9d6ad6",
   "metadata": {},
   "source": [
    "## <a class=\"anchor\" id=\"5\">Introspecting decorated functions</a>"
   ]
  },
  {
   "cell_type": "markdown",
   "id": "2a46a4b5",
   "metadata": {},
   "source": [
    "Khi ta khai báo:\n",
    "```python\n",
    "@decorate\n",
    "def fn(*args,**kwargs):\n",
    "    pass\n",
    "```\n",
    "\n",
    "Nó tương đương với:\n",
    "```python\n",
    "fn = decorate(fn)\n",
    "```\n",
    "\n",
    "Hàm `decorate` ở đây trả về một hàm, chính là hàm phía bên trong (_wrapper function_)."
   ]
  },
  {
   "cell_type": "markdown",
   "id": "e87bf82b",
   "metadata": {},
   "source": [
    "Để xem document của một hàm, ta sử dụng hàm `help()`, nhưng trong trường hợp này ta sẽ không xem được document của hàm gốc:"
   ]
  },
  {
   "cell_type": "code",
   "execution_count": 7,
   "id": "e3088f9d",
   "metadata": {},
   "outputs": [
    {
     "name": "stdout",
     "output_type": "stream",
     "text": [
      "Help on function wrapper in module __main__:\n",
      "\n",
      "wrapper(*args, **kwargs)\n",
      "\n"
     ]
    }
   ],
   "source": [
    "help(net_price)"
   ]
  },
  {
   "cell_type": "markdown",
   "id": "c3fa2a6f",
   "metadata": {},
   "source": [
    "Thêm nữa, khi ta kiểm tra tên hàm, Python cũng không còn trả về đúng như ta mong đợi:"
   ]
  },
  {
   "cell_type": "code",
   "execution_count": 8,
   "id": "adf98a5d",
   "metadata": {},
   "outputs": [
    {
     "name": "stdout",
     "output_type": "stream",
     "text": [
      "wrapper\n"
     ]
    }
   ],
   "source": [
    "print(net_price.__name__)"
   ]
  },
  {
   "cell_type": "markdown",
   "id": "c88a3f76",
   "metadata": {},
   "source": [
    "Vậy là khi ta decorate một hàm, thì ta mấy luôn các đặc trưng của hàm đó và cả document của hàm đó luôn."
   ]
  },
  {
   "cell_type": "markdown",
   "id": "959d28bb",
   "metadata": {},
   "source": [
    "Để khắc phục vấn đề này, ta sẽ sử dụng hàm `wraps` từ thư viện `functools`. Thực tế thì hàm `wraps` cũng là một decorator."
   ]
  },
  {
   "cell_type": "markdown",
   "id": "0b5341dc",
   "metadata": {},
   "source": [
    "Cách sử dụng xem ví dụ sau:"
   ]
  },
  {
   "cell_type": "code",
   "execution_count": 9,
   "id": "0961db10",
   "metadata": {},
   "outputs": [
    {
     "name": "stdout",
     "output_type": "stream",
     "text": [
      "Help on function net_price in module __main__:\n",
      "\n",
      "net_price(price, tax)\n",
      "    calculate the net price from price and tax\n",
      "    Arguments:\n",
      "        price: the selling price\n",
      "        tax: value added tax or sale tax\n",
      "    Return\n",
      "        the net price\n",
      "\n",
      "net_price\n"
     ]
    }
   ],
   "source": [
    "from functools import wraps\n",
    "\n",
    "\n",
    "def currency(fn):\n",
    "    @wraps(fn)\n",
    "    def wrapper(*args, **kwargs):\n",
    "        result = fn(*args, **kwargs)\n",
    "        return f'${result}'\n",
    "    return wrapper\n",
    "\n",
    "\n",
    "@currency\n",
    "def net_price(price, tax):\n",
    "    \"\"\" calculate the net price from price and tax\n",
    "    Arguments:\n",
    "        price: the selling price\n",
    "        tax: value added tax or sale tax\n",
    "    Return\n",
    "        the net price\n",
    "    \"\"\"\n",
    "    return price * (1 + tax)\n",
    "\n",
    "\n",
    "help(net_price)\n",
    "print(net_price.__name__)\n"
   ]
  },
  {
   "cell_type": "markdown",
   "id": "17c6018a",
   "metadata": {},
   "source": [
    "## <a class=\"anchor\" id=\"sum\" style=\"color:Violet\"> Tổng kết </a>"
   ]
  },
  {
   "cell_type": "markdown",
   "id": "ec3a44c1",
   "metadata": {},
   "source": [
    "- Một decorator là một hàm nhận hàm khác vào là một tham số và mở rộng các hành vi của nó mà không thay đổi nội dung của hàm gốc.\n",
    "- Sử dụng ký tự `@` khi sử dụng decorator.\n",
    "- Sử dụng hàm `wraps` từ thư viện `functools` để giữ lại document và các thuộc tính đặc trưng của hàm gốc khi sử dụng decorator."
   ]
  }
 ],
 "metadata": {
  "kernelspec": {
   "display_name": "Python 3 (ipykernel)",
   "language": "python",
   "name": "python3"
  },
  "language_info": {
   "codemirror_mode": {
    "name": "ipython",
    "version": 3
   },
   "file_extension": ".py",
   "mimetype": "text/x-python",
   "name": "python",
   "nbconvert_exporter": "python",
   "pygments_lexer": "ipython3",
   "version": "3.10.9"
  }
 },
 "nbformat": 4,
 "nbformat_minor": 5
}
