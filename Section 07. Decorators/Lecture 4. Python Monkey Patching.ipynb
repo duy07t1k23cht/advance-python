{
 "cells": [
  {
   "cell_type": "markdown",
   "id": "b43d7b95",
   "metadata": {},
   "source": [
    "# <a href=\"https://www.pythontutorial.net/advanced-python/python-monkey-patching/\" style=\"color:Tomato\">Python Monkey Patching</a>"
   ]
  },
  {
   "cell_type": "markdown",
   "id": "c2b832c1",
   "metadata": {},
   "source": [
    "Trong bài này, ta sẽ học về một khái niệm được gọi là _monkey patching_ trong Python và cách sử dụng nó."
   ]
  },
  {
   "cell_type": "markdown",
   "id": "bee5d4f4",
   "metadata": {},
   "source": [
    "### Tables of Contents\n",
    "* [Introduction to Python monkey patching](#1)\n",
    "    - [Applying monkey patching](#1.1)\n",
    "    - [Monkey patching example](#1.2)\n",
    "* [When to use money patching](#2)\n",
    "* [Summary](#sum)"
   ]
  },
  {
   "cell_type": "markdown",
   "id": "a3a0cec1",
   "metadata": {},
   "source": [
    "## <a class=\"anchor\" id=\"1\">Introduction to Python monkey patching</a>"
   ]
  },
  {
   "cell_type": "markdown",
   "id": "fc913647",
   "metadata": {},
   "source": [
    "<span style=\"color:DarkOrange\">Monkey patching là một kỹ thuật cho phép bạn thay đổi hành vi của các modules, classes, hoặc functions có sẵn **lúc runtime** mà không thay đổi code gốc của nó.</span>"
   ]
  },
  {
   "cell_type": "markdown",
   "id": "6600351f",
   "metadata": {},
   "source": [
    "### <a class=\"anchor\" id=\"1.1\">Applying monkey patching</a>"
   ]
  },
  {
   "cell_type": "markdown",
   "id": "afefcced",
   "metadata": {},
   "source": [
    "Để áp dụng monkey patching, ta thực hiện các bước sau:\n",
    "- **Bước 1:** Xác định đối tượng muốn patch (có thẻ là module, class, method, hoặc function)\n",
    "- **Bước 2:** Tạo patch bằng cách viết code để thêm, sửa hoặc thay thế các logic hiện tại\n",
    "- **Bước 3:** Gán nó cho đối tượng. Cái patch đó sẽ overwrite hoặc extend các hành vi hiện tại của đối tượng."
   ]
  },
  {
   "cell_type": "markdown",
   "id": "e825d9ea",
   "metadata": {},
   "source": [
    "Mặc dù đây là một công cụ mạnh mẽ, nhưng hãy thật cẩn thận khi sử dụng chúng. "
   ]
  },
  {
   "cell_type": "markdown",
   "id": "ca860491",
   "metadata": {},
   "source": [
    "### <a class=\"anchor\" id=\"1.2\">Monkey patching example</a>"
   ]
  },
  {
   "cell_type": "markdown",
   "id": "5434f375",
   "metadata": {},
   "source": [
    "Ví dụ có một class như sau:"
   ]
  },
  {
   "cell_type": "code",
   "execution_count": 1,
   "id": "9d0bc96e",
   "metadata": {},
   "outputs": [],
   "source": [
    "class Robot:\n",
    "    def __init__(self, name):\n",
    "        self.name = name"
   ]
  },
  {
   "cell_type": "markdown",
   "id": "18582529",
   "metadata": {},
   "source": [
    "Ví dụ ta muốn instance của class này có thể in ra màn hình cái gì đó, ta thực hiện các bước sau:"
   ]
  },
  {
   "cell_type": "markdown",
   "id": "693039b8",
   "metadata": {},
   "source": [
    "Đầu tiên, ta định nghĩa hàm `add_speech` nhận vào một tham số là một class:"
   ]
  },
  {
   "cell_type": "code",
   "execution_count": 2,
   "id": "f2e04479",
   "metadata": {},
   "outputs": [],
   "source": [
    "def add_speech(cls):\n",
    "    cls.speak = lambda self, message: print(message)\n",
    "    return cls"
   ]
  },
  {
   "cell_type": "markdown",
   "id": "903b1972",
   "metadata": {},
   "source": [
    "Sau đó patch class `Robot`:"
   ]
  },
  {
   "cell_type": "code",
   "execution_count": 3,
   "id": "f36abaed",
   "metadata": {},
   "outputs": [],
   "source": [
    "Robot = add_speech(Robot)"
   ]
  },
  {
   "cell_type": "markdown",
   "id": "677f7fb1",
   "metadata": {},
   "source": [
    "Thử:"
   ]
  },
  {
   "cell_type": "code",
   "execution_count": 4,
   "id": "0489514f",
   "metadata": {},
   "outputs": [
    {
     "name": "stdout",
     "output_type": "stream",
     "text": [
      "Hi\n"
     ]
    }
   ],
   "source": [
    "def add_speech(cls):\n",
    "    cls.speak = lambda self, message: print(message)\n",
    "    return cls\n",
    "\n",
    "\n",
    "class Robot:\n",
    "    def __init__(self, name):\n",
    "        self.name = name\n",
    "\n",
    "\n",
    "Robot = add_speech(Robot)\n",
    "\n",
    "robot = Robot('Optimus Prime')\n",
    "robot.speak('Hi')"
   ]
  },
  {
   "cell_type": "markdown",
   "id": "3b7e9814",
   "metadata": {},
   "source": [
    "Vì dòng này là một decorator:\n",
    "```python\n",
    "Robot = add_speech(Robot)\n",
    "```\n",
    "nên ta có thể sử dụng cú pháp decorator:"
   ]
  },
  {
   "cell_type": "code",
   "execution_count": 5,
   "id": "f37280f3",
   "metadata": {},
   "outputs": [],
   "source": [
    "@add_speech\n",
    "class Robot:\n",
    "    def __init__(self, name):\n",
    "        self.name = name"
   ]
  },
  {
   "cell_type": "markdown",
   "id": "a13588da",
   "metadata": {},
   "source": [
    "Chương trình của chúng ta sẽ trông như thế này:"
   ]
  },
  {
   "cell_type": "code",
   "execution_count": 6,
   "id": "74d4ca7a",
   "metadata": {},
   "outputs": [
    {
     "name": "stdout",
     "output_type": "stream",
     "text": [
      "Hi\n"
     ]
    }
   ],
   "source": [
    "def add_speech(cls):\n",
    "    cls.speak = lambda self, message: print(message)\n",
    "    return cls\n",
    "\n",
    "\n",
    "@add_speech\n",
    "class Robot:\n",
    "    def __init__(self, name):\n",
    "        self.name = name\n",
    "\n",
    "\n",
    "robot = Robot('Optimus Prime')\n",
    "robot.speak('Hi')"
   ]
  },
  {
   "cell_type": "markdown",
   "id": "a548835e",
   "metadata": {},
   "source": [
    "## <a class=\"anchor\" id=\"2\">When to use money patching</a>"
   ]
  },
  {
   "cell_type": "markdown",
   "id": "61f83663",
   "metadata": {},
   "source": [
    "Nên hạn chế dùng vì nó sẽ làm cho code rất khó hiểu và khó debug. Chỉ dùng khi ta không thể access vào code (chẳng hạn như hàm của thư viện của một bên thứ 3 bị bug, và ta không thể chờ nó ra bản fix)."
   ]
  },
  {
   "cell_type": "markdown",
   "id": "17c6018a",
   "metadata": {},
   "source": [
    "## <a class=\"anchor\" id=\"sum\" style=\"color:Violet\"> Tổng kết </a>"
   ]
  },
  {
   "cell_type": "markdown",
   "id": "7136e387",
   "metadata": {},
   "source": [
    "- <span style=\"color:DarkOrange\">Monkey patching là một kỹ thuật cho phép bạn thay đổi hành vi của các modules, classes, hoặc functions có sẵn **lúc runtime** mà không thay đổi code gốc của nó.</span>\n",
    "- Chỉ dùng monkey patching trong trường hợp bắt buộc."
   ]
  }
 ],
 "metadata": {
  "kernelspec": {
   "display_name": "Python 3 (ipykernel)",
   "language": "python",
   "name": "python3"
  },
  "language_info": {
   "codemirror_mode": {
    "name": "ipython",
    "version": 3
   },
   "file_extension": ".py",
   "mimetype": "text/x-python",
   "name": "python",
   "nbconvert_exporter": "python",
   "pygments_lexer": "ipython3",
   "version": "3.10.9"
  }
 },
 "nbformat": 4,
 "nbformat_minor": 5
}
