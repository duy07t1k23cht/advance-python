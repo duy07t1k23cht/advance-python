{
 "cells": [
  {
   "cell_type": "markdown",
   "id": "b43d7b95",
   "metadata": {},
   "source": [
    "# <a href=\"https://www.pythontutorial.net/advanced-python/python-decorator-arguments/\" style=\"color:Tomato\">Python Decorator with Arguments</a>"
   ]
  },
  {
   "cell_type": "markdown",
   "id": "31828325",
   "metadata": {},
   "source": [
    "Ở bài này, ta sẽ tìm hiểu về cách thêm tham số vào decorator trong Python."
   ]
  },
  {
   "cell_type": "markdown",
   "id": "bee5d4f4",
   "metadata": {},
   "source": [
    "### Tables of Contents\n",
    "* [Introduction to Python decorator with arguments](#1)\n",
    "* [Summary](#sum)"
   ]
  },
  {
   "cell_type": "markdown",
   "id": "a3a0cec1",
   "metadata": {},
   "source": [
    "## <a class=\"anchor\" id=\"1\">Introduction to Python decorator with arguments</a>"
   ]
  },
  {
   "cell_type": "markdown",
   "id": "8a7f7bb3",
   "metadata": {},
   "source": [
    "Giả sử bạn có một hàm đơn giản sau:"
   ]
  },
  {
   "cell_type": "code",
   "execution_count": 1,
   "id": "7bea6a6d",
   "metadata": {},
   "outputs": [],
   "source": [
    "def say(message):\n",
    "    ''' print the message \n",
    "    Arguments\n",
    "        message: the message to show\n",
    "    '''\n",
    "    print(message)"
   ]
  },
  {
   "cell_type": "markdown",
   "id": "dd490aad",
   "metadata": {},
   "source": [
    "Và ta muốn chạy hàm này 5 lần. Ví dụ ta muốn truyền vào xâu `\"Hi\"` thì ta mong muốn nhận được kết quả như sau:\n",
    "```\n",
    "Hi\n",
    "Hi\n",
    "Hi\n",
    "Hi\n",
    "Hi\n",
    "```"
   ]
  },
  {
   "cell_type": "markdown",
   "id": "548cc896",
   "metadata": {},
   "source": [
    "Để làm được như vậy, ta có thể tạo một decorator `repeat` như sau:"
   ]
  },
  {
   "cell_type": "code",
   "execution_count": 3,
   "id": "bb231ce7",
   "metadata": {},
   "outputs": [],
   "source": [
    "def repeat(fn):\n",
    "    @wraps(fn)\n",
    "    def wrapper(*args, **kwargs):\n",
    "        for _ in range(5):\n",
    "            result = fn(*args, **kwargs)\n",
    "        return result\n",
    "\n",
    "    return wrapper"
   ]
  },
  {
   "cell_type": "markdown",
   "id": "93b964de",
   "metadata": {},
   "source": [
    "Thử (đổi tên thành `say_2` để tránh lẫn với hàm trước):"
   ]
  },
  {
   "cell_type": "code",
   "execution_count": 4,
   "id": "01a3a420",
   "metadata": {},
   "outputs": [
    {
     "name": "stdout",
     "output_type": "stream",
     "text": [
      "Hello\n",
      "Hello\n",
      "Hello\n",
      "Hello\n",
      "Hello\n"
     ]
    }
   ],
   "source": [
    "from functools import wraps\n",
    "\n",
    "def repeat(fn):\n",
    "    @wraps(fn)\n",
    "    def wrapper(*args, **kwargs):\n",
    "        for _ in range(5):\n",
    "            result = fn(*args, **kwargs)\n",
    "        return result\n",
    "\n",
    "    return wrapper\n",
    "\n",
    "\n",
    "@repeat\n",
    "def say_2(message):\n",
    "    ''' print the message \n",
    "    Arguments\n",
    "        message: the message to show\n",
    "    '''\n",
    "    print(message)\n",
    "\n",
    "\n",
    "say_2('Hello')"
   ]
  },
  {
   "cell_type": "markdown",
   "id": "3af4aaf1",
   "metadata": {},
   "source": [
    "OK nó đã chạy được. Nhưng ta đang hard code cho nó là repeat 5 lần. Ta sẽ muốn kiểu cần lặp lại bao nhiêu lần thì sẽ truyền vào một tham số tương ứng. Tức là ta muốn decorator kiểu như này:\n",
    "```python\n",
    "@repeat(5)\n",
    "def say(message):\n",
    "    ...\n",
    "```"
   ]
  },
  {
   "cell_type": "markdown",
   "id": "3ec42d1c",
   "metadata": {},
   "source": [
    "Cách làm như sau:"
   ]
  },
  {
   "cell_type": "code",
   "execution_count": 5,
   "id": "814c581c",
   "metadata": {},
   "outputs": [],
   "source": [
    "def repeat(times):\n",
    "    ''' call a function a number of times '''\n",
    "    def decorate(fn):\n",
    "        @wraps(fn)\n",
    "        def wrapper(*args, **kwargs):\n",
    "            for _ in range(times):\n",
    "                result = fn(*args, **kwargs)\n",
    "            return result\n",
    "        return wrapper\n",
    "    return decorate\n"
   ]
  },
  {
   "cell_type": "markdown",
   "id": "de23b7c1",
   "metadata": {},
   "source": [
    "Ở đây, hàm `decorate()` là một decorator, và nó tương đương với `repeat` decorator ban đầu."
   ]
  },
  {
   "cell_type": "markdown",
   "id": "ef78b42f",
   "metadata": {},
   "source": [
    "Lưu ý: Hàm `repeat` mới ở đây không phải là một decorator đúng nghĩa. Nó chỉ là một decorator factory và trả về một decorator."
   ]
  },
  {
   "cell_type": "markdown",
   "id": "74315db6",
   "metadata": {},
   "source": [
    "Thử:"
   ]
  },
  {
   "cell_type": "code",
   "execution_count": 6,
   "id": "97a42f88",
   "metadata": {},
   "outputs": [
    {
     "name": "stdout",
     "output_type": "stream",
     "text": [
      "Hello\n",
      "Hello\n",
      "Hello\n",
      "Hello\n",
      "Hello\n",
      "Hello\n",
      "Hello\n",
      "Hello\n",
      "Hello\n",
      "Hello\n"
     ]
    }
   ],
   "source": [
    "from functools import wraps\n",
    "\n",
    "\n",
    "def repeat(times):\n",
    "    ''' call a function a number of times '''\n",
    "    def decorate(fn):\n",
    "        @wraps(fn)\n",
    "        def wrapper(*args, **kwargs):\n",
    "            for _ in range(times):\n",
    "                result = fn(*args, **kwargs)\n",
    "            return result\n",
    "        return wrapper\n",
    "    return decorate\n",
    "\n",
    "\n",
    "@repeat(10)\n",
    "def say(message):\n",
    "    ''' print the message \n",
    "    Arguments\n",
    "        message: the message to show\n",
    "    '''\n",
    "    print(message)\n",
    "\n",
    "\n",
    "say('Hello')\n"
   ]
  },
  {
   "cell_type": "markdown",
   "id": "17c6018a",
   "metadata": {},
   "source": [
    "## <a class=\"anchor\" id=\"sum\" style=\"color:Violet\"> Tổng kết </a>"
   ]
  },
  {
   "cell_type": "markdown",
   "id": "0368f1c5",
   "metadata": {},
   "source": [
    "Sử dụng factory decorator khi muốn một decorator nhận vào một tham số."
   ]
  }
 ],
 "metadata": {
  "kernelspec": {
   "display_name": "Python 3 (ipykernel)",
   "language": "python",
   "name": "python3"
  },
  "language_info": {
   "codemirror_mode": {
    "name": "ipython",
    "version": 3
   },
   "file_extension": ".py",
   "mimetype": "text/x-python",
   "name": "python",
   "nbconvert_exporter": "python",
   "pygments_lexer": "ipython3",
   "version": "3.10.9"
  }
 },
 "nbformat": 4,
 "nbformat_minor": 5
}
