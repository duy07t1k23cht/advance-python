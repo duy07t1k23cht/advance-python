{
 "cells": [
  {
   "cell_type": "markdown",
   "id": "b43d7b95",
   "metadata": {},
   "source": [
    "# <a href=\"https://www.pythontutorial.net/advanced-python/python-fibonacci-sequence/\" style=\"color:Tomato\">Python Fibonacci Sequence</a>"
   ]
  },
  {
   "cell_type": "markdown",
   "id": "fad7cdd6",
   "metadata": {},
   "source": [
    "Ở bài này, ta sẽ học cách để tạo ra một custom Sequence type trong Python."
   ]
  },
  {
   "cell_type": "markdown",
   "id": "bee5d4f4",
   "metadata": {},
   "source": [
    "### Tables of Contents\n",
    "* [Introduction to the custom Sequence type in Python](#1)\n",
    "    * [The `__getitem__` method](#1.1)\n",
    "    * [The `__len__` method](#1.2)\n",
    "* [Introduction to the Fibonacci sequence](#2)\n",
    "* [Using Fibonacci sequence](#3)\n",
    "* [Adding slicing support](#4)\n",
    "* [Summary](#sum)"
   ]
  },
  {
   "cell_type": "markdown",
   "id": "a3a0cec1",
   "metadata": {},
   "source": [
    "## <a class=\"anchor\" id=\"1\">Introduction to the custom Sequence type in Python</a>"
   ]
  },
  {
   "cell_type": "markdown",
   "id": "16a5ecff",
   "metadata": {},
   "source": [
    "Một sequence thì có thể là mutable hoặc immutable. Bài này thì ta sẽ tạo một custom immutable sequence type."
   ]
  },
  {
   "cell_type": "markdown",
   "id": "ce5f3509",
   "metadata": {},
   "source": [
    "Cơ bản thì một immutable sequence sẽ phải support 2 hàm chính:\n",
    "\n",
    "- Trả về số lượng phần tử\n",
    "- Trả về một phần tử tử một index cho trước, và raise `IndexError` nếu index nằm ngoài giới hạn (out of bound)"
   ]
  },
  {
   "cell_type": "markdown",
   "id": "493be64c",
   "metadata": {},
   "source": [
    "Nếu một object có đủ 2 yêu cầu trên, ta sẽ có thể:\n",
    "\n",
    "- Sử dụng ngoặc vuông `[]` để lấy một phần tử từ một index.\n",
    "- Dùng vòng lặp for để duyệt phần tử, comprehension,..."
   ]
  },
  {
   "cell_type": "markdown",
   "id": "13a88d62",
   "metadata": {},
   "source": [
    "Về mặt kỹ thuật, ta sẽ phải implement 2 hàm sau:\n",
    "\n",
    "- `__getitem__`: trả về phần tử từ một index cho trước\n",
    "- `__len__`: trả về số lượng phần tử"
   ]
  },
  {
   "cell_type": "markdown",
   "id": "9c02ed55",
   "metadata": {},
   "source": [
    "### <a class=\"anchor\" id=\"1.1\">1) The `__getitem__` method</a>"
   ]
  },
  {
   "cell_type": "markdown",
   "id": "820fe123",
   "metadata": {},
   "source": [
    "Hàm `__getitem__` nhận vào một tham số là `index`. Nếu `index` nằm ngoài khoảng từ `0` đến `length - 1`, hàm `__getitem__` cần raise `IndexError` exception."
   ]
  },
  {
   "cell_type": "markdown",
   "id": "f0a80e09",
   "metadata": {},
   "source": [
    "Ngoài ra, hàm `__getitem__` cũng support slicing."
   ]
  },
  {
   "cell_type": "markdown",
   "id": "ae9876c1",
   "metadata": {},
   "source": [
    "### <a class=\"anchor\" id=\"1.2\">1) The `__len__` method</a>"
   ]
  },
  {
   "cell_type": "markdown",
   "id": "bd4929ef",
   "metadata": {},
   "source": [
    "Ta có thể dùng hàm `len` để trả về số lượng phần tử của sequence."
   ]
  },
  {
   "cell_type": "markdown",
   "id": "0d3ed711",
   "metadata": {},
   "source": [
    "## <a class=\"anchor\" id=\"2\">Introduction to the Fibonacci sequence</a>"
   ]
  },
  {
   "cell_type": "markdown",
   "id": "61de995a",
   "metadata": {},
   "source": [
    "Ta tạo class `Fibonacci` thoả mãn các yêu cầu trên như sau:"
   ]
  },
  {
   "cell_type": "code",
   "execution_count": 1,
   "id": "db101081",
   "metadata": {},
   "outputs": [],
   "source": [
    "from functools import lru_cache\n",
    "\n",
    "\n",
    "class Fibonacci:\n",
    "    def __init__(self, n):\n",
    "        self.n = n\n",
    "\n",
    "    def __len__(self):\n",
    "        return self.n\n",
    "\n",
    "    def __getitem__(self, index):\n",
    "        if isinstance(index, int):\n",
    "            if index < 0 or index > self.n - 1:\n",
    "                raise IndexError\n",
    "\n",
    "            return Fibonacci.fib(index)\n",
    "\n",
    "    @staticmethod\n",
    "    @lru_cache(2**16)\n",
    "    def fib(n):\n",
    "        if n < 2:\n",
    "            return 1\n",
    "        return Fibonacci.fib(n-2) + Fibonacci.fib(n-1)"
   ]
  },
  {
   "cell_type": "markdown",
   "id": "2b4f51b0",
   "metadata": {},
   "source": [
    "## <a class=\"anchor\" id=\"3\">Using Fibonacci sequence</a>"
   ]
  },
  {
   "cell_type": "code",
   "execution_count": 2,
   "id": "a06d6832",
   "metadata": {},
   "outputs": [
    {
     "name": "stdout",
     "output_type": "stream",
     "text": [
      "Accessing Fibonacci sequence using []:\n",
      "1\n",
      "1\n",
      "2\n",
      "Accessing Fibonacci sequence using for loop:\n",
      "1\n",
      "1\n",
      "2\n",
      "3\n",
      "5\n",
      "8\n",
      "13\n",
      "21\n",
      "34\n",
      "55\n"
     ]
    }
   ],
   "source": [
    "fibonacci = Fibonacci(10)\n",
    "\n",
    "# access elements via indices\n",
    "print('Accessing Fibonacci sequence using []:')\n",
    "print(fibonacci[0])\n",
    "print(fibonacci[1])\n",
    "print(fibonacci[2])\n",
    "\n",
    "print('Accessing Fibonacci sequence using for loop:')\n",
    "# using for loop\n",
    "for f in fibonacci:\n",
    "    print(f)"
   ]
  },
  {
   "cell_type": "markdown",
   "id": "6ecb9fe9",
   "metadata": {},
   "source": [
    "## <a class=\"anchor\" id=\"4\">Adding slicing support</a>"
   ]
  },
  {
   "cell_type": "markdown",
   "id": "7fdc1591",
   "metadata": {},
   "source": [
    "Để support slice `fibonacci[1:5]`, ta cần thêm logic để handle `slice` object."
   ]
  },
  {
   "cell_type": "code",
   "execution_count": 3,
   "id": "8374cfd3",
   "metadata": {},
   "outputs": [],
   "source": [
    "class Fibonacci:\n",
    "    def __init__(self, n):\n",
    "        self.n = n\n",
    "\n",
    "    def __len__(self):\n",
    "        return self.n\n",
    "\n",
    "    def __getitem__(self, index):\n",
    "        if isinstance(index, int):\n",
    "            if index < 0 or index > self.n - 1:\n",
    "                raise IndexError\n",
    "\n",
    "            return Fibonacci.fib(index)\n",
    "        else:\n",
    "            indices = index.indices(self.n)\n",
    "            return [Fibonacci.fib(k) for k in range(*indices)]\n",
    "\n",
    "    @staticmethod\n",
    "    @lru_cache\n",
    "    def fib(n):\n",
    "        if n < 2:\n",
    "            return 1\n",
    "        return Fibonacci.fib(n-2) + Fibonacci.fib(n-1)"
   ]
  },
  {
   "cell_type": "markdown",
   "id": "1f6531d7",
   "metadata": {},
   "source": [
    "Ở đây, nếu `index` là một `slice` object, thì hàm `indices()` sẽ trả về một `Tuple[int, int, int]` tương ứng là `(start, stop, step)`, đại diện cho slice."
   ]
  },
  {
   "cell_type": "markdown",
   "id": "3ef62474",
   "metadata": {},
   "source": [
    "`range(*indices)` sẽ trả về một `range` object. `range` object này sẽ generate ra các số on-fly chính là các index mà mình cần lấy. Cú pháp `*indices` chính là để unpack cái tuple thành các tham số cho hàm `range`."
   ]
  },
  {
   "cell_type": "markdown",
   "id": "c0866485",
   "metadata": {},
   "source": [
    "Giờ thì ta có thể dùng slice với `Fibbonaci` object:"
   ]
  },
  {
   "cell_type": "code",
   "execution_count": 4,
   "id": "bb78343f",
   "metadata": {},
   "outputs": [
    {
     "name": "stdout",
     "output_type": "stream",
     "text": [
      "[1, 2, 3, 5]\n"
     ]
    }
   ],
   "source": [
    "fibonacci = Fibonacci(10)\n",
    "print(fibonacci[1:5])"
   ]
  },
  {
   "cell_type": "markdown",
   "id": "17c6018a",
   "metadata": {},
   "source": [
    "## <a class=\"anchor\" id=\"sum\" style=\"color:Violet\"> Tổng kết </a>"
   ]
  },
  {
   "cell_type": "markdown",
   "id": "a82f1ebc",
   "metadata": {},
   "source": [
    "- Implement hàm `__len__` và `__getitem__` để định nghĩa một custom sequence.\n",
    "- Hàm `__getitem__` cần trả về một phần tử dựa vào một index cho trước hoặc raise `IndexError` nếu index out of bound."
   ]
  }
 ],
 "metadata": {
  "kernelspec": {
   "display_name": "Python 3 (ipykernel)",
   "language": "python",
   "name": "python3"
  },
  "language_info": {
   "codemirror_mode": {
    "name": "ipython",
    "version": 3
   },
   "file_extension": ".py",
   "mimetype": "text/x-python",
   "name": "python",
   "nbconvert_exporter": "python",
   "pygments_lexer": "ipython3",
   "version": "3.10.9"
  }
 },
 "nbformat": 4,
 "nbformat_minor": 5
}
