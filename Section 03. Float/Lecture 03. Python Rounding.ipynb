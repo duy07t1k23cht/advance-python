{
 "cells": [
  {
   "cell_type": "markdown",
   "id": "b43d7b95",
   "metadata": {},
   "source": [
    "# <a href=\"https://www.pythontutorial.net/advanced-python/python-rounding/\" style=\"color:Tomato\">Python Rounding</a>"
   ]
  },
  {
   "cell_type": "markdown",
   "id": "188cc1da",
   "metadata": {},
   "source": [
    "Trong bài này, ta sẽ học về cách sử dụng hàm `round()` trong Python để làm tròn số."
   ]
  },
  {
   "cell_type": "markdown",
   "id": "bee5d4f4",
   "metadata": {},
   "source": [
    "### Tables of Contents\n",
    "* [Introduction to the Python `round()` function](#1)\n",
    "* [Python `round()` function examples](#2)\n",
    "* [Summary](#sum)"
   ]
  },
  {
   "cell_type": "markdown",
   "id": "a3a0cec1",
   "metadata": {},
   "source": [
    "## <a class=\"anchor\" id=\"1\">Introduction to the Python `round()` function</a>"
   ]
  },
  {
   "cell_type": "markdown",
   "id": "91ee9b5b",
   "metadata": {},
   "source": [
    "Để làm tròn số trong Python, ta sử dụng hàm `round()`:\n",
    "```python\n",
    "round(number [, ndigits])\n",
    "```"
   ]
  },
  {
   "cell_type": "markdown",
   "id": "d7285527",
   "metadata": {},
   "source": [
    "trong đó:\n",
    "- `number`: Đây là số thực bạn muốn làm tròn.\n",
    "- `ndigits`: Đây là số nguyên thể hiện số chữ số thập phân sau dấu phẩy trong kết quả. Nếu không cung cấp `ndigits`, số sẽ được làm tròn thành một số nguyên."
   ]
  },
  {
   "cell_type": "markdown",
   "id": "418d86b0",
   "metadata": {},
   "source": [
    "## <a class=\"anchor\" id=\"2\">Python `round()` function examples</a>"
   ]
  },
  {
   "cell_type": "code",
   "execution_count": 1,
   "id": "e50b5621",
   "metadata": {},
   "outputs": [
    {
     "data": {
      "text/plain": [
       "1"
      ]
     },
     "execution_count": 1,
     "metadata": {},
     "output_type": "execute_result"
    }
   ],
   "source": [
    "round(1.25)"
   ]
  },
  {
   "cell_type": "code",
   "execution_count": 2,
   "id": "10919260",
   "metadata": {},
   "outputs": [
    {
     "data": {
      "text/plain": [
       "1.0"
      ]
     },
     "execution_count": 2,
     "metadata": {},
     "output_type": "execute_result"
    }
   ],
   "source": [
    "round(1.25, 0)"
   ]
  },
  {
   "cell_type": "code",
   "execution_count": 3,
   "id": "7034a057",
   "metadata": {},
   "outputs": [
    {
     "data": {
      "text/plain": [
       "20.0"
      ]
     },
     "execution_count": 3,
     "metadata": {},
     "output_type": "execute_result"
    }
   ],
   "source": [
    "round(15.5, -1)"
   ]
  },
  {
   "cell_type": "code",
   "execution_count": 4,
   "id": "bfba9b9c",
   "metadata": {},
   "outputs": [
    {
     "data": {
      "text/plain": [
       "1.2"
      ]
     },
     "execution_count": 4,
     "metadata": {},
     "output_type": "execute_result"
    }
   ],
   "source": [
    "round(1.25, 1)"
   ]
  },
  {
   "cell_type": "code",
   "execution_count": 5,
   "id": "87b437df",
   "metadata": {},
   "outputs": [
    {
     "data": {
      "text/plain": [
       "1.4"
      ]
     },
     "execution_count": 5,
     "metadata": {},
     "output_type": "execute_result"
    }
   ],
   "source": [
    "round(1.35, 1)"
   ]
  },
  {
   "cell_type": "markdown",
   "id": "ae12f8b4",
   "metadata": {},
   "source": [
    "Chờ đã, tại sao làm tròn `1.25` thì lại được `1.2` mà làm tròn `1.35` thì lại được `1.4`?"
   ]
  },
  {
   "cell_type": "markdown",
   "id": "db549ae7",
   "metadata": {},
   "source": [
    "Ví dụ xét dòng code `round(1.25, 1)`, ta đang muốn làm tròn số `1.25` thành số gần nhất có 1 chữ số thập phân, nhưng ở đây có 2 số thoả mãn là `1.2` và `1.3`."
   ]
  },
  {
   "cell_type": "markdown",
   "id": "0d805a71",
   "metadata": {},
   "source": [
    "Trong trường hợp này, ta áp dụng \"*banker’s rounding*\", nghĩa là chọn số có chữ số ý nghĩa cuối cùng là số chẵn."
   ]
  },
  {
   "cell_type": "markdown",
   "id": "17c6018a",
   "metadata": {},
   "source": [
    "## <a class=\"anchor\" id=\"sum\" style=\"color:Violet\"> Tổng kết </a>"
   ]
  },
  {
   "cell_type": "markdown",
   "id": "295b0783",
   "metadata": {},
   "source": [
    "Sử dụng hàm `round(number, ndigits)` để làm tròn số `number` đến `ndigits` chữ số thập phân sau dấu phẩy."
   ]
  }
 ],
 "metadata": {
  "kernelspec": {
   "display_name": "Python 3 (ipykernel)",
   "language": "python",
   "name": "python3"
  },
  "language_info": {
   "codemirror_mode": {
    "name": "ipython",
    "version": 3
   },
   "file_extension": ".py",
   "mimetype": "text/x-python",
   "name": "python",
   "nbconvert_exporter": "python",
   "pygments_lexer": "ipython3",
   "version": "3.10.9"
  }
 },
 "nbformat": 4,
 "nbformat_minor": 5
}
