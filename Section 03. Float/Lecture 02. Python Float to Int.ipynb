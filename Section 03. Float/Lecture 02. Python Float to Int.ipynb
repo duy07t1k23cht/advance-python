{
 "cells": [
  {
   "cell_type": "markdown",
   "id": "b43d7b95",
   "metadata": {},
   "source": [
    "# <a href=\"https://www.pythontutorial.net/advanced-python/python-float-to-int/\" style=\"color:Tomato\">Python Float to Int</a>"
   ]
  },
  {
   "cell_type": "markdown",
   "id": "c1d30968",
   "metadata": {},
   "source": [
    "Ở bài này ta sẽ học về các cách để biến đổi số thực thành số nguyên."
   ]
  },
  {
   "cell_type": "markdown",
   "id": "8081897a",
   "metadata": {},
   "source": [
    "Module `math` cung cấp 3 hàm ứng với 3 phép toán:\n",
    "- truncation\n",
    "- floor\n",
    "- ceiling"
   ]
  },
  {
   "cell_type": "markdown",
   "id": "de1d40c6",
   "metadata": {},
   "source": [
    "![](https://thomasjfrank.com/wp-content/uploads/2023/03/Rounding-Functions.jpg)"
   ]
  },
  {
   "cell_type": "markdown",
   "id": "17c6018a",
   "metadata": {},
   "source": [
    "## <a class=\"anchor\" id=\"sum\" style=\"color:Violet\"> Tổng kết </a>"
   ]
  },
  {
   "cell_type": "markdown",
   "id": "86514f20",
   "metadata": {},
   "source": [
    "- Hàm `trunc()` trả về phần nguyên của số thực.\n",
    "- Hàm `floor()` trả về số nguyên lớn nhất không lớn hơn số thực.\n",
    "- Hàm `ceil()` trả về số nguyên nhỏ nhất không nhỏ hơn số thực."
   ]
  }
 ],
 "metadata": {
  "kernelspec": {
   "display_name": "Python 3 (ipykernel)",
   "language": "python",
   "name": "python3"
  },
  "language_info": {
   "codemirror_mode": {
    "name": "ipython",
    "version": 3
   },
   "file_extension": ".py",
   "mimetype": "text/x-python",
   "name": "python",
   "nbconvert_exporter": "python",
   "pygments_lexer": "ipython3",
   "version": "3.10.9"
  }
 },
 "nbformat": 4,
 "nbformat_minor": 5
}
