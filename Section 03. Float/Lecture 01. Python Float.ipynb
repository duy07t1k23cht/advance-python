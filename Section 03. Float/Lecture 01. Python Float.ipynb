{
 "cells": [
  {
   "cell_type": "markdown",
   "id": "b43d7b95",
   "metadata": {},
   "source": [
    "# <a href=\"https://www.pythontutorial.net/advanced-python/python-float/\" style=\"color:Tomato\">Python float</a>"
   ]
  },
  {
   "cell_type": "markdown",
   "id": "4d8f995d",
   "metadata": {},
   "source": [
    "Ở bài này, ta sẽ học về kiểu số thực trong Python, cách mà Python biểu diễn số thực, cách để kiểm tra tính bằng nhau của 2 số thực."
   ]
  },
  {
   "cell_type": "markdown",
   "id": "bee5d4f4",
   "metadata": {},
   "source": [
    "### Tables of Contents\n",
    "* [Introduction to the Python float type](#1)\n",
    "* [Python `float` class](#2)\n",
    "* [Equality testing](#3)\n",
    "* [Summary](#sum)"
   ]
  },
  {
   "cell_type": "markdown",
   "id": "a3a0cec1",
   "metadata": {},
   "source": [
    "## <a class=\"anchor\" id=\"1\">Introduction to the Python float type</a>"
   ]
  },
  {
   "cell_type": "markdown",
   "id": "35c32639",
   "metadata": {},
   "source": [
    "Python dùng class `float` để biểu diễn số thực."
   ]
  },
  {
   "cell_type": "markdown",
   "id": "8dafe5f1",
   "metadata": {},
   "source": [
    "CPython dùng kiểu C double cho số thực. Kiểu C double thường được sử dụng cho [IEEE 754 double-precision binary float](https://en.wikipedia.org/wiki/Double-precision_floating-point_format), hay còn gọi là *binary64*."
   ]
  },
  {
   "cell_type": "markdown",
   "id": "43642230",
   "metadata": {},
   "source": [
    "Python float sử dụng 8 bytes (hay 64 bits) để biểu diễn số thực. Không giống như số nguyên, <span style=\"color:DarkOrange\">kiểu số thực trong Python sử dụng số lượng bytes cố định</span>."
   ]
  },
  {
   "cell_type": "markdown",
   "id": "16b548f0",
   "metadata": {},
   "source": [
    "Về mặt kỹ thuật, Python sử dụng 64 bits như sau:\n",
    "- 1 bit cho dấu ($+$ hay $-$).\n",
    "- 11 bits cho phần số mũ - để biểu diễn phạm vi và độ chính xác của số. Số mũ nằm trong khoảng $[-1022, 1023]$.\n",
    "- 52 bits để biểu diễn các chữ số có nghĩa."
   ]
  },
  {
   "cell_type": "markdown",
   "id": "3ed5c582",
   "metadata": {},
   "source": [
    "Để đơn giản, các chữ số có nghĩa ở đây là các ký tự không có các chữ số `0` ở đầu hoặc cuối."
   ]
  },
  {
   "cell_type": "markdown",
   "id": "ed337426",
   "metadata": {},
   "source": [
    "Ví dụ, số $0.25$ có 2 chữ số có nghĩa, $0.125$ có 3 chữ số có nghĩa, số $12.25$ có 4 chữ số có nghĩa."
   ]
  },
  {
   "cell_type": "markdown",
   "id": "d80c9e6f",
   "metadata": {},
   "source": [
    "> Minh hoạ về IEEE 754 double-precision: ![](https://upload.wikimedia.org/wikipedia/commons/thumb/a/a9/IEEE_754_Double_Floating_Point_Format.svg/640px-IEEE_754_Double_Floating_Point_Format.svg.png) Ngoài ra thì có thể xem qua [video này](https://youtu.be/RuKkePyo9zk), giải thích khá dễ hiểu."
   ]
  },
  {
   "cell_type": "markdown",
   "id": "209ca911",
   "metadata": {},
   "source": [
    "Một số số có thể biểu diễn nhị phân với hữu hạn bit, một số số thì không. Chẳng hạn số $0.1$ trong hệ nhị phân là $01.0001100110011...$."
   ]
  },
  {
   "cell_type": "markdown",
   "id": "c866da39",
   "metadata": {},
   "source": [
    "Do đó, <span style=\"color:DarkOrange\">Python không thể biểu diễn chính xác mọi số thực mà chỉ có thể biểu diễn một cách xấp xỉ</span>."
   ]
  },
  {
   "cell_type": "markdown",
   "id": "084aea2c",
   "metadata": {},
   "source": [
    "## <a class=\"anchor\" id=\"2\">Python `float` class</a>"
   ]
  },
  {
   "cell_type": "markdown",
   "id": "d843606c",
   "metadata": {},
   "source": [
    "Hàm `float()` trả về số thực từ một số hoặc một string. Ví dụ:"
   ]
  },
  {
   "cell_type": "code",
   "execution_count": 1,
   "id": "86012c0e",
   "metadata": {},
   "outputs": [
    {
     "name": "stdout",
     "output_type": "stream",
     "text": [
      "0.1\n",
      "1.25\n"
     ]
    }
   ],
   "source": [
    "print(float(0.1))\n",
    "print(float('1.25'))"
   ]
  },
  {
   "cell_type": "markdown",
   "id": "94219486",
   "metadata": {},
   "source": [
    "Nếu ta truyền một object `obj` vào hàm `float()`, nó sẽ gọi hàm `obj.__float__()`. Nếu hà, `__float__()` chưa được định nghĩa, nó sẽ gọi đến hàm `__index__()`."
   ]
  },
  {
   "cell_type": "markdown",
   "id": "4bd8993d",
   "metadata": {},
   "source": [
    "Nếu không truyền gì vào `float()`, nó sẽ trả về `0.0`."
   ]
  },
  {
   "cell_type": "markdown",
   "id": "512c6b5d",
   "metadata": {},
   "source": [
    "Khi sử dụng hàm `print()`, ta thấy số `0.1` được in ra một cách chính xác."
   ]
  },
  {
   "cell_type": "markdown",
   "id": "947cbfd0",
   "metadata": {},
   "source": [
    "Thực tế, Python chỉ có thể biểu diễn số `0.1` một cách xấp xỉ."
   ]
  },
  {
   "cell_type": "markdown",
   "id": "a932cf6c",
   "metadata": {},
   "source": [
    "Để xem Python biểu diễn một số như thế nào, ta sử dụng hàm `format()`."
   ]
  },
  {
   "cell_type": "markdown",
   "id": "bad7d5f2",
   "metadata": {},
   "source": [
    "Ví dụ sau chỉ ra cách mà Python biểu diễn số `0.1` sử dụng 20 ký tự:"
   ]
  },
  {
   "cell_type": "code",
   "execution_count": 2,
   "id": "81d5e086",
   "metadata": {},
   "outputs": [
    {
     "data": {
      "text/plain": [
       "'0.10000000000000000555'"
      ]
     },
     "execution_count": 2,
     "metadata": {},
     "output_type": "execute_result"
    }
   ],
   "source": [
    "format(0.1, '.20f')"
   ]
  },
  {
   "cell_type": "markdown",
   "id": "a7e86892",
   "metadata": {},
   "source": [
    "Như ta thấy, số `0.1` không phải là chính xác `0.1` mà là `0.10000000000000000555...`"
   ]
  },
  {
   "cell_type": "markdown",
   "id": "5707153b",
   "metadata": {},
   "source": [
    "<span style=\"color:DarkOrange\">Do Python chỉ biểu diễn các số thực một cách xấp xỉ, nên nó có thể xảy ra một số vấn đề khi bạn thực hiện so sánh các số thực.</span>"
   ]
  },
  {
   "cell_type": "markdown",
   "id": "eb163573",
   "metadata": {},
   "source": [
    "## <a class=\"anchor\" id=\"3\">Equality testing</a>"
   ]
  },
  {
   "cell_type": "markdown",
   "id": "143a0215",
   "metadata": {},
   "source": [
    "Xét ví dụ sau:"
   ]
  },
  {
   "cell_type": "code",
   "execution_count": 3,
   "id": "5ea0c5dd",
   "metadata": {},
   "outputs": [
    {
     "name": "stdout",
     "output_type": "stream",
     "text": [
      "False\n"
     ]
    }
   ],
   "source": [
    "x = 0.1 + 0.1 + 0.1\n",
    "y = 0.3\n",
    "\n",
    "print(x == y)"
   ]
  },
  {
   "cell_type": "markdown",
   "id": "b584359f",
   "metadata": {},
   "source": [
    "Trong trường hợp này, Python sử dụng một số lượng ký tự hữu hạn để biểu diễn hai số `x` và `y`:"
   ]
  },
  {
   "cell_type": "code",
   "execution_count": 4,
   "id": "ab56f800",
   "metadata": {},
   "outputs": [
    {
     "name": "stdout",
     "output_type": "stream",
     "text": [
      "0.30000000000000004441\n",
      "0.29999999999999998890\n"
     ]
    }
   ],
   "source": [
    "print(format(x, '.20f'))\n",
    "print(format(y, '.20f'))"
   ]
  },
  {
   "cell_type": "markdown",
   "id": "929c4f39",
   "metadata": {},
   "source": [
    "<span style=\"color:Red\">**Lưu ý:**</span> Ở đây ta đang chỉ in ra 20 ký tự. Python dùng nhiều ký tự hơn."
   ]
  },
  {
   "cell_type": "markdown",
   "id": "f42b4467",
   "metadata": {},
   "source": [
    "Một cách để khắc phục trường hợp này là làm tròn 2 số khi so sánh, tuy nhiên cách này không thể hoạt động trong mọi trường hợp."
   ]
  },
  {
   "cell_type": "code",
   "execution_count": 5,
   "id": "439d14c2",
   "metadata": {},
   "outputs": [
    {
     "name": "stdout",
     "output_type": "stream",
     "text": [
      "True\n"
     ]
    }
   ],
   "source": [
    "x = 0.1 + 0.1 + 0.1\n",
    "y = 0.3\n",
    "print(round(x, 3) == round(y, 3))"
   ]
  },
  {
   "cell_type": "markdown",
   "id": "b5858a7a",
   "metadata": {},
   "source": [
    "[PEP485](https://peps.python.org/pep-0485/) cung cấp một giải pháp có thể khắc phục vấn đề này bằng cách sử dụng dung sai tương đối và dung sai tuyệt đối."
   ]
  },
  {
   "cell_type": "markdown",
   "id": "1a057257",
   "metadata": {},
   "source": [
    "Ta có hàm `isclose()` của module `math` trả về `True` nếu 2 số thực là \"tương đối\" bằng nhau."
   ]
  },
  {
   "cell_type": "markdown",
   "id": "50b75168",
   "metadata": {},
   "source": [
    "Các dùng của hàm `isclose()` được thể hiện như ví dụ sau:"
   ]
  },
  {
   "cell_type": "markdown",
   "id": "1438ac62",
   "metadata": {},
   "source": [
    "```python\n",
    "isclose(a, b, rel_tol=1e-9, abs_tol=0.0)\n",
    "```"
   ]
  },
  {
   "cell_type": "markdown",
   "id": "604fa7f2",
   "metadata": {},
   "source": [
    "Ví dụ:"
   ]
  },
  {
   "cell_type": "code",
   "execution_count": 6,
   "id": "fc98c351",
   "metadata": {},
   "outputs": [
    {
     "name": "stdout",
     "output_type": "stream",
     "text": [
      "True\n"
     ]
    }
   ],
   "source": [
    "from math import isclose\n",
    "\n",
    "x = 0.1 + 0.1 + 0.1\n",
    "y = 0.3\n",
    "\n",
    "print(isclose(x,y))"
   ]
  },
  {
   "cell_type": "markdown",
   "id": "17c6018a",
   "metadata": {},
   "source": [
    "## <a class=\"anchor\" id=\"sum\" style=\"color:Violet\"> Tổng kết </a>"
   ]
  },
  {
   "cell_type": "markdown",
   "id": "e657b14e",
   "metadata": {},
   "source": [
    "- Python sử dụng class `float` để biểu diễn số thực\n",
    "- Python sử dụng số lượng bytes cố định (8 bits) để biểu diễn số thực. Vì thể, nó có thể sẽ chỉ biểu diễn số thực một cách xấp xỉ.\n",
    "- Sử dụng hàm `isclose()` để so sánh 2 số thực."
   ]
  }
 ],
 "metadata": {
  "kernelspec": {
   "display_name": "Python 3 (ipykernel)",
   "language": "python",
   "name": "python3"
  },
  "language_info": {
   "codemirror_mode": {
    "name": "ipython",
    "version": 3
   },
   "file_extension": ".py",
   "mimetype": "text/x-python",
   "name": "python",
   "nbconvert_exporter": "python",
   "pygments_lexer": "ipython3",
   "version": "3.10.9"
  }
 },
 "nbformat": 4,
 "nbformat_minor": 5
}
