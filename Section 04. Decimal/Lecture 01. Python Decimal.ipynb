{
 "cells": [
  {
   "cell_type": "markdown",
   "id": "b43d7b95",
   "metadata": {},
   "source": [
    "# <a href=\"https://www.pythontutorial.net/advanced-python/python-decimal/\" style=\"color:Tomato\">Python Decimal</a>"
   ]
  },
  {
   "cell_type": "markdown",
   "id": "70d59adc",
   "metadata": {},
   "source": [
    "Trong bài này ta sẽ học về module `decimal` trong Python."
   ]
  },
  {
   "cell_type": "markdown",
   "id": "bee5d4f4",
   "metadata": {},
   "source": [
    "### Tables of Contents\n",
    "* [Introduction to the Python `decimal` module](#1)\n",
    "* [Decimal context](#2)\n",
    "* [Decimal constructor](#3)\n",
    "* [Decimal arithmetic operations](#4)\n",
    "* [Summary](#sum)"
   ]
  },
  {
   "cell_type": "markdown",
   "id": "a3a0cec1",
   "metadata": {},
   "source": [
    "## <a class=\"anchor\" id=\"1\">Introduction to the Python `decimal` module</a>"
   ]
  },
  {
   "cell_type": "markdown",
   "id": "99994edc",
   "metadata": {},
   "source": [
    "Trong Python có những trường hợp <span style=\"color:DarkOrange\">số ở hệ thập phân không thể được biểu diễn chính xác dưới dạng hệ nhị phân</span>. Ví dụ:"
   ]
  },
  {
   "cell_type": "code",
   "execution_count": 1,
   "id": "c831f49a",
   "metadata": {},
   "outputs": [
    {
     "name": "stdout",
     "output_type": "stream",
     "text": [
      "0.30000000000000004\n"
     ]
    }
   ],
   "source": [
    "x = 0.1\n",
    "y = 0.1\n",
    "z = 0.1\n",
    "\n",
    "s = x + y + z\n",
    "\n",
    "print(s)"
   ]
  },
  {
   "cell_type": "markdown",
   "id": "2d164e14",
   "metadata": {},
   "source": [
    "Kết quả không phải là `0.3` mà là `0.30000000000000004`."
   ]
  },
  {
   "cell_type": "markdown",
   "id": "715e1fba",
   "metadata": {},
   "source": [
    "Để giải quyết vấn đề này, ta có thể sử dụng class `Decimal` từ module `decimal`:"
   ]
  },
  {
   "cell_type": "code",
   "execution_count": 2,
   "id": "c79b16bf",
   "metadata": {},
   "outputs": [
    {
     "name": "stdout",
     "output_type": "stream",
     "text": [
      "0.3\n"
     ]
    }
   ],
   "source": [
    "import decimal\n",
    "from decimal import Decimal\n",
    "\n",
    "\n",
    "x = Decimal('0.1')\n",
    "y = Decimal('0.1')\n",
    "z = Decimal('0.1')\n",
    "\n",
    "s = x + y + z\n",
    "\n",
    "print(s)"
   ]
  },
  {
   "cell_type": "markdown",
   "id": "cfb000e5",
   "metadata": {},
   "source": [
    "Giờ thì output đã ra như mình mong muốn."
   ]
  },
  {
   "cell_type": "markdown",
   "id": "ac612fb5",
   "metadata": {},
   "source": [
    "Module `decimal` hỗ trợ các phép toán số học giống như những gì ta được học ở trường."
   ]
  },
  {
   "cell_type": "markdown",
   "id": "2216a0ba",
   "metadata": {},
   "source": [
    "Không giống như Python, Decimal biểu diễn các số thực một cách chính xác. Kết quả của các phép toán số học cũng được biểu diễn chính xác. Ví dụ, đoạn code sau trả ra kết quả `0.0`:"
   ]
  },
  {
   "cell_type": "code",
   "execution_count": 3,
   "id": "56fed19d",
   "metadata": {},
   "outputs": [
    {
     "data": {
      "text/plain": [
       "Decimal('0.0')"
      ]
     },
     "execution_count": 3,
     "metadata": {},
     "output_type": "execute_result"
    }
   ],
   "source": [
    "Decimal('0.1') + Decimal('0.1') + Decimal('0.1') - Decimal('0.3')"
   ]
  },
  {
   "cell_type": "markdown",
   "id": "6a53a91f",
   "metadata": {},
   "source": [
    "## <a class=\"anchor\" id=\"2\">Decimal context</a>"
   ]
  },
  {
   "cell_type": "markdown",
   "id": "0c684d14",
   "metadata": {},
   "source": [
    "Decimal luôn gắn với một context kiểm soát hai yếu tố sau:\n",
    "- Độ chính xác cho các phép tính số học\n",
    "- Thuật toán làm tròn số"
   ]
  },
  {
   "cell_type": "markdown",
   "id": "3101557a",
   "metadata": {},
   "source": [
    "Mặc định, context này sẽ là global. Tuy nhiên ta có thể tự đặt ra một số context chỉ có tác dụng trong local mà không ảnh hưởng đến global."
   ]
  },
  {
   "cell_type": "markdown",
   "id": "93addd48",
   "metadata": {},
   "source": [
    "Để lấy context mặt định của `decimal`, ta sử dụng hàm `getcontext()`:"
   ]
  },
  {
   "cell_type": "code",
   "execution_count": 4,
   "id": "94344951",
   "metadata": {},
   "outputs": [
    {
     "data": {
      "text/plain": [
       "Context(prec=28, rounding=ROUND_HALF_EVEN, Emin=-999999, Emax=999999, capitals=1, clamp=0, flags=[], traps=[InvalidOperation, DivisionByZero, Overflow])"
      ]
     },
     "execution_count": 4,
     "metadata": {},
     "output_type": "execute_result"
    }
   ],
   "source": [
    "decimal.getcontext()"
   ]
  },
  {
   "cell_type": "markdown",
   "id": "10f92eed",
   "metadata": {},
   "source": [
    "Để tạo một context copy từ một context khác, ta sử dụng hàm `localcontext()`:\n",
    "```python\n",
    "decimal.localcontext(ctx=None)\n",
    "```"
   ]
  },
  {
   "cell_type": "markdown",
   "id": "22ecfcfa",
   "metadata": {},
   "source": [
    "Hàm `localcontext()` trả về một context mới, được copy từ một context được truyền vào bởi biến `ctx`."
   ]
  },
  {
   "cell_type": "code",
   "execution_count": 5,
   "id": "4d506dce",
   "metadata": {},
   "outputs": [
    {
     "data": {
      "text/plain": [
       "<decimal.ContextManager at 0x10867e8d0>"
      ]
     },
     "execution_count": 5,
     "metadata": {},
     "output_type": "execute_result"
    }
   ],
   "source": [
    "decimal.localcontext(ctx=None)"
   ]
  },
  {
   "cell_type": "markdown",
   "id": "c494149f",
   "metadata": {},
   "source": [
    "Khi đã có object context, bạn có thể lấy các thuộc tính độ chính xác và thuật toán làm tròn số của nó như sau:\n",
    "- `ctx.pre`: get hoặc set độ chính xác. `ctx.pre` là một số kiểu `int`, giá trị mặc định là 28.\n",
    "- `ctx.rounding`: get hoặc set cơ chế làm tròn số. `ctx.rounding` là một `string`, giá trị mặc định là `\"ROUND_HALF_EVEN\"`."
   ]
  },
  {
   "cell_type": "markdown",
   "id": "90a84f4c",
   "metadata": {},
   "source": [
    "Python cung cấp các cơ chế làm tròn số như sau:\n",
    "\n",
    "| Rounding        | Description                                              |\n",
    "|-----------------|----------------------------------------------------------|\n",
    "| ROUND_UP        | round away from zero                                     |\n",
    "| ROUND_DOWN      | round towards zero                                       |\n",
    "| ROUND_CEILING   | round to ceiling (towards positive infinity)             |\n",
    "| ROUND_FLOOR     | round to floor (towards negative infinity)               |\n",
    "| ROUND_HALF_UP   | round to nearest, ties away from zero                    |\n",
    "| ROUND_HALF_DOWN | round to nearest, ties towards zero                      |\n",
    "| ROUND_HALF_EVEN | round to nearest, ties to even (least significant digit) |"
   ]
  },
  {
   "cell_type": "markdown",
   "id": "20f29490",
   "metadata": {},
   "source": [
    "Ví dụ sau minh hoạ việc lấy thông tin của default context:"
   ]
  },
  {
   "cell_type": "code",
   "execution_count": 6,
   "id": "863e0553",
   "metadata": {},
   "outputs": [
    {
     "name": "stdout",
     "output_type": "stream",
     "text": [
      "28\n",
      "ROUND_HALF_EVEN\n"
     ]
    }
   ],
   "source": [
    "import decimal\n",
    "\n",
    "ctx = decimal.getcontext()\n",
    "\n",
    "print(ctx.prec)\n",
    "print(ctx.rounding)"
   ]
  },
  {
   "cell_type": "markdown",
   "id": "d5523e33",
   "metadata": {},
   "source": [
    "Ví dụ sau minh hoạ về cách hoạt động của cơ chế làm tròn số `\"ROUND_HALF_EVEN\"`:"
   ]
  },
  {
   "cell_type": "code",
   "execution_count": 7,
   "id": "a8acf937",
   "metadata": {},
   "outputs": [
    {
     "name": "stdout",
     "output_type": "stream",
     "text": [
      "2.2\n",
      "3.4\n"
     ]
    }
   ],
   "source": [
    "import decimal\n",
    "from decimal import Decimal\n",
    "\n",
    "\n",
    "x = Decimal('2.25')\n",
    "y = Decimal('3.35')\n",
    "\n",
    "print(round(x, 1))\n",
    "print(round(y, 1))"
   ]
  },
  {
   "cell_type": "markdown",
   "id": "2265c560",
   "metadata": {},
   "source": [
    "Thay đổi cơ chế làm tròn số thành `\"ROUND_HALF_UP\"`, ta sẽ được kết quả khác:"
   ]
  },
  {
   "cell_type": "code",
   "execution_count": 8,
   "id": "0fd1b392",
   "metadata": {},
   "outputs": [
    {
     "name": "stdout",
     "output_type": "stream",
     "text": [
      "2.3\n",
      "3.4\n"
     ]
    }
   ],
   "source": [
    "import decimal\n",
    "from decimal import Decimal\n",
    "\n",
    "\n",
    "ctx = decimal.getcontext()\n",
    "ctx.rounding = decimal.ROUND_HALF_UP\n",
    "\n",
    "x = Decimal('2.25')\n",
    "y = Decimal('3.35')\n",
    "\n",
    "print(round(x, 1))\n",
    "print(round(y, 1))"
   ]
  },
  {
   "cell_type": "markdown",
   "id": "bd52fe6c",
   "metadata": {},
   "source": [
    "Ví dụ sau copy context mặc định và đổi cơ chế làm tròn số thành `\"ROUND_HALF_UP\"`:"
   ]
  },
  {
   "cell_type": "code",
   "execution_count": 9,
   "id": "f4cfe94d",
   "metadata": {},
   "outputs": [
    {
     "name": "stdout",
     "output_type": "stream",
     "text": [
      "Local context:\n",
      "2.3\n",
      "3.4\n",
      "Global context:\n",
      "2.3\n",
      "3.4\n"
     ]
    }
   ],
   "source": [
    "import decimal\n",
    "from decimal import Decimal\n",
    "\n",
    "\n",
    "x = Decimal('2.25')\n",
    "y = Decimal('3.35')\n",
    "\n",
    "with decimal.localcontext() as ctx:\n",
    "    print('Local context:')\n",
    "    ctx.rounding = decimal.ROUND_HALF_UP\n",
    "    print(round(x, 1))\n",
    "    print(round(y, 1))\n",
    "\n",
    "print('Global context:')\n",
    "print(round(x, 1))\n",
    "print(round(y, 1))"
   ]
  },
  {
   "cell_type": "markdown",
   "id": "0bfcc7ba",
   "metadata": {},
   "source": [
    "Lưu ý là local context không ảnh hưởng đến global context. Local context chỉ có ảnh hưởng trong block `with`."
   ]
  },
  {
   "cell_type": "markdown",
   "id": "26ab5f77",
   "metadata": {},
   "source": [
    "## <a class=\"anchor\" id=\"3\">Decimal constructor</a>"
   ]
  },
  {
   "cell_type": "markdown",
   "id": "de2a9c67",
   "metadata": {},
   "source": [
    "`Decimal` constructor dùng để tạo một `Decimal` object từ một giá trị cho trước:"
   ]
  },
  {
   "cell_type": "code",
   "execution_count": 10,
   "id": "a4f1d7fe",
   "metadata": {},
   "outputs": [
    {
     "data": {
      "text/plain": [
       "Decimal('0')"
      ]
     },
     "execution_count": 10,
     "metadata": {},
     "output_type": "execute_result"
    }
   ],
   "source": [
    "Decimal(value='0', context=None)"
   ]
  },
  {
   "cell_type": "markdown",
   "id": "7391d84f",
   "metadata": {},
   "source": [
    "Tham số `value` có thể là một integer, string, tuple, float, hoặc một `Decimal` object khác. Nếu không truyền giá trị `value` thì nó nhận giá trị mặc định là `0`."
   ]
  },
  {
   "cell_type": "markdown",
   "id": "90ec8e14",
   "metadata": {},
   "source": [
    "Nếu `value` là một tuple, nó phải có dạng như sau:\n",
    "```python\n",
    "(sign, (digit1,digit2, digit3,...), exponent)\n",
    "```\n",
    "trong đó:\n",
    "- `sign` là dấu: `0` là dương còn `1` là âm\n",
    "- `(digit1,digit2, digit3,...)` là một tuple: các chữ số\n",
    "- `exponent`: số mũ"
   ]
  },
  {
   "cell_type": "markdown",
   "id": "863336f1",
   "metadata": {},
   "source": [
    "Ví dụ: Ta muốn biểu diễn số `3.14`:"
   ]
  },
  {
   "cell_type": "code",
   "execution_count": 11,
   "id": "9d3a9b37",
   "metadata": {},
   "outputs": [
    {
     "name": "stdout",
     "output_type": "stream",
     "text": [
      "3.14\n"
     ]
    }
   ],
   "source": [
    "import decimal\n",
    "from decimal import Decimal\n",
    "\n",
    "x = Decimal((0, (3, 1, 4), -2))\n",
    "print(x)"
   ]
  },
  {
   "cell_type": "markdown",
   "id": "3984f72d",
   "metadata": {},
   "source": [
    "Giải thích: $3.14 = 314 \\times 10^{-2}$"
   ]
  },
  {
   "cell_type": "markdown",
   "id": "ca692c5a",
   "metadata": {},
   "source": [
    "Lưu ý: độ chính xác của context không ảnh hưởng đến constructor. Ví dụ:"
   ]
  },
  {
   "cell_type": "code",
   "execution_count": 12,
   "id": "1c5466bb",
   "metadata": {},
   "outputs": [
    {
     "name": "stdout",
     "output_type": "stream",
     "text": [
      "3.14159\n",
      "3.1\n"
     ]
    }
   ],
   "source": [
    "import decimal\n",
    "from decimal import Decimal\n",
    "\n",
    "\n",
    "decimal.getcontext().prec = 2\n",
    "\n",
    "pi = Decimal('3.14159')\n",
    "radius = 1\n",
    "\n",
    "print(pi)\n",
    "\n",
    "area = pi * radius * radius\n",
    "print(area)"
   ]
  },
  {
   "cell_type": "markdown",
   "id": "4acc6924",
   "metadata": {},
   "source": [
    "Khi dùng một số thực không thể được biểu diễn chính xác trong hệ nhị phân, `Decimal` constructor cũng không thể biểu diễn nó một cách chính xác:"
   ]
  },
  {
   "cell_type": "code",
   "execution_count": 13,
   "id": "a84d88d0",
   "metadata": {},
   "outputs": [
    {
     "name": "stdout",
     "output_type": "stream",
     "text": [
      "0.1000000000000000055511151231257827021181583404541015625\n"
     ]
    }
   ],
   "source": [
    "import decimal\n",
    "from decimal import Decimal\n",
    "\n",
    "x = Decimal(0.1)\n",
    "print(x)"
   ]
  },
  {
   "cell_type": "markdown",
   "id": "7b88e301",
   "metadata": {},
   "source": [
    "Trong thực tế, ta <span style=\"color:DarkOrange\">nên sử dụng kiểu string hoặc tuple cho tham số của `Decimal` constructor</span>."
   ]
  },
  {
   "cell_type": "markdown",
   "id": "a5292ffb",
   "metadata": {},
   "source": [
    "## <a class=\"anchor\" id=\"4\">Decimal arithmetic operations</a>"
   ]
  },
  {
   "cell_type": "markdown",
   "id": "12bd32a4",
   "metadata": {},
   "source": [
    "Các toán tử số học của `Decimal` sẽ hơi khác. Ví dụ phép div:\n",
    "```python\n",
    "x // y = trunc( x / y)\n",
    "```"
   ]
  },
  {
   "cell_type": "markdown",
   "id": "d51817db",
   "metadata": {},
   "source": [
    "Không phải phép toán nào của module `math` cũng được hỗ trợ trong `Decimal`."
   ]
  },
  {
   "cell_type": "markdown",
   "id": "222016e8",
   "metadata": {},
   "source": [
    "Khi sử dụng các phép toán của module `math` cho các `Decimal` object, `math` sẽ cast `Decimal` object thành float trước khi thực hiện chúng. Nó sẽ khiến cho sự chính xác của `Decimal` object không còn."
   ]
  },
  {
   "cell_type": "markdown",
   "id": "17c6018a",
   "metadata": {},
   "source": [
    "## <a class=\"anchor\" id=\"sum\" style=\"color:Violet\"> Tổng kết </a>"
   ]
  },
  {
   "cell_type": "markdown",
   "id": "7414de3b",
   "metadata": {},
   "source": [
    "- Python sử dụng module `decimal` để biểu diễn chính xác số thực.\n",
    "- Sử dụng class `Decimal` từ module `decimal` để tạo ra các `Decimal` object từ strings, integers, tuples.\n",
    "- Các số `Decimal` có một context để điều khiển độ chính xác và thuật toán làm tròn.\n",
    "- Class `Decimal` không hỗ trợ tất cả các phép toán của module `math`. Nếu có thể, ta nên sử dụng các phép toán số học của `Decimal`."
   ]
  }
 ],
 "metadata": {
  "kernelspec": {
   "display_name": "Python 3 (ipykernel)",
   "language": "python",
   "name": "python3"
  },
  "language_info": {
   "codemirror_mode": {
    "name": "ipython",
    "version": 3
   },
   "file_extension": ".py",
   "mimetype": "text/x-python",
   "name": "python",
   "nbconvert_exporter": "python",
   "pygments_lexer": "ipython3",
   "version": "3.10.9"
  }
 },
 "nbformat": 4,
 "nbformat_minor": 5
}
