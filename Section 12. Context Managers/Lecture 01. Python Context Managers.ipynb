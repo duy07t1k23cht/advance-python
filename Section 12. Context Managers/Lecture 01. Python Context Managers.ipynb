{
 "cells": [
  {
   "cell_type": "markdown",
   "id": "b43d7b95",
   "metadata": {},
   "source": [
    "# <a href=\"https://www.pythontutorial.net/advanced-python/python-context-managers/\" style=\"color:Tomato\">Python Context Managers</a>"
   ]
  },
  {
   "cell_type": "markdown",
   "id": "c330e3b2",
   "metadata": {},
   "source": [
    "Bài này ta học về Python context manager và cách sử dụng nó hiệu quả."
   ]
  },
  {
   "cell_type": "markdown",
   "id": "bee5d4f4",
   "metadata": {},
   "source": [
    "### Tables of Contents\n",
    "* [Introduction to Python context managers](#1)\n",
    "* [Python `with` statement](#2)\n",
    "* [Python context manager protocol](#3)\n",
    "    - [The `__enter__()` method](#3.1)\n",
    "    - [The `__exit__()` method](#3.2)\n",
    "* [Python context manager applications](#4)\n",
    "    - [Open – Close](#4.1)\n",
    "    - [Lock – release](#4.2)\n",
    "    - [Start – stop](#4.3)\n",
    "    - [Change – reset](#4.4)\n",
    "* [Using Python context manager to implement the start and stop pattern](#4)\n",
    "* [Summary](#sum)"
   ]
  },
  {
   "cell_type": "markdown",
   "id": "a3a0cec1",
   "metadata": {},
   "source": [
    "## <a class=\"anchor\" id=\"1\">Introduction to Python context managers</a>"
   ]
  },
  {
   "cell_type": "markdown",
   "id": "6a9a1c46",
   "metadata": {},
   "source": [
    "<span style=\"color:DarkOrange\">Một **context manager** là một object định nghĩa một **runtime context** thực thi bên trong lệnh `with`.</span>"
   ]
  },
  {
   "cell_type": "markdown",
   "id": "656d1650",
   "metadata": {},
   "source": [
    "Hãy bắt đầu với một ví dụ đơn giản để hiểu hơn về context manager."
   ]
  },
  {
   "cell_type": "markdown",
   "id": "47c8fa72",
   "metadata": {},
   "source": [
    "Giả sử ta có một file là `data.txt` có chứa một số nguyên là `100`."
   ]
  },
  {
   "cell_type": "markdown",
   "id": "301cbb8f",
   "metadata": {},
   "source": [
    "Chương trình sau đọc file `data.txt`, convert nội dung file thành số nguyên, và hiển thị kết quả ra standard output:"
   ]
  },
  {
   "cell_type": "markdown",
   "id": "1fa9c8ba",
   "metadata": {},
   "source": [
    "```python\n",
    "f = open('data.txt')\n",
    "data = f.readlines()\n",
    "\n",
    "# convert the number to integer and display it\n",
    "print(int(data[0]))\n",
    "\n",
    "f.close()\n",
    "```"
   ]
  },
  {
   "cell_type": "markdown",
   "id": "e07cc7be",
   "metadata": {},
   "source": [
    "Code này nhìn rất đơn giản và dễ hiểu. Tuy nhiên, file `data.txt` có thể chứa những data mà không thể được convert sang dạng số. Trong trường hợp này, code sẽ raise một cái exception nào đấy."
   ]
  },
  {
   "cell_type": "markdown",
   "id": "38821748",
   "metadata": {},
   "source": [
    "Ví dụ, nếu file `data.txt` chứa một string `'100'` thay vì số `100`, ta sẽ được lỗi sau:"
   ]
  },
  {
   "cell_type": "markdown",
   "id": "0496055e",
   "metadata": {},
   "source": [
    "```\n",
    "ValueError: invalid literal for int() with base 10: \"'100'\"\n",
    "```"
   ]
  },
  {
   "cell_type": "markdown",
   "id": "52dd1d39",
   "metadata": {},
   "source": [
    "Nếu nó xảy ra, Python có thể sẽ không đóng file đúng cách."
   ]
  },
  {
   "cell_type": "markdown",
   "id": "9f832807",
   "metadata": {},
   "source": [
    "Để khắc phục, ta có thể sử dụng cấu trúc `try...except...finally`:"
   ]
  },
  {
   "cell_type": "markdown",
   "id": "8a3809a3",
   "metadata": {},
   "source": [
    "```python\n",
    "try:\n",
    "    f = open('data.txt')\n",
    "    data = f.readlines()\n",
    "    # convert the number to integer and display it\n",
    "    print(int(data[0]))\n",
    "except ValueError as error:\n",
    "    print(error)\n",
    "finally:\n",
    "    f.close()\n",
    "```"
   ]
  },
  {
   "cell_type": "markdown",
   "id": "47e5d225",
   "metadata": {},
   "source": [
    "Vì phần code trong `finally` block luôn được thực thi, chương trình sẽ đảm bảo file luôn được đóng đúng cách."
   ]
  },
  {
   "cell_type": "markdown",
   "id": "69387232",
   "metadata": {},
   "source": [
    "Chương trình hoạt động như mong đợi, nhưng nhìn nó có vẻ dài dòng và rườm rà."
   ]
  },
  {
   "cell_type": "markdown",
   "id": "aba9012f",
   "metadata": {},
   "source": [
    "Vì thế, Python cung cấp một cách để ta có thể đóng file đúng cách sau khi ta hoàn thành xử lý file. Đây là lúc mà **context manager** phát huy tác dụng."
   ]
  },
  {
   "cell_type": "markdown",
   "id": "89d70fc5",
   "metadata": {},
   "source": [
    "Ví dụ sau sử dụng context manager để xử lý file `data.txt`:"
   ]
  },
  {
   "cell_type": "markdown",
   "id": "6a859042",
   "metadata": {},
   "source": [
    "```python\n",
    "with open('data.txt') as f:\n",
    "    data = f.readlines()\n",
    "    print(int(data[0])    \n",
    "```"
   ]
  },
  {
   "cell_type": "markdown",
   "id": "2a989c1d",
   "metadata": {},
   "source": [
    "Ở ví dụ này, ta sử dụng hàm `open()` sau câu lệnh `with`. Sau khi thực hiện block `with`, Python sẽ tự động đóng file."
   ]
  },
  {
   "cell_type": "markdown",
   "id": "9a83585f",
   "metadata": {},
   "source": [
    "## <a class=\"anchor\" id=\"2\">Python `with` statement</a>"
   ]
  },
  {
   "cell_type": "markdown",
   "id": "c573423c",
   "metadata": {},
   "source": [
    "Dưới đây là cú pháp của lệnh `with`:"
   ]
  },
  {
   "cell_type": "markdown",
   "id": "71cdda7e",
   "metadata": {},
   "source": [
    "```python\n",
    "with context as ctx:\n",
    "    # use the the object \n",
    "\n",
    "# context is cleaned up\n",
    "```"
   ]
  },
  {
   "cell_type": "markdown",
   "id": "78f805ce",
   "metadata": {},
   "source": [
    "How it works."
   ]
  },
  {
   "cell_type": "markdown",
   "id": "14a5418d",
   "metadata": {},
   "source": [
    "- Khi Python gặp lệnh `with`, nó sẽ tạo ra một context mới. Context này có thể optionall return một object.\n",
    "- <span style=\"color:DarkOrange\">Sau `with` block, Python tự động cleans up context đó.</span>\n",
    "- <span style=\"color:DarkOrange\">Scope của biến `ctx` chính là scope của lệnh `with`. Ta có thể access `ctx` ở bên trong và sau lệnh `with`.</span>"
   ]
  },
  {
   "cell_type": "markdown",
   "id": "ed177e12",
   "metadata": {},
   "source": [
    "Ví dụ sau minh hoạ cách access biến `f` sau lệnh `with`:"
   ]
  },
  {
   "cell_type": "markdown",
   "id": "5ed11174",
   "metadata": {},
   "source": [
    "```python\n",
    "with open('data.txt') as f:\n",
    "    data = f.readlines()\n",
    "    print(int(data[0]))\n",
    "\n",
    "\n",
    "print(f.closed)  # True\n",
    "```"
   ]
  },
  {
   "cell_type": "markdown",
   "id": "98d37e6c",
   "metadata": {},
   "source": [
    "## <a class=\"anchor\" id=\"3\">Python context manager protocol</a>"
   ]
  },
  {
   "cell_type": "markdown",
   "id": "a54fd39b",
   "metadata": {},
   "source": [
    "<span style=\"color:DarkOrange\">Python context manager hoạt động dựa vào **context manager protocol**.</span>"
   ]
  },
  {
   "cell_type": "markdown",
   "id": "8c2ab19e",
   "metadata": {},
   "source": [
    "Context manager protocol có các phương thức sau:"
   ]
  },
  {
   "cell_type": "markdown",
   "id": "254ed916",
   "metadata": {},
   "source": [
    "- `__enter__()`: setup context và có thể return object.\n",
    "- `__exit__()`: clean up the object"
   ]
  },
  {
   "cell_type": "markdown",
   "id": "5717956e",
   "metadata": {},
   "source": [
    "Nếu ta muốn một class support context manager protocol, ta có thể implement hai phương thức trên."
   ]
  },
  {
   "cell_type": "markdown",
   "id": "3e878770",
   "metadata": {},
   "source": [
    "Giả sử ta có `ContextManager` là một class có support context manager protocol."
   ]
  },
  {
   "cell_type": "markdown",
   "id": "ef7896f4",
   "metadata": {},
   "source": [
    "Ví dụ sau minh hoạ cách sử dụng class `ContextManager`:"
   ]
  },
  {
   "cell_type": "markdown",
   "id": "0e1fa21a",
   "metadata": {},
   "source": [
    "```python\n",
    "with ContextManager() as ctx:\n",
    "    # do something\n",
    "# done with the context\n",
    "```"
   ]
  },
  {
   "cell_type": "markdown",
   "id": "197159c4",
   "metadata": {},
   "source": [
    "<span style=\"color:DarkOrange\">Khi ta sử dụng class `ContextManager` với câu lệnh `with`, Python sẽ ngầm tạo một instance của class `ContextManager` và tự động gọi hàm `__enter__()` của instance đó.</span>"
   ]
  },
  {
   "cell_type": "markdown",
   "id": "6e051f70",
   "metadata": {},
   "source": [
    "Hàm `__enter__()` có thể có hoặc không return một object. Nếu có, Python sẽ gán object được return vào biến `ctx`."
   ]
  },
  {
   "cell_type": "markdown",
   "id": "5a43b440",
   "metadata": {},
   "source": [
    "Chú ý là <span style=\"color:DarkOrange\">biến `ctx` tham chiếu tới object được return bởi hàm `__enter__()`</span>, chứ không phải là instance của class `ContextManager`."
   ]
  },
  {
   "cell_type": "markdown",
   "id": "ab7f9eaa",
   "metadata": {},
   "source": [
    "<span style=\"color:DarkOrange\">Nếu một exception xảy ra bên trong block của lệnh `with`, Python sẽ gọi hàm `__exit__()` của instance object.</span>"
   ]
  },
  {
   "cell_type": "markdown",
   "id": "89c12fcf",
   "metadata": {},
   "source": [
    "![](https://www.pythontutorial.net/wp-content/uploads/2020/11/Python-Context-Manager.png)"
   ]
  },
  {
   "cell_type": "markdown",
   "id": "d1fa152a",
   "metadata": {},
   "source": [
    "Về mặt công dụng, <span style=\"color:DarkOrange\">lệnh `with` tương đương với lệnh `try...finally`</span>:"
   ]
  },
  {
   "cell_type": "markdown",
   "id": "c1611a65",
   "metadata": {},
   "source": [
    "```python\n",
    "instance = ContextManager()\n",
    "ctx = instance.__enter__()\n",
    "\n",
    "try:\n",
    "    # do something with the txt\n",
    "finally:\n",
    "    # done with the context\n",
    "    instance.__exit__()\n",
    "```"
   ]
  },
  {
   "cell_type": "markdown",
   "id": "2267e794",
   "metadata": {},
   "source": [
    "### <a class=\"anchor\" id=\"3.1\">The `__enter__()` method</a>"
   ]
  },
  {
   "cell_type": "markdown",
   "id": "7cd5c5c2",
   "metadata": {},
   "source": [
    "Bên trong hàm `__enter__()`, ta có thể chứa các bước cần thiết để setup context. Và có thể có hoặc không return một object từ hàm `__enter__()`."
   ]
  },
  {
   "cell_type": "markdown",
   "id": "033e9ad9",
   "metadata": {},
   "source": [
    "### <a class=\"anchor\" id=\"3.2\">The `__exit__()` method</a>"
   ]
  },
  {
   "cell_type": "markdown",
   "id": "55485b34",
   "metadata": {},
   "source": [
    "Python luôn thực thi hàm `__exit__()` kể cả khi xảy ra exception ở bên trong block `with`."
   ]
  },
  {
   "cell_type": "markdown",
   "id": "edef4cfd",
   "metadata": {},
   "source": [
    "Hàm `__exit__()` nhận vào 3 tham số: exception type, exception value, traceback object. Nếu không có exception, cả 3 tham số này đều là `None`."
   ]
  },
  {
   "cell_type": "markdown",
   "id": "ede9ca54",
   "metadata": {},
   "source": [
    "```python\n",
    "def __exit__(self, ex_type, ex_value, ex_traceback):\n",
    "    ...\n",
    "```"
   ]
  },
  {
   "cell_type": "markdown",
   "id": "65f5a170",
   "metadata": {},
   "source": [
    "Hàm `__exit__()` return một giá trị boolean: `True` hoặc `False`.\n",
    "- Nếu nó return `True`, nghĩa là exception đã được xử lý, ta không phải làm gì thêm.\n",
    "- Nếu nó return `False`, nghĩa là exception chưa được xử lý, ta sẽ phải xử lý exception đó hoặc Python sẽ thông báo nó lên màn hình."
   ]
  },
  {
   "cell_type": "markdown",
   "id": "edbf7e15",
   "metadata": {},
   "source": [
    "## <a class=\"anchor\" id=\"4\">Python context manager applications</a>"
   ]
  },
  {
   "cell_type": "markdown",
   "id": "95e36aaf",
   "metadata": {},
   "source": [
    "Như ta thấy ở ví dụ trước, cách sử dụng chung của context manager là để mở hoặc đóng file một cách tự động. Tuy nhiên, ta có thể sử dụng context manager trong nhiều trường hợp khác nữa."
   ]
  },
  {
   "cell_type": "markdown",
   "id": "bef81009",
   "metadata": {},
   "source": [
    "### <a class=\"anchor\" id=\"4.1\">Open – Close</a>"
   ]
  },
  {
   "cell_type": "markdown",
   "id": "68d13ba9",
   "metadata": {},
   "source": [
    "Nếu ta muốn open hoặc close một tài nguyên một cách tự động, có thể dùng context manager."
   ]
  },
  {
   "cell_type": "markdown",
   "id": "67d36155",
   "metadata": {},
   "source": [
    "Ví dụ, khi ta muốn mở một socket và đóng nó, sử dụng context manager."
   ]
  },
  {
   "cell_type": "markdown",
   "id": "9a5b2c2a",
   "metadata": {},
   "source": [
    "### <a class=\"anchor\" id=\"4.2\">Lock – release</a>"
   ]
  },
  {
   "cell_type": "markdown",
   "id": "ce59b142",
   "metadata": {},
   "source": [
    "Context manager có thể giúp chúng ta quản lý các locks một cách hiệu quả. Ta có thể accquire một lock và release nó một cách tự động."
   ]
  },
  {
   "cell_type": "markdown",
   "id": "63667661",
   "metadata": {},
   "source": [
    "> \"lock\" ở đây hiểu là cơ chế đồng bộ hoá, kiểm soát quyền truy cập đến một tài nguyên của các threads hoặc processes. Trong trường hợp này ta có thể ví dụ là hàm `__start__()` sẽ khoá một tài nguyên nào đấy, không cho các threads khác can thiệp vào và hàm `__exit__()` là để release nó."
   ]
  },
  {
   "cell_type": "markdown",
   "id": "05e47070",
   "metadata": {},
   "source": [
    "### <a class=\"anchor\" id=\"4.3\">Start – stop</a>"
   ]
  },
  {
   "cell_type": "markdown",
   "id": "be16bd8d",
   "metadata": {},
   "source": [
    "Context managers cũng giúp cho ta làm việc với những thứ mà có start và stop."
   ]
  },
  {
   "cell_type": "markdown",
   "id": "8252088c",
   "metadata": {},
   "source": [
    "Ví dụ ta có thể dùng context manager để start và stop một cái timer một cách tự động."
   ]
  },
  {
   "cell_type": "markdown",
   "id": "7ebaaffc",
   "metadata": {},
   "source": [
    "### <a class=\"anchor\" id=\"4.4\">Change – reset</a>"
   ]
  },
  {
   "cell_type": "markdown",
   "id": "22d2ccb2",
   "metadata": {},
   "source": [
    "Ví dụ ta có một chương trình và nó cần connect tới nhiều data sources, nó cũng có một connection mặc định."
   ]
  },
  {
   "cell_type": "markdown",
   "id": "37b9e119",
   "metadata": {},
   "source": [
    "Để connect với một data source khác:"
   ]
  },
  {
   "cell_type": "markdown",
   "id": "f229eb01",
   "metadata": {},
   "source": [
    "- Đầu tiên, sử dụng context manager để thay đổi connection mặc định.\n",
    "- Tiếp theo, làm việc với connection mới đó\n",
    "- Cuối cùng, reset nó về connection mặc định ban đầu sau khi đã làm việc xong với connection mới."
   ]
  },
  {
   "cell_type": "markdown",
   "id": "6624da1f",
   "metadata": {},
   "source": [
    "## <a class=\"anchor\" id=\"5\">Using Python context manager to implement the start and stop pattern</a>"
   ]
  },
  {
   "cell_type": "markdown",
   "id": "186eca85",
   "metadata": {},
   "source": [
    "Ví dụ sau định nghĩa một class `Timer` có support context manager protocol:"
   ]
  },
  {
   "cell_type": "code",
   "execution_count": 1,
   "id": "ac3ad921",
   "metadata": {},
   "outputs": [],
   "source": [
    "from time import perf_counter\n",
    "\n",
    "\n",
    "class Timer:\n",
    "    def __init__(self):\n",
    "        self.elapsed = 0\n",
    "\n",
    "    def __enter__(self):\n",
    "        self.start = perf_counter()\n",
    "        return self\n",
    "\n",
    "    def __exit__(self, exc_type, exc_value, exc_traceback):\n",
    "        self.stop = perf_counter()\n",
    "        self.elapsed = self.stop - self.start\n",
    "        return False"
   ]
  },
  {
   "cell_type": "markdown",
   "id": "5867b246",
   "metadata": {},
   "source": [
    "How it works."
   ]
  },
  {
   "cell_type": "markdown",
   "id": "a70f305f",
   "metadata": {},
   "source": [
    "- Đầu tiên import `perf_counter` của module `time`\n",
    "- Sau đó, start timer ở trong hàm `__enter__()`\n",
    "- Cuối cùng, stop timer ở trong hàm `__exit__()` và lưu lại thời gian đã chạy."
   ]
  },
  {
   "cell_type": "markdown",
   "id": "fa161936",
   "metadata": {},
   "source": [
    "Bây giờ, ta có thể sử dụng class `Timer` để đo thời gian chạy cần thiết để tính được số fibonacci thứ 1000, trong 1000000 lần:"
   ]
  },
  {
   "cell_type": "code",
   "execution_count": null,
   "id": "81e17abe",
   "metadata": {},
   "outputs": [],
   "source": [
    "def fibonacci(n):\n",
    "    f1 = 1\n",
    "    f2 = 1\n",
    "    for i in range(n-1):\n",
    "        f1, f2 = f2, f1 + f2\n",
    "\n",
    "    return f1\n",
    "\n",
    "\n",
    "with Timer() as timer:\n",
    "    for _ in range(1, 1000000):\n",
    "        fibonacci(1000)\n",
    "\n",
    "print(timer.elapsed)"
   ]
  },
  {
   "cell_type": "markdown",
   "id": "17c6018a",
   "metadata": {},
   "source": [
    "## <a class=\"anchor\" id=\"sum\" style=\"color:Violet\"> Tổng kết </a>"
   ]
  },
  {
   "cell_type": "markdown",
   "id": "f485692c",
   "metadata": {},
   "source": [
    "- Sử dụng Python context manager để định nghĩa runtime contexts khi muốn thực thi nó với lệnh `with`.\n",
    "- Implement hàm `__enter___()` và hàm `__exit__()` để support context manager protocol."
   ]
  }
 ],
 "metadata": {
  "kernelspec": {
   "display_name": "Python 3 (ipykernel)",
   "language": "python",
   "name": "python3"
  },
  "language_info": {
   "codemirror_mode": {
    "name": "ipython",
    "version": 3
   },
   "file_extension": ".py",
   "mimetype": "text/x-python",
   "name": "python",
   "nbconvert_exporter": "python",
   "pygments_lexer": "ipython3",
   "version": "3.10.9"
  }
 },
 "nbformat": 4,
 "nbformat_minor": 5
}
